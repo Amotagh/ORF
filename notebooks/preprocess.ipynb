{
 "cells": [
  {
   "cell_type": "code",
   "execution_count": 53,
   "id": "73006531",
   "metadata": {},
   "outputs": [],
   "source": [
    "import numpy as np\n",
    "import pandas as pd"
   ]
  },
  {
   "cell_type": "code",
   "execution_count": 54,
   "id": "b7e26a09",
   "metadata": {},
   "outputs": [],
   "source": [
    "def clean_text(project_title):\n",
    "    project_title={'project_title':[project_title]}\n",
    "    df=pd.DataFrame(project_title)\n",
    "    df.project_title=df.project_title.str.lower()\n",
    "    df.project_title=df.project_title.str.strip()\n",
    "    df.project_title=df.project_title.str.replace('[^\\w\\s]','')\n",
    "    text=df.project_title[0]\n",
    "    return text\n",
    "    "
   ]
  }
 ],
 "metadata": {
  "kernelspec": {
   "display_name": "Python 3 (ipykernel)",
   "language": "python",
   "name": "python3"
  },
  "language_info": {
   "codemirror_mode": {
    "name": "ipython",
    "version": 3
   },
   "file_extension": ".py",
   "mimetype": "text/x-python",
   "name": "python",
   "nbconvert_exporter": "python",
   "pygments_lexer": "ipython3",
   "version": "3.9.12"
  }
 },
 "nbformat": 4,
 "nbformat_minor": 5
}

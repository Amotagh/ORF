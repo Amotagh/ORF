{
 "cells": [
  {
   "cell_type": "markdown",
   "metadata": {},
   "source": [
    "## Ontario research project fund predictor \n",
    "\n",
    "The outline of this notebool includes:\n",
    "* 1. import the data\n",
    "* 2. split the data into train and test set\n",
    "* 3. make tf-idf for training dataset and use it for test set \n",
    "* 4. build a logistic regression on training tfidf data \n",
    "* 5. evaluate the model\n",
    "\n",
    "First, lets download all the required packages. \n"
   ]
  },
  {
   "cell_type": "code",
   "execution_count": 1,
   "metadata": {},
   "outputs": [],
   "source": [
    "import os\n",
    "import sys\n",
    "import pandas as pd\n",
    "import numpy as np\n",
    "import nltk\n",
    "\n",
    "from pyprojroot import here\n",
    "from sklearn.model_selection import train_test_split\n",
    "from sklearn.feature_extraction.text import TfidfVectorizer,CountVectorizer\n",
    "from nltk.corpus import stopwords\n",
    "from sklearn.linear_model import LogisticRegression\n",
    "from sklearn.metrics import confusion_matrix, accuracy_score\n",
    "from sklearn.model_selection import RandomizedSearchCV, GridSearchCV\n",
    "from sklearn.metrics import classification_report\n",
    "from joblib import dump,load"
   ]
  },
  {
   "cell_type": "markdown",
   "metadata": {},
   "source": [
    "# 1. Import the data\n",
    "\n",
    "I imported the data which was cleaned in data_cleaning.ipynb."
   ]
  },
  {
   "cell_type": "code",
   "execution_count": 2,
   "metadata": {
    "scrolled": true
   },
   "outputs": [
    {
     "data": {
      "text/plain": [
       "3134"
      ]
     },
     "execution_count": 2,
     "metadata": {},
     "output_type": "execute_result"
    }
   ],
   "source": [
    "# Read in the data in the previous step\n",
    "df = pd.read_pickle('..\\data\\processed\\data_clean.pkl')\n",
    "len(df)"
   ]
  },
  {
   "cell_type": "code",
   "execution_count": 3,
   "metadata": {
    "scrolled": true
   },
   "outputs": [
    {
     "data": {
      "text/plain": [
       "'density matrix renormalization group simulations of systems in condensed matter physics and quantum chemistry'"
      ]
     },
     "execution_count": 3,
     "metadata": {},
     "output_type": "execute_result"
    }
   ],
   "source": [
    "df.project_title[0]"
   ]
  },
  {
   "cell_type": "markdown",
   "metadata": {},
   "source": [
    "# 2. Split the data to train-test set"
   ]
  },
  {
   "cell_type": "markdown",
   "metadata": {},
   "source": [
    "Here the data was splited to train and test set. "
   ]
  },
  {
   "cell_type": "code",
   "execution_count": 4,
   "metadata": {},
   "outputs": [],
   "source": [
    "y6=df['two_labela_ontario_commitment']\n",
    "x=df['project_title']"
   ]
  },
  {
   "cell_type": "code",
   "execution_count": 5,
   "metadata": {},
   "outputs": [],
   "source": [
    "def split_data(x,y):\n",
    "    x_train,x_test,y_train,y_test=train_test_split(x,y,random_state=42)\n",
    "    return (x_train,x_test,y_train,y_test)"
   ]
  },
  {
   "cell_type": "code",
   "execution_count": 6,
   "metadata": {},
   "outputs": [],
   "source": [
    "x_train,x_test,y_train6,y_test6 =split_data(x,y6)"
   ]
  },
  {
   "cell_type": "code",
   "execution_count": 7,
   "metadata": {},
   "outputs": [
    {
     "data": {
      "text/plain": [
       "(2350, 784)"
      ]
     },
     "execution_count": 7,
     "metadata": {},
     "output_type": "execute_result"
    }
   ],
   "source": [
    "len(x_train),len(x_test)"
   ]
  },
  {
   "cell_type": "code",
   "execution_count": 8,
   "metadata": {},
   "outputs": [
    {
     "data": {
      "text/plain": [
       "pandas.core.series.Series"
      ]
     },
     "execution_count": 8,
     "metadata": {},
     "output_type": "execute_result"
    }
   ],
   "source": [
    "type(x_train)"
   ]
  },
  {
   "cell_type": "markdown",
   "metadata": {},
   "source": [
    "# 3.1. Make Tf-idf for training\n",
    "\n",
    "I used the TfidfVectorizer to convert the words to matrix of TF_IDF features."
   ]
  },
  {
   "cell_type": "code",
   "execution_count": 9,
   "metadata": {},
   "outputs": [],
   "source": [
    "#nltk.download('stopwords')"
   ]
  },
  {
   "cell_type": "code",
   "execution_count": 10,
   "metadata": {},
   "outputs": [],
   "source": [
    "tfidfvectorizer = TfidfVectorizer(analyzer='word', lowercase=True, max_df=0.9,min_df=2,ngram_range=(1,1),stop_words='english')"
   ]
  },
  {
   "cell_type": "code",
   "execution_count": 11,
   "metadata": {},
   "outputs": [],
   "source": [
    "tfidfvectorizer.fit(x_train)\n",
    "tfidf_train = tfidfvectorizer.transform(x_train)"
   ]
  },
  {
   "cell_type": "code",
   "execution_count": 12,
   "metadata": {},
   "outputs": [],
   "source": [
    "tfidf_test  = tfidfvectorizer.transform(x_test)"
   ]
  },
  {
   "cell_type": "code",
   "execution_count": 13,
   "metadata": {},
   "outputs": [],
   "source": [
    "#print(tfidf_train)"
   ]
  },
  {
   "cell_type": "code",
   "execution_count": 14,
   "metadata": {},
   "outputs": [
    {
     "name": "stdout",
     "output_type": "stream",
     "text": [
      "  (0, 811)\t0.2906315438540295\n",
      "  (0, 628)\t0.548280970453609\n",
      "  (0, 593)\t0.7841691674348539\n"
     ]
    }
   ],
   "source": [
    "test=[\"Laboratory for Forest Genomics\"]\n",
    "test1=tfidfvectorizer.transform(test)\n",
    "print(test1)"
   ]
  },
  {
   "cell_type": "code",
   "execution_count": 15,
   "metadata": {},
   "outputs": [
    {
     "data": {
      "text/plain": [
       "<1x1605 sparse matrix of type '<class 'numpy.float64'>'\n",
       "\twith 3 stored elements in Compressed Sparse Row format>"
      ]
     },
     "execution_count": 15,
     "metadata": {},
     "output_type": "execute_result"
    }
   ],
   "source": [
    "test1"
   ]
  },
  {
   "cell_type": "code",
   "execution_count": 16,
   "metadata": {},
   "outputs": [
    {
     "data": {
      "text/plain": [
       "((2350, 1605), (784, 1605))"
      ]
     },
     "execution_count": 16,
     "metadata": {},
     "output_type": "execute_result"
    }
   ],
   "source": [
    "tfidf_train.shape,tfidf_test.shape"
   ]
  },
  {
   "cell_type": "code",
   "execution_count": 17,
   "metadata": {},
   "outputs": [],
   "source": [
    "countvectorizer = CountVectorizer(analyzer= 'word', stop_words='english')\n",
    "count_wm=countvectorizer.fit_transform(x_train)"
   ]
  },
  {
   "cell_type": "code",
   "execution_count": 18,
   "metadata": {},
   "outputs": [
    {
     "name": "stderr",
     "output_type": "stream",
     "text": [
      "C:\\Users\\Atieh\\anaconda3\\lib\\site-packages\\sklearn\\utils\\deprecation.py:87: FutureWarning: Function get_feature_names is deprecated; get_feature_names is deprecated in 1.0 and will be removed in 1.2. Please use get_feature_names_out instead.\n",
      "  warnings.warn(msg, category=FutureWarning)\n"
     ]
    }
   ],
   "source": [
    "count_tokens = countvectorizer.get_feature_names()\n",
    "tfidf_tokens = tfidfvectorizer.get_feature_names()"
   ]
  },
  {
   "cell_type": "code",
   "execution_count": 19,
   "metadata": {},
   "outputs": [
    {
     "data": {
      "text/plain": [
       "((2350, 1605), (784, 1605))"
      ]
     },
     "execution_count": 19,
     "metadata": {},
     "output_type": "execute_result"
    }
   ],
   "source": [
    "tfidf_train.shape, tfidf_test.shape"
   ]
  },
  {
   "cell_type": "code",
   "execution_count": 20,
   "metadata": {},
   "outputs": [
    {
     "data": {
      "text/plain": [
       "1605"
      ]
     },
     "execution_count": 20,
     "metadata": {},
     "output_type": "execute_result"
    }
   ],
   "source": [
    "len(tfidf_tokens)"
   ]
  },
  {
   "cell_type": "code",
   "execution_count": 21,
   "metadata": {},
   "outputs": [
    {
     "data": {
      "text/plain": [
       "1605"
      ]
     },
     "execution_count": 21,
     "metadata": {},
     "output_type": "execute_result"
    }
   ],
   "source": [
    "len(set(tfidf_tokens))"
   ]
  },
  {
   "cell_type": "code",
   "execution_count": 22,
   "metadata": {},
   "outputs": [
    {
     "data": {
      "text/plain": [
       "['associated',\n",
       " 'assurance',\n",
       " 'asthma',\n",
       " 'astronomical',\n",
       " 'astronomy',\n",
       " 'astrophysics',\n",
       " 'asymmetric',\n",
       " 'atmosphere',\n",
       " 'atmospheric',\n",
       " 'atomic',\n",
       " 'atomicallyresolved',\n",
       " 'atoms',\n",
       " 'attention',\n",
       " 'attosecond',\n",
       " 'autism',\n",
       " 'automated',\n",
       " 'automation',\n",
       " 'automotive',\n",
       " 'autonomic',\n",
       " 'autonomous',\n",
       " 'avian',\n",
       " 'aviation',\n",
       " 'awareness',\n",
       " 'background',\n",
       " 'bacteria',\n",
       " 'bacterial',\n",
       " 'bacteriophages',\n",
       " 'balance',\n",
       " 'barriers',\n",
       " 'based',\n",
       " 'basic',\n",
       " 'basis',\n",
       " 'beamline',\n",
       " 'behavior',\n",
       " 'behavioral',\n",
       " 'behaviors',\n",
       " 'behaviour',\n",
       " 'behavioural',\n",
       " 'benefit',\n",
       " 'best',\n",
       " 'beta',\n",
       " 'beverage',\n",
       " 'big',\n",
       " 'bilingual',\n",
       " 'bioactive',\n",
       " 'bioanalytical',\n",
       " 'bioarchaeology',\n",
       " 'biochemical',\n",
       " 'biochemistry',\n",
       " 'biodiversity',\n",
       " 'bioengineering',\n",
       " 'biofilm',\n",
       " 'biofuel',\n",
       " 'biogeochemical',\n",
       " 'biogeochemistry',\n",
       " 'bioimaging',\n",
       " 'bioinformatics',\n",
       " 'biological',\n",
       " 'biology',\n",
       " 'biomarker',\n",
       " 'biomarkers',\n",
       " 'biomass',\n",
       " 'biomaterial',\n",
       " 'biomaterials',\n",
       " 'biomatrix',\n",
       " 'biomechanical',\n",
       " 'biomechanics',\n",
       " 'biomedical',\n",
       " 'biomedicine',\n",
       " 'biomimetic',\n",
       " 'biomolecular',\n",
       " 'bioorganic',\n",
       " 'biophotonics',\n",
       " 'biophysical',\n",
       " 'biophysics',\n",
       " 'biopolymers',\n",
       " 'bioproducts',\n",
       " 'biorefinery',\n",
       " 'biosensors',\n",
       " 'biotechnology',\n",
       " 'birds',\n",
       " 'block',\n",
       " 'blood',\n",
       " 'body',\n",
       " 'bone',\n",
       " 'boreal',\n",
       " 'brain',\n",
       " 'breast',\n",
       " 'breeding',\n",
       " 'bridging',\n",
       " 'broad',\n",
       " 'broadband',\n",
       " 'bronchopulmonary',\n",
       " 'bubble',\n",
       " 'building',\n",
       " 'built',\n",
       " 'bulk',\n",
       " 'buried',\n",
       " 'business',\n",
       " 'calcium',\n",
       " 'calibration',\n",
       " 'calorimetry',\n",
       " 'campus',\n",
       " 'canada',\n",
       " 'canadas',\n",
       " 'canadian',\n",
       " 'cancer',\n",
       " 'cancerrelated',\n",
       " 'cancers',\n",
       " 'cannabinoid',\n",
       " 'capabilities',\n",
       " 'capacity',\n",
       " 'capture',\n",
       " 'carbon',\n",
       " 'cardiac',\n",
       " 'cardiometabolic',\n",
       " 'cardiopulmonary',\n",
       " 'cardiovascular',\n",
       " 'care',\n",
       " 'carleton',\n",
       " 'cartilage',\n",
       " 'catalysis',\n",
       " 'catalyst',\n",
       " 'catalysts',\n",
       " 'catalytic',\n",
       " 'catchment',\n",
       " 'cattle',\n",
       " 'cell',\n",
       " 'cellmediated',\n",
       " 'cells',\n",
       " 'cellular',\n",
       " 'census',\n",
       " 'center',\n",
       " 'centre',\n",
       " 'cerebral',\n",
       " 'cerebrovascular',\n",
       " 'chair',\n",
       " 'chamber',\n",
       " 'chambers',\n",
       " 'change',\n",
       " 'changes',\n",
       " 'changing',\n",
       " 'channel',\n",
       " 'channels',\n",
       " 'characterization',\n",
       " 'characterizing',\n",
       " 'chemical',\n",
       " 'chemicals',\n",
       " 'chemistry',\n",
       " 'child',\n",
       " 'childhood',\n",
       " 'children',\n",
       " 'childrens',\n",
       " 'chiral',\n",
       " 'chromatin',\n",
       " 'chromatograph',\n",
       " 'chromatography',\n",
       " 'chromosome',\n",
       " 'chronic',\n",
       " 'cinema',\n",
       " 'circuit',\n",
       " 'circuits',\n",
       " 'cities',\n",
       " 'clean',\n",
       " 'climate',\n",
       " 'clinical',\n",
       " 'cloud',\n",
       " 'cluster',\n",
       " 'clustering',\n",
       " 'cns',\n",
       " 'co2',\n",
       " 'coating',\n",
       " 'cognition',\n",
       " 'cognitive',\n",
       " 'coherent',\n",
       " 'cold',\n",
       " 'collaboration',\n",
       " 'collaborative',\n",
       " 'collection',\n",
       " 'college',\n",
       " 'colon',\n",
       " 'combating',\n",
       " 'combined',\n",
       " 'combining',\n",
       " 'combustion',\n",
       " 'communication',\n",
       " 'communications',\n",
       " 'communities',\n",
       " 'community',\n",
       " 'comparative',\n",
       " 'complex',\n",
       " 'complexes',\n",
       " 'complexity',\n",
       " 'complications',\n",
       " 'components',\n",
       " 'composites',\n",
       " 'composition',\n",
       " 'compounds',\n",
       " 'comprehensive',\n",
       " 'computational',\n",
       " 'computer',\n",
       " 'computerassisted',\n",
       " 'computerintensive',\n",
       " 'computing',\n",
       " 'concepts',\n",
       " 'conditions',\n",
       " 'confocal',\n",
       " 'connecting',\n",
       " 'consequences',\n",
       " 'conservation',\n",
       " 'consortium',\n",
       " 'constraining',\n",
       " 'consumer',\n",
       " 'containment',\n",
       " 'contaminant',\n",
       " 'contaminants',\n",
       " 'contaminated',\n",
       " 'contamination',\n",
       " 'contemporary',\n",
       " 'content',\n",
       " 'context',\n",
       " 'continuous',\n",
       " 'continuum',\n",
       " 'contrast',\n",
       " 'contributions',\n",
       " 'control',\n",
       " 'controlled',\n",
       " 'convergence',\n",
       " 'conversion',\n",
       " 'copolymers',\n",
       " 'cord',\n",
       " 'core',\n",
       " 'correlates',\n",
       " 'corrosion',\n",
       " 'cortex',\n",
       " 'cortical',\n",
       " 'cost',\n",
       " 'coupled',\n",
       " 'cracking',\n",
       " 'crc',\n",
       " 'creating',\n",
       " 'creation',\n",
       " 'creative',\n",
       " 'critical',\n",
       " 'critically',\n",
       " 'crops',\n",
       " 'crosstalk',\n",
       " 'cryoelectron',\n",
       " 'cryogenic',\n",
       " 'cryospheric',\n",
       " 'crystal',\n",
       " 'crystallization',\n",
       " 'crystallography',\n",
       " 'culinary',\n",
       " 'cultural',\n",
       " 'culture',\n",
       " 'cuttingedge',\n",
       " 'cyberphysical',\n",
       " 'cybersecurity',\n",
       " 'cycle',\n",
       " 'cycles',\n",
       " 'cyclic',\n",
       " 'cytometer',\n",
       " 'cytometry',\n",
       " 'daily',\n",
       " 'damage',\n",
       " 'dark',\n",
       " 'data',\n",
       " 'database',\n",
       " 'dataintensive',\n",
       " 'death',\n",
       " 'decay',\n",
       " 'deciphering',\n",
       " 'decision',\n",
       " 'decoding',\n",
       " 'defining',\n",
       " 'deformation',\n",
       " 'degeneration',\n",
       " 'degradation',\n",
       " 'delivery',\n",
       " 'department',\n",
       " 'deposition',\n",
       " 'depression',\n",
       " 'des',\n",
       " 'design',\n",
       " 'detection',\n",
       " 'detector',\n",
       " 'detectors',\n",
       " 'deterioration',\n",
       " 'determinants',\n",
       " 'determination',\n",
       " 'determine',\n",
       " 'develop',\n",
       " 'developing',\n",
       " 'development',\n",
       " 'developmental',\n",
       " 'developments',\n",
       " 'device',\n",
       " 'devices',\n",
       " 'diabetes',\n",
       " 'diagnosis',\n",
       " 'diagnostic',\n",
       " 'diagnostics',\n",
       " 'diet',\n",
       " 'dietary',\n",
       " 'differences',\n",
       " 'differential',\n",
       " 'differentiation',\n",
       " 'diffraction',\n",
       " 'diffractometer',\n",
       " 'digital',\n",
       " 'dimensional',\n",
       " 'direct',\n",
       " 'discover',\n",
       " 'discoveries',\n",
       " 'discovering',\n",
       " 'discovery',\n",
       " 'disease',\n",
       " 'diseased',\n",
       " 'diseases',\n",
       " 'disorders',\n",
       " 'dissecting',\n",
       " 'dissection',\n",
       " 'dissemination',\n",
       " 'distributed',\n",
       " 'distribution',\n",
       " 'diversity',\n",
       " 'dna',\n",
       " 'domain',\n",
       " 'dose',\n",
       " 'double',\n",
       " 'drinking',\n",
       " 'drive',\n",
       " 'driver',\n",
       " 'driving',\n",
       " 'drosophila',\n",
       " 'drug',\n",
       " 'drugs',\n",
       " 'dynamic',\n",
       " 'dynamics',\n",
       " 'dysfunction',\n",
       " 'dysplasia',\n",
       " 'early',\n",
       " 'earth',\n",
       " 'earthquake',\n",
       " 'ecohydrology',\n",
       " 'ecological',\n",
       " 'ecology',\n",
       " 'economic',\n",
       " 'ecophysiology',\n",
       " 'ecosystem',\n",
       " 'ecosystems',\n",
       " 'edge',\n",
       " 'education',\n",
       " 'eeg',\n",
       " 'effect',\n",
       " 'effective',\n",
       " 'effects',\n",
       " 'efficacy',\n",
       " 'efficiency',\n",
       " 'electric',\n",
       " 'electrical',\n",
       " 'electrochemical',\n",
       " 'electrochemistry',\n",
       " 'electromagnetic',\n",
       " 'electron',\n",
       " 'electronic',\n",
       " 'electronics',\n",
       " 'electrophysiological',\n",
       " 'electrophysiology',\n",
       " 'elegans',\n",
       " 'element',\n",
       " 'elements',\n",
       " 'elucidate',\n",
       " 'elucidating',\n",
       " 'elucidation',\n",
       " 'embedded',\n",
       " 'embodied',\n",
       " 'embryonic',\n",
       " 'emergency',\n",
       " 'emerging',\n",
       " 'emission',\n",
       " 'emissions',\n",
       " 'emotional',\n",
       " 'emotions',\n",
       " 'en',\n",
       " 'enable',\n",
       " 'enabled',\n",
       " 'enabling',\n",
       " 'endocrine',\n",
       " 'endstations',\n",
       " 'energy',\n",
       " 'engineered',\n",
       " 'engineering',\n",
       " 'enhance',\n",
       " 'enhanced',\n",
       " 'enhancement',\n",
       " 'enhancing',\n",
       " 'entry',\n",
       " 'environment',\n",
       " 'environmental',\n",
       " 'environmentally',\n",
       " 'environments',\n",
       " 'enzymes',\n",
       " 'epidemic',\n",
       " 'epigenetic',\n",
       " 'epigenetics',\n",
       " 'epilepsy',\n",
       " 'epithelial',\n",
       " 'equipment',\n",
       " 'equity',\n",
       " 'era',\n",
       " 'ergonomics',\n",
       " 'establish',\n",
       " 'establishing',\n",
       " 'establishment',\n",
       " 'et',\n",
       " 'ethnography',\n",
       " 'evaluate',\n",
       " 'evaluating',\n",
       " 'evaluation',\n",
       " 'events',\n",
       " 'evidencebased',\n",
       " 'evolution',\n",
       " 'evolutionary',\n",
       " 'examining',\n",
       " 'excellence',\n",
       " 'exchange',\n",
       " 'exercise',\n",
       " 'existing',\n",
       " 'expanded',\n",
       " 'expanding',\n",
       " 'expansion',\n",
       " 'experience',\n",
       " 'experimental',\n",
       " 'experimentation',\n",
       " 'experiments',\n",
       " 'exploration',\n",
       " 'explore',\n",
       " 'exploring',\n",
       " 'expression',\n",
       " 'extending',\n",
       " 'extracellular',\n",
       " 'extraction',\n",
       " 'extreme',\n",
       " 'eye',\n",
       " 'fabrication',\n",
       " 'face',\n",
       " 'facilitate',\n",
       " 'facilities',\n",
       " 'facility',\n",
       " 'factor',\n",
       " 'factors',\n",
       " 'faculty',\n",
       " 'failure',\n",
       " 'fair',\n",
       " 'falls',\n",
       " 'families',\n",
       " 'fast',\n",
       " 'fat',\n",
       " 'fate',\n",
       " 'fault',\n",
       " 'features',\n",
       " 'feedback',\n",
       " 'femtosecond',\n",
       " 'fermentation',\n",
       " 'fetal',\n",
       " 'fibre',\n",
       " 'fibroblasts',\n",
       " 'fibrosis',\n",
       " 'field',\n",
       " 'fight',\n",
       " 'film',\n",
       " 'films',\n",
       " 'fish',\n",
       " 'fixation',\n",
       " 'flexible',\n",
       " 'flight',\n",
       " 'flow',\n",
       " 'flows',\n",
       " 'fluid',\n",
       " 'fluids',\n",
       " 'fluorescence',\n",
       " 'fluorescent',\n",
       " 'fluoroscopy',\n",
       " 'flux',\n",
       " 'focused',\n",
       " 'following',\n",
       " 'food',\n",
       " 'foods',\n",
       " 'force',\n",
       " 'forensic',\n",
       " 'forensics',\n",
       " 'forest',\n",
       " 'forests',\n",
       " 'formation',\n",
       " 'fossil',\n",
       " 'fracture',\n",
       " 'fracturing',\n",
       " 'frequency',\n",
       " 'freshwater',\n",
       " 'fuel',\n",
       " 'fullscale',\n",
       " 'function',\n",
       " 'functional',\n",
       " 'functionality',\n",
       " 'functionally',\n",
       " 'functions',\n",
       " 'fundamental',\n",
       " 'fungal',\n",
       " 'fusion',\n",
       " 'future',\n",
       " 'gait',\n",
       " 'gaming',\n",
       " 'gap',\n",
       " 'gas',\n",
       " 'gastrointestinal',\n",
       " 'gender',\n",
       " 'gene',\n",
       " 'generate',\n",
       " 'generation',\n",
       " 'genes',\n",
       " 'genetic',\n",
       " 'genetically',\n",
       " 'genetics',\n",
       " 'genome',\n",
       " 'genomes',\n",
       " 'genomic',\n",
       " 'genomics',\n",
       " 'geochemical',\n",
       " 'geographic',\n",
       " 'geologic',\n",
       " 'geological',\n",
       " 'geomatics',\n",
       " 'geophysical',\n",
       " 'geosynthetics',\n",
       " 'geotechnical',\n",
       " 'glacier',\n",
       " 'global',\n",
       " 'globalization',\n",
       " 'governance',\n",
       " 'governing',\n",
       " 'gpcr',\n",
       " 'gprotein',\n",
       " 'gpu',\n",
       " 'grant',\n",
       " 'graphene',\n",
       " 'gravimetry',\n",
       " 'gravity',\n",
       " 'great',\n",
       " 'green',\n",
       " 'greenhouse',\n",
       " 'grid',\n",
       " 'grids',\n",
       " 'groundwater',\n",
       " 'groundwatercoastal',\n",
       " 'groups',\n",
       " 'growth',\n",
       " 'guelph',\n",
       " 'guided',\n",
       " 'gut',\n",
       " 'hand',\n",
       " 'haptic',\n",
       " 'hardware',\n",
       " 'hardwareintheloop',\n",
       " 'harnessing',\n",
       " 'harvesting',\n",
       " 'health',\n",
       " 'healthcare',\n",
       " 'hearing',\n",
       " 'heart',\n",
       " 'hemodynamic',\n",
       " 'hemodynamics',\n",
       " 'hemostasis',\n",
       " 'heterogeneous',\n",
       " 'high',\n",
       " 'highcapacity',\n",
       " 'highcontent',\n",
       " 'highdimensional',\n",
       " 'higherorder',\n",
       " 'highperformance',\n",
       " 'highresolution',\n",
       " 'highspeed',\n",
       " 'highthroughput',\n",
       " 'history',\n",
       " 'hiv',\n",
       " 'holistic',\n",
       " 'homeostasis',\n",
       " 'horizons',\n",
       " 'hormonal',\n",
       " 'hormone',\n",
       " 'host',\n",
       " 'hostpathogen',\n",
       " 'hosts',\n",
       " 'house',\n",
       " 'human',\n",
       " 'humanities',\n",
       " 'humans',\n",
       " 'hybrid',\n",
       " 'hydraulic',\n",
       " 'hydrogen',\n",
       " 'hydrology',\n",
       " 'hyperpolarized',\n",
       " 'hyperspectral',\n",
       " 'hypertension',\n",
       " 'ice',\n",
       " 'identification',\n",
       " 'identify',\n",
       " 'identifying',\n",
       " 'identity',\n",
       " 'ii',\n",
       " 'ill',\n",
       " 'illness',\n",
       " 'image',\n",
       " 'imageguided',\n",
       " 'imaging',\n",
       " 'immersive',\n",
       " 'immune',\n",
       " 'immunity',\n",
       " 'impact',\n",
       " 'impacts',\n",
       " 'impairment',\n",
       " 'implant',\n",
       " 'implementation',\n",
       " 'implications',\n",
       " 'important',\n",
       " 'improve',\n",
       " 'improved',\n",
       " 'improving',\n",
       " 'increasing',\n",
       " 'indigenous',\n",
       " 'indirect',\n",
       " 'individual',\n",
       " 'induced',\n",
       " 'industrial',\n",
       " 'industries',\n",
       " 'industry',\n",
       " 'infant',\n",
       " 'infants',\n",
       " 'infection',\n",
       " 'infectious',\n",
       " 'inflammation',\n",
       " 'inflammatory',\n",
       " 'influence',\n",
       " 'information',\n",
       " 'infrared',\n",
       " 'infrastructure',\n",
       " 'initiative',\n",
       " 'injury',\n",
       " 'innate',\n",
       " 'innovation',\n",
       " 'innovations',\n",
       " 'innovative',\n",
       " 'inorganic',\n",
       " 'input',\n",
       " 'insights',\n",
       " 'insitu',\n",
       " 'instability',\n",
       " 'institute',\n",
       " 'instrument',\n",
       " 'instrumentation',\n",
       " 'insulin',\n",
       " 'integrated',\n",
       " 'integrating',\n",
       " 'integration',\n",
       " 'integrative',\n",
       " 'intelligence',\n",
       " 'intelligent',\n",
       " 'intense',\n",
       " 'intensive',\n",
       " 'interaction',\n",
       " 'interactions',\n",
       " 'interactive',\n",
       " 'interdisciplinary',\n",
       " 'interface',\n",
       " 'interfaces',\n",
       " 'interfacial',\n",
       " 'interference',\n",
       " 'interiors',\n",
       " 'international',\n",
       " 'internet',\n",
       " 'interpersonal',\n",
       " 'intervention',\n",
       " 'interventional',\n",
       " 'interventions',\n",
       " 'intestinal',\n",
       " 'intracellular',\n",
       " 'invasion',\n",
       " 'invasive',\n",
       " 'investigate',\n",
       " 'investigating',\n",
       " 'investigation',\n",
       " 'investigations',\n",
       " 'involved',\n",
       " 'involving',\n",
       " 'ion',\n",
       " 'ions',\n",
       " 'islet',\n",
       " 'isolation',\n",
       " 'isotope',\n",
       " 'isotopic',\n",
       " 'joining',\n",
       " 'joint',\n",
       " 'key',\n",
       " 'kidney',\n",
       " 'killer',\n",
       " 'knee',\n",
       " 'knowledge',\n",
       " 'la',\n",
       " 'lab',\n",
       " 'laboratories',\n",
       " 'laboratory',\n",
       " 'labs',\n",
       " 'lake',\n",
       " 'lakehead',\n",
       " 'lakes',\n",
       " 'land',\n",
       " 'landscape',\n",
       " 'language',\n",
       " 'large',\n",
       " 'largescale',\n",
       " 'laser',\n",
       " 'lateral',\n",
       " 'law',\n",
       " 'layered',\n",
       " 'leading',\n",
       " 'learning',\n",
       " 'legal',\n",
       " 'leukemic',\n",
       " 'level',\n",
       " 'levels',\n",
       " 'life',\n",
       " 'lifespan',\n",
       " 'light',\n",
       " 'lightweight',\n",
       " 'limits',\n",
       " 'link',\n",
       " 'linking',\n",
       " 'lipids',\n",
       " 'liquid',\n",
       " 'literature',\n",
       " 'live',\n",
       " 'livecell',\n",
       " 'living',\n",
       " 'load',\n",
       " 'loading',\n",
       " 'loads',\n",
       " 'local',\n",
       " 'loci',\n",
       " 'locomotion',\n",
       " 'locomotor',\n",
       " 'long',\n",
       " 'longitudinal',\n",
       " 'longterm',\n",
       " 'loss',\n",
       " 'low',\n",
       " 'lung',\n",
       " 'machine',\n",
       " 'machines',\n",
       " 'macromolecular',\n",
       " 'magnetic',\n",
       " 'making',\n",
       " 'mammalian',\n",
       " 'management',\n",
       " 'manipulating',\n",
       " 'manipulation',\n",
       " 'manufacture',\n",
       " 'manufacturing',\n",
       " 'map',\n",
       " 'mapping',\n",
       " 'marine',\n",
       " 'maritime',\n",
       " 'markers',\n",
       " 'mass',\n",
       " 'material',\n",
       " 'materials',\n",
       " 'maternal',\n",
       " 'mathematical',\n",
       " 'mathematics',\n",
       " 'matrix',\n",
       " 'matter',\n",
       " 'mcmaster',\n",
       " 'measurement',\n",
       " 'measurements',\n",
       " 'measuring',\n",
       " 'mechanical',\n",
       " 'mechanics',\n",
       " 'mechanism',\n",
       " 'mechanisms',\n",
       " 'mechanistic',\n",
       " 'media',\n",
       " 'mediated',\n",
       " 'medical',\n",
       " 'medicine',\n",
       " 'melanoma',\n",
       " 'membrane',\n",
       " 'membranes',\n",
       " 'memory',\n",
       " 'mental',\n",
       " 'metabolic',\n",
       " 'metabolism',\n",
       " 'metabolome',\n",
       " 'metabolomics',\n",
       " 'metal',\n",
       " 'metallic',\n",
       " 'metals',\n",
       " 'metamaterials',\n",
       " 'metastasis',\n",
       " 'methodologies',\n",
       " 'methods',\n",
       " 'mhz',\n",
       " 'mice',\n",
       " 'micro',\n",
       " 'microbeam',\n",
       " 'microbes',\n",
       " 'microbial',\n",
       " 'microbiology',\n",
       " 'microbiome',\n",
       " 'microbiota',\n",
       " 'microcellular',\n",
       " 'microdata',\n",
       " 'microenvironment',\n",
       " 'microfluidic',\n",
       " 'microfluidics',\n",
       " 'microorganisms',\n",
       " 'microparticles',\n",
       " 'microscale',\n",
       " 'microscope',\n",
       " 'microscopic',\n",
       " 'microscopy',\n",
       " 'microstructure',\n",
       " 'microsystems',\n",
       " 'microvascular',\n",
       " 'microwave',\n",
       " 'migration',\n",
       " 'milk',\n",
       " 'mind',\n",
       " 'mining',\n",
       " 'mitigating',\n",
       " 'mitochondrial',\n",
       " 'mixed',\n",
       " 'mixtures',\n",
       " 'mobile',\n",
       " 'mobility',\n",
       " 'mobilizing',\n",
       " 'model',\n",
       " 'modelbased',\n",
       " 'modeling',\n",
       " 'modelling',\n",
       " 'models',\n",
       " 'modern',\n",
       " 'modification',\n",
       " 'modifications',\n",
       " 'modulation',\n",
       " 'modulators',\n",
       " 'molecular',\n",
       " 'molecule',\n",
       " 'molecules',\n",
       " 'monitor',\n",
       " 'monitoring',\n",
       " 'monoclonal',\n",
       " 'monolayers',\n",
       " 'morphology',\n",
       " 'motion',\n",
       " 'motivation',\n",
       " 'motor',\n",
       " 'mouse',\n",
       " 'movement',\n",
       " 'movements',\n",
       " 'mri',\n",
       " 'mrs',\n",
       " 'multidimensional',\n",
       " 'multidisciplinary',\n",
       " 'multielement',\n",
       " 'multifunctional',\n",
       " 'multimaterial',\n",
       " 'multimedia',\n",
       " 'multimodal',\n",
       " 'multiphase',\n",
       " 'multiple',\n",
       " 'multiscale',\n",
       " 'multisensory',\n",
       " 'muscle',\n",
       " 'musculoskeletal',\n",
       " 'music',\n",
       " 'mutation',\n",
       " 'mutations',\n",
       " 'myogenic',\n",
       " 'nano',\n",
       " 'nanofabrication',\n",
       " 'nanomaterial',\n",
       " 'nanomaterials',\n",
       " 'nanoparticle',\n",
       " 'nanoparticles',\n",
       " 'nanophotonics',\n",
       " 'nanoscale',\n",
       " 'nanostructured',\n",
       " 'nanostructures',\n",
       " 'nanosystems',\n",
       " 'nanotechnology',\n",
       " 'national',\n",
       " 'natural',\n",
       " 'neonatal',\n",
       " 'network',\n",
       " 'networking',\n",
       " 'networks',\n",
       " 'neural',\n",
       " 'neurobiology',\n",
       " 'neurochemistry',\n",
       " 'neurocognitive',\n",
       " 'neurodegeneration',\n",
       " 'neurodegenerative',\n",
       " 'neuroendocrinology',\n",
       " 'neurogenesis',\n",
       " 'neurogenetics',\n",
       " 'neuroimaging',\n",
       " 'neurological',\n",
       " 'neuromodulation',\n",
       " 'neuromuscular',\n",
       " 'neuronal',\n",
       " 'neurons',\n",
       " 'neuroplasticity',\n",
       " 'neuroscience',\n",
       " 'neutrinos',\n",
       " 'neutron',\n",
       " 'new',\n",
       " 'nextgeneration',\n",
       " 'niagara',\n",
       " 'nickel',\n",
       " 'nipissing',\n",
       " 'nmda',\n",
       " 'nmr',\n",
       " 'noble',\n",
       " 'noninvasive',\n",
       " 'nonlinear',\n",
       " 'normal',\n",
       " 'north',\n",
       " 'northern',\n",
       " 'novel',\n",
       " 'nuclear',\n",
       " 'numerical',\n",
       " 'nutrient',\n",
       " 'nutrition',\n",
       " 'obesity',\n",
       " 'object',\n",
       " 'observation',\n",
       " 'observatory',\n",
       " 'observing',\n",
       " 'obstructive',\n",
       " 'occupational',\n",
       " 'older',\n",
       " 'oncogenic',\n",
       " 'oncology',\n",
       " 'online',\n",
       " 'onroad',\n",
       " 'ontario',\n",
       " 'ontarios',\n",
       " 'open',\n",
       " 'operating',\n",
       " 'operation',\n",
       " 'optical',\n",
       " 'optics',\n",
       " 'optimal',\n",
       " 'optimization',\n",
       " 'optimizing',\n",
       " 'optoelectronic',\n",
       " 'optoelectronics',\n",
       " 'oral',\n",
       " 'organ',\n",
       " 'organelle',\n",
       " 'organic',\n",
       " 'organisms',\n",
       " 'organization',\n",
       " 'organizational',\n",
       " 'organonachip',\n",
       " 'origins',\n",
       " 'orthopaedic',\n",
       " 'osteoarthritis',\n",
       " 'ottawa',\n",
       " 'outcomes',\n",
       " 'ovarian',\n",
       " 'overcoming',\n",
       " 'oxidation',\n",
       " 'oxygen',\n",
       " 'paediatric',\n",
       " 'pain',\n",
       " 'paleoecology',\n",
       " 'paradigm',\n",
       " 'parallel',\n",
       " 'parameters',\n",
       " 'participatory',\n",
       " 'particle',\n",
       " 'pathogenesis',\n",
       " 'pathogenic',\n",
       " 'pathogens',\n",
       " 'pathology',\n",
       " 'pathophysiology',\n",
       " 'pathway',\n",
       " 'pathways',\n",
       " 'patient',\n",
       " ...]"
      ]
     },
     "execution_count": 22,
     "metadata": {},
     "output_type": "execute_result"
    }
   ],
   "source": [
    "tfidf_tokens[100:]"
   ]
  },
  {
   "cell_type": "code",
   "execution_count": 23,
   "metadata": {},
   "outputs": [],
   "source": [
    "#print(tfidf_train) "
   ]
  },
  {
   "cell_type": "code",
   "execution_count": 24,
   "metadata": {},
   "outputs": [
    {
     "data": {
      "text/plain": [
       "(1605, 1605)"
      ]
     },
     "execution_count": 24,
     "metadata": {},
     "output_type": "execute_result"
    }
   ],
   "source": [
    "len(list(tfidfvectorizer.vocabulary_.keys())),len(set(list(tfidfvectorizer.vocabulary_.keys())))"
   ]
  },
  {
   "cell_type": "markdown",
   "metadata": {},
   "source": [
    "# 4. Model"
   ]
  },
  {
   "cell_type": "markdown",
   "metadata": {},
   "source": [
    "# 4.1 Logistic regression on two categories prediction and tf-idf "
   ]
  },
  {
   "cell_type": "code",
   "execution_count": 25,
   "metadata": {},
   "outputs": [
    {
     "data": {
      "text/plain": [
       "((2350,), (2350, 1605))"
      ]
     },
     "execution_count": 25,
     "metadata": {},
     "output_type": "execute_result"
    }
   ],
   "source": [
    "y_train6.shape, tfidf_train.shape"
   ]
  },
  {
   "cell_type": "code",
   "execution_count": 26,
   "metadata": {},
   "outputs": [
    {
     "data": {
      "text/plain": [
       "scipy.sparse.csr.csr_matrix"
      ]
     },
     "execution_count": 26,
     "metadata": {},
     "output_type": "execute_result"
    }
   ],
   "source": [
    "type(tfidf_train)"
   ]
  },
  {
   "cell_type": "code",
   "execution_count": 27,
   "metadata": {},
   "outputs": [
    {
     "data": {
      "text/plain": [
       "LogisticRegression()"
      ]
     },
     "execution_count": 27,
     "metadata": {},
     "output_type": "execute_result"
    }
   ],
   "source": [
    "# logistic regression\n",
    "logistic_model = LogisticRegression()\n",
    "logistic_model.fit(tfidf_train, y_train6)"
   ]
  },
  {
   "cell_type": "code",
   "execution_count": 28,
   "metadata": {},
   "outputs": [
    {
     "data": {
      "text/plain": [
       "0.8131914893617022"
      ]
     },
     "execution_count": 28,
     "metadata": {},
     "output_type": "execute_result"
    }
   ],
   "source": [
    "logistic_model.score(tfidf_train,y_train6)"
   ]
  },
  {
   "cell_type": "code",
   "execution_count": 29,
   "metadata": {},
   "outputs": [
    {
     "data": {
      "text/plain": [
       "0.5918367346938775"
      ]
     },
     "execution_count": 29,
     "metadata": {},
     "output_type": "execute_result"
    }
   ],
   "source": [
    "logistic_model.score(tfidf_test,y_test6)"
   ]
  },
  {
   "cell_type": "code",
   "execution_count": 30,
   "metadata": {},
   "outputs": [],
   "source": [
    "y_pred = logistic_model.predict(tfidf_test)"
   ]
  },
  {
   "cell_type": "code",
   "execution_count": 31,
   "metadata": {},
   "outputs": [
    {
     "data": {
      "text/plain": [
       "59.183673469387756"
      ]
     },
     "execution_count": 31,
     "metadata": {},
     "output_type": "execute_result"
    }
   ],
   "source": [
    "accuracy = accuracy_score(y_test6,y_pred)*100\n",
    "accuracy"
   ]
  },
  {
   "cell_type": "code",
   "execution_count": 32,
   "metadata": {},
   "outputs": [
    {
     "data": {
      "text/plain": [
       "array([[256, 155],\n",
       "       [165, 208]], dtype=int64)"
      ]
     },
     "execution_count": 32,
     "metadata": {},
     "output_type": "execute_result"
    }
   ],
   "source": [
    "confusion_mat = confusion_matrix(y_test6,y_pred)\n",
    "confusion_mat"
   ]
  },
  {
   "cell_type": "code",
   "execution_count": 33,
   "metadata": {},
   "outputs": [],
   "source": [
    "# Create a hyperparameter grid for LogisticRegression\n",
    "log_reg_grid = {\"C\": np.logspace(-4, 4, 20)}\n",
    "rs_log_reg = RandomizedSearchCV(LogisticRegression(),\n",
    "                                param_distributions=log_reg_grid)"
   ]
  },
  {
   "cell_type": "code",
   "execution_count": 34,
   "metadata": {},
   "outputs": [
    {
     "name": "stderr",
     "output_type": "stream",
     "text": [
      "C:\\Users\\Atieh\\anaconda3\\lib\\site-packages\\sklearn\\linear_model\\_logistic.py:814: ConvergenceWarning: lbfgs failed to converge (status=1):\n",
      "STOP: TOTAL NO. of ITERATIONS REACHED LIMIT.\n",
      "\n",
      "Increase the number of iterations (max_iter) or scale the data as shown in:\n",
      "    https://scikit-learn.org/stable/modules/preprocessing.html\n",
      "Please also refer to the documentation for alternative solver options:\n",
      "    https://scikit-learn.org/stable/modules/linear_model.html#logistic-regression\n",
      "  n_iter_i = _check_optimize_result(\n",
      "C:\\Users\\Atieh\\anaconda3\\lib\\site-packages\\sklearn\\linear_model\\_logistic.py:814: ConvergenceWarning: lbfgs failed to converge (status=1):\n",
      "STOP: TOTAL NO. of ITERATIONS REACHED LIMIT.\n",
      "\n",
      "Increase the number of iterations (max_iter) or scale the data as shown in:\n",
      "    https://scikit-learn.org/stable/modules/preprocessing.html\n",
      "Please also refer to the documentation for alternative solver options:\n",
      "    https://scikit-learn.org/stable/modules/linear_model.html#logistic-regression\n",
      "  n_iter_i = _check_optimize_result(\n",
      "C:\\Users\\Atieh\\anaconda3\\lib\\site-packages\\sklearn\\linear_model\\_logistic.py:814: ConvergenceWarning: lbfgs failed to converge (status=1):\n",
      "STOP: TOTAL NO. of ITERATIONS REACHED LIMIT.\n",
      "\n",
      "Increase the number of iterations (max_iter) or scale the data as shown in:\n",
      "    https://scikit-learn.org/stable/modules/preprocessing.html\n",
      "Please also refer to the documentation for alternative solver options:\n",
      "    https://scikit-learn.org/stable/modules/linear_model.html#logistic-regression\n",
      "  n_iter_i = _check_optimize_result(\n",
      "C:\\Users\\Atieh\\anaconda3\\lib\\site-packages\\sklearn\\linear_model\\_logistic.py:814: ConvergenceWarning: lbfgs failed to converge (status=1):\n",
      "STOP: TOTAL NO. of ITERATIONS REACHED LIMIT.\n",
      "\n",
      "Increase the number of iterations (max_iter) or scale the data as shown in:\n",
      "    https://scikit-learn.org/stable/modules/preprocessing.html\n",
      "Please also refer to the documentation for alternative solver options:\n",
      "    https://scikit-learn.org/stable/modules/linear_model.html#logistic-regression\n",
      "  n_iter_i = _check_optimize_result(\n",
      "C:\\Users\\Atieh\\anaconda3\\lib\\site-packages\\sklearn\\linear_model\\_logistic.py:814: ConvergenceWarning: lbfgs failed to converge (status=1):\n",
      "STOP: TOTAL NO. of ITERATIONS REACHED LIMIT.\n",
      "\n",
      "Increase the number of iterations (max_iter) or scale the data as shown in:\n",
      "    https://scikit-learn.org/stable/modules/preprocessing.html\n",
      "Please also refer to the documentation for alternative solver options:\n",
      "    https://scikit-learn.org/stable/modules/linear_model.html#logistic-regression\n",
      "  n_iter_i = _check_optimize_result(\n",
      "C:\\Users\\Atieh\\anaconda3\\lib\\site-packages\\sklearn\\linear_model\\_logistic.py:814: ConvergenceWarning: lbfgs failed to converge (status=1):\n",
      "STOP: TOTAL NO. of ITERATIONS REACHED LIMIT.\n",
      "\n",
      "Increase the number of iterations (max_iter) or scale the data as shown in:\n",
      "    https://scikit-learn.org/stable/modules/preprocessing.html\n",
      "Please also refer to the documentation for alternative solver options:\n",
      "    https://scikit-learn.org/stable/modules/linear_model.html#logistic-regression\n",
      "  n_iter_i = _check_optimize_result(\n",
      "C:\\Users\\Atieh\\anaconda3\\lib\\site-packages\\sklearn\\linear_model\\_logistic.py:814: ConvergenceWarning: lbfgs failed to converge (status=1):\n",
      "STOP: TOTAL NO. of ITERATIONS REACHED LIMIT.\n",
      "\n",
      "Increase the number of iterations (max_iter) or scale the data as shown in:\n",
      "    https://scikit-learn.org/stable/modules/preprocessing.html\n",
      "Please also refer to the documentation for alternative solver options:\n",
      "    https://scikit-learn.org/stable/modules/linear_model.html#logistic-regression\n",
      "  n_iter_i = _check_optimize_result(\n",
      "C:\\Users\\Atieh\\anaconda3\\lib\\site-packages\\sklearn\\linear_model\\_logistic.py:814: ConvergenceWarning: lbfgs failed to converge (status=1):\n",
      "STOP: TOTAL NO. of ITERATIONS REACHED LIMIT.\n",
      "\n",
      "Increase the number of iterations (max_iter) or scale the data as shown in:\n",
      "    https://scikit-learn.org/stable/modules/preprocessing.html\n",
      "Please also refer to the documentation for alternative solver options:\n",
      "    https://scikit-learn.org/stable/modules/linear_model.html#logistic-regression\n",
      "  n_iter_i = _check_optimize_result(\n",
      "C:\\Users\\Atieh\\anaconda3\\lib\\site-packages\\sklearn\\linear_model\\_logistic.py:814: ConvergenceWarning: lbfgs failed to converge (status=1):\n",
      "STOP: TOTAL NO. of ITERATIONS REACHED LIMIT.\n",
      "\n",
      "Increase the number of iterations (max_iter) or scale the data as shown in:\n",
      "    https://scikit-learn.org/stable/modules/preprocessing.html\n",
      "Please also refer to the documentation for alternative solver options:\n",
      "    https://scikit-learn.org/stable/modules/linear_model.html#logistic-regression\n",
      "  n_iter_i = _check_optimize_result(\n",
      "C:\\Users\\Atieh\\anaconda3\\lib\\site-packages\\sklearn\\linear_model\\_logistic.py:814: ConvergenceWarning: lbfgs failed to converge (status=1):\n",
      "STOP: TOTAL NO. of ITERATIONS REACHED LIMIT.\n",
      "\n",
      "Increase the number of iterations (max_iter) or scale the data as shown in:\n",
      "    https://scikit-learn.org/stable/modules/preprocessing.html\n",
      "Please also refer to the documentation for alternative solver options:\n",
      "    https://scikit-learn.org/stable/modules/linear_model.html#logistic-regression\n",
      "  n_iter_i = _check_optimize_result(\n",
      "C:\\Users\\Atieh\\anaconda3\\lib\\site-packages\\sklearn\\linear_model\\_logistic.py:814: ConvergenceWarning: lbfgs failed to converge (status=1):\n",
      "STOP: TOTAL NO. of ITERATIONS REACHED LIMIT.\n",
      "\n",
      "Increase the number of iterations (max_iter) or scale the data as shown in:\n",
      "    https://scikit-learn.org/stable/modules/preprocessing.html\n",
      "Please also refer to the documentation for alternative solver options:\n",
      "    https://scikit-learn.org/stable/modules/linear_model.html#logistic-regression\n",
      "  n_iter_i = _check_optimize_result(\n",
      "C:\\Users\\Atieh\\anaconda3\\lib\\site-packages\\sklearn\\linear_model\\_logistic.py:814: ConvergenceWarning: lbfgs failed to converge (status=1):\n",
      "STOP: TOTAL NO. of ITERATIONS REACHED LIMIT.\n",
      "\n",
      "Increase the number of iterations (max_iter) or scale the data as shown in:\n",
      "    https://scikit-learn.org/stable/modules/preprocessing.html\n",
      "Please also refer to the documentation for alternative solver options:\n",
      "    https://scikit-learn.org/stable/modules/linear_model.html#logistic-regression\n",
      "  n_iter_i = _check_optimize_result(\n",
      "C:\\Users\\Atieh\\anaconda3\\lib\\site-packages\\sklearn\\linear_model\\_logistic.py:814: ConvergenceWarning: lbfgs failed to converge (status=1):\n",
      "STOP: TOTAL NO. of ITERATIONS REACHED LIMIT.\n",
      "\n",
      "Increase the number of iterations (max_iter) or scale the data as shown in:\n",
      "    https://scikit-learn.org/stable/modules/preprocessing.html\n",
      "Please also refer to the documentation for alternative solver options:\n",
      "    https://scikit-learn.org/stable/modules/linear_model.html#logistic-regression\n",
      "  n_iter_i = _check_optimize_result(\n",
      "C:\\Users\\Atieh\\anaconda3\\lib\\site-packages\\sklearn\\linear_model\\_logistic.py:814: ConvergenceWarning: lbfgs failed to converge (status=1):\n",
      "STOP: TOTAL NO. of ITERATIONS REACHED LIMIT.\n",
      "\n",
      "Increase the number of iterations (max_iter) or scale the data as shown in:\n",
      "    https://scikit-learn.org/stable/modules/preprocessing.html\n",
      "Please also refer to the documentation for alternative solver options:\n",
      "    https://scikit-learn.org/stable/modules/linear_model.html#logistic-regression\n",
      "  n_iter_i = _check_optimize_result(\n",
      "C:\\Users\\Atieh\\anaconda3\\lib\\site-packages\\sklearn\\linear_model\\_logistic.py:814: ConvergenceWarning: lbfgs failed to converge (status=1):\n",
      "STOP: TOTAL NO. of ITERATIONS REACHED LIMIT.\n",
      "\n",
      "Increase the number of iterations (max_iter) or scale the data as shown in:\n",
      "    https://scikit-learn.org/stable/modules/preprocessing.html\n",
      "Please also refer to the documentation for alternative solver options:\n",
      "    https://scikit-learn.org/stable/modules/linear_model.html#logistic-regression\n",
      "  n_iter_i = _check_optimize_result(\n",
      "C:\\Users\\Atieh\\anaconda3\\lib\\site-packages\\sklearn\\linear_model\\_logistic.py:814: ConvergenceWarning: lbfgs failed to converge (status=1):\n",
      "STOP: TOTAL NO. of ITERATIONS REACHED LIMIT.\n",
      "\n",
      "Increase the number of iterations (max_iter) or scale the data as shown in:\n",
      "    https://scikit-learn.org/stable/modules/preprocessing.html\n",
      "Please also refer to the documentation for alternative solver options:\n",
      "    https://scikit-learn.org/stable/modules/linear_model.html#logistic-regression\n",
      "  n_iter_i = _check_optimize_result(\n",
      "C:\\Users\\Atieh\\anaconda3\\lib\\site-packages\\sklearn\\linear_model\\_logistic.py:814: ConvergenceWarning: lbfgs failed to converge (status=1):\n",
      "STOP: TOTAL NO. of ITERATIONS REACHED LIMIT.\n",
      "\n",
      "Increase the number of iterations (max_iter) or scale the data as shown in:\n",
      "    https://scikit-learn.org/stable/modules/preprocessing.html\n",
      "Please also refer to the documentation for alternative solver options:\n",
      "    https://scikit-learn.org/stable/modules/linear_model.html#logistic-regression\n",
      "  n_iter_i = _check_optimize_result(\n",
      "C:\\Users\\Atieh\\anaconda3\\lib\\site-packages\\sklearn\\linear_model\\_logistic.py:814: ConvergenceWarning: lbfgs failed to converge (status=1):\n",
      "STOP: TOTAL NO. of ITERATIONS REACHED LIMIT.\n",
      "\n",
      "Increase the number of iterations (max_iter) or scale the data as shown in:\n",
      "    https://scikit-learn.org/stable/modules/preprocessing.html\n",
      "Please also refer to the documentation for alternative solver options:\n",
      "    https://scikit-learn.org/stable/modules/linear_model.html#logistic-regression\n",
      "  n_iter_i = _check_optimize_result(\n",
      "C:\\Users\\Atieh\\anaconda3\\lib\\site-packages\\sklearn\\linear_model\\_logistic.py:814: ConvergenceWarning: lbfgs failed to converge (status=1):\n",
      "STOP: TOTAL NO. of ITERATIONS REACHED LIMIT.\n",
      "\n",
      "Increase the number of iterations (max_iter) or scale the data as shown in:\n",
      "    https://scikit-learn.org/stable/modules/preprocessing.html\n",
      "Please also refer to the documentation for alternative solver options:\n",
      "    https://scikit-learn.org/stable/modules/linear_model.html#logistic-regression\n",
      "  n_iter_i = _check_optimize_result(\n",
      "C:\\Users\\Atieh\\anaconda3\\lib\\site-packages\\sklearn\\linear_model\\_logistic.py:814: ConvergenceWarning: lbfgs failed to converge (status=1):\n",
      "STOP: TOTAL NO. of ITERATIONS REACHED LIMIT.\n",
      "\n",
      "Increase the number of iterations (max_iter) or scale the data as shown in:\n",
      "    https://scikit-learn.org/stable/modules/preprocessing.html\n",
      "Please also refer to the documentation for alternative solver options:\n",
      "    https://scikit-learn.org/stable/modules/linear_model.html#logistic-regression\n",
      "  n_iter_i = _check_optimize_result(\n"
     ]
    },
    {
     "data": {
      "text/plain": [
       "RandomizedSearchCV(estimator=LogisticRegression(),\n",
       "                   param_distributions={'C': array([1.00000000e-04, 2.63665090e-04, 6.95192796e-04, 1.83298071e-03,\n",
       "       4.83293024e-03, 1.27427499e-02, 3.35981829e-02, 8.85866790e-02,\n",
       "       2.33572147e-01, 6.15848211e-01, 1.62377674e+00, 4.28133240e+00,\n",
       "       1.12883789e+01, 2.97635144e+01, 7.84759970e+01, 2.06913808e+02,\n",
       "       5.45559478e+02, 1.43844989e+03, 3.79269019e+03, 1.00000000e+04])})"
      ]
     },
     "execution_count": 34,
     "metadata": {},
     "output_type": "execute_result"
    }
   ],
   "source": [
    "rs_log_reg.fit(tfidf_train, y_train6)"
   ]
  },
  {
   "cell_type": "code",
   "execution_count": 35,
   "metadata": {},
   "outputs": [
    {
     "data": {
      "text/plain": [
       "{'C': 0.08858667904100823}"
      ]
     },
     "execution_count": 35,
     "metadata": {},
     "output_type": "execute_result"
    }
   ],
   "source": [
    "rs_log_reg.best_params_"
   ]
  },
  {
   "cell_type": "markdown",
   "metadata": {},
   "source": [
    "# 5. Evaluate the model"
   ]
  },
  {
   "cell_type": "code",
   "execution_count": 36,
   "metadata": {},
   "outputs": [
    {
     "data": {
      "text/plain": [
       "0.745531914893617"
      ]
     },
     "execution_count": 36,
     "metadata": {},
     "output_type": "execute_result"
    }
   ],
   "source": [
    "rs_log_reg.score(tfidf_train, y_train6)"
   ]
  },
  {
   "cell_type": "code",
   "execution_count": 37,
   "metadata": {},
   "outputs": [
    {
     "name": "stdout",
     "output_type": "stream",
     "text": [
      "              precision    recall  f1-score   support\n",
      "\n",
      "           0       0.63      0.68      0.65       411\n",
      "           1       0.61      0.55      0.58       373\n",
      "\n",
      "    accuracy                           0.62       784\n",
      "   macro avg       0.62      0.62      0.62       784\n",
      "weighted avg       0.62      0.62      0.62       784\n",
      "\n"
     ]
    }
   ],
   "source": [
    "y_preds6=rs_log_reg.predict(tfidf_test)\n",
    "print(classification_report(y_test6, y_preds6))"
   ]
  },
  {
   "cell_type": "markdown",
   "metadata": {},
   "source": [
    "# Save the model"
   ]
  },
  {
   "cell_type": "code",
   "execution_count": 38,
   "metadata": {},
   "outputs": [
    {
     "data": {
      "text/plain": [
       "['model_tfidf.joblib']"
      ]
     },
     "execution_count": 38,
     "metadata": {},
     "output_type": "execute_result"
    }
   ],
   "source": [
    "dump(tfidfvectorizer,'model_tfidf.joblib')"
   ]
  },
  {
   "cell_type": "code",
   "execution_count": 39,
   "metadata": {},
   "outputs": [],
   "source": [
    "test=['Establishment of the Intelligent Visualization Laboratory']"
   ]
  },
  {
   "cell_type": "code",
   "execution_count": 40,
   "metadata": {},
   "outputs": [
    {
     "name": "stdout",
     "output_type": "stream",
     "text": [
      "  (0, 1569)\t0.6113856122212397\n",
      "  (0, 811)\t0.24252947424578042\n",
      "  (0, 767)\t0.5601910691705945\n",
      "  (0, 515)\t0.503560377027851\n"
     ]
    }
   ],
   "source": [
    "model_input=load('model_tfidf.joblib')\n",
    "test1=model_input.transform(test)\n",
    "print(test1)"
   ]
  },
  {
   "cell_type": "code",
   "execution_count": 41,
   "metadata": {},
   "outputs": [
    {
     "data": {
      "text/plain": [
       "['model.joblib']"
      ]
     },
     "execution_count": 41,
     "metadata": {},
     "output_type": "execute_result"
    }
   ],
   "source": [
    "dump(logistic_model,'model.joblib')"
   ]
  },
  {
   "cell_type": "code",
   "execution_count": 49,
   "metadata": {},
   "outputs": [],
   "source": [
    "model_logistic=load('model.joblib')"
   ]
  },
  {
   "cell_type": "code",
   "execution_count": 50,
   "metadata": {},
   "outputs": [
    {
     "data": {
      "text/plain": [
       "array([0])"
      ]
     },
     "execution_count": 50,
     "metadata": {},
     "output_type": "execute_result"
    }
   ],
   "source": [
    "pred=model_logistic.predict(test1)\n",
    "pred"
   ]
  },
  {
   "cell_type": "code",
   "execution_count": 62,
   "metadata": {},
   "outputs": [
    {
     "name": "stdout",
     "output_type": "stream",
     "text": [
      "The fund you will expected is in range of $ 5000 to $ 150000\n"
     ]
    }
   ],
   "source": [
    "if pred[0] == 0:\n",
    "    print ('The fund you will expected is in range of $ 5000 to $ 150000')\n",
    "else:\n",
    "    print ('The fund you will expected is in range of $ 150000 to $ 14000000')"
   ]
  },
  {
   "cell_type": "code",
   "execution_count": null,
   "metadata": {},
   "outputs": [],
   "source": [
    "def user_input(text):\n",
    "    data = \n",
    "    "
   ]
  },
  {
   "cell_type": "code",
   "execution_count": null,
   "metadata": {},
   "outputs": [],
   "source": [
    "test=['Establishment of the Intelligent Visualization Laboratory']"
   ]
  },
  {
   "cell_type": "code",
   "execution_count": null,
   "metadata": {},
   "outputs": [],
   "source": [
    "model_tfidf=load('model_tfidf.joblib')\n",
    "        data=model_tfidf.transform(text)\n",
    "        model_logistic=load('model.joblib')\n",
    "        pred = model_logistic.predict (data)\n",
    "        if pred[0] == 0:\n",
    "            return ('The fund you will expected is in range of $ 5000 to $ 150000')   \n",
    "        else:\n",
    "            return ('The fund you will expected is in range of $ 150000 to $ 14000000')"
   ]
  }
 ],
 "metadata": {
  "kernelspec": {
   "display_name": "Python 3 (ipykernel)",
   "language": "python",
   "name": "python3"
  },
  "language_info": {
   "codemirror_mode": {
    "name": "ipython",
    "version": 3
   },
   "file_extension": ".py",
   "mimetype": "text/x-python",
   "name": "python",
   "nbconvert_exporter": "python",
   "pygments_lexer": "ipython3",
   "version": "3.9.12"
  },
  "vscode": {
   "interpreter": {
    "hash": "28991586d9a3dbf419f9ca3c1fef6436be111cc8cc60bd833fbc92cb41390fa4"
   }
  }
 },
 "nbformat": 4,
 "nbformat_minor": 4
}

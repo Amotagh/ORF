{
 "cells": [
  {
   "cell_type": "markdown",
   "metadata": {},
   "source": [
    "# Model \n",
    "Here I used "
   ]
  },
  {
   "cell_type": "markdown",
   "metadata": {},
   "source": [
    "# import data"
   ]
  },
  {
   "cell_type": "code",
   "execution_count": 2,
   "metadata": {},
   "outputs": [
    {
     "data": {
      "text/html": [
       "<div>\n",
       "<style scoped>\n",
       "    .dataframe tbody tr th:only-of-type {\n",
       "        vertical-align: middle;\n",
       "    }\n",
       "\n",
       "    .dataframe tbody tr th {\n",
       "        vertical-align: top;\n",
       "    }\n",
       "\n",
       "    .dataframe thead th {\n",
       "        text-align: right;\n",
       "    }\n",
       "</style>\n",
       "<table border=\"1\" class=\"dataframe\">\n",
       "  <thead>\n",
       "    <tr style=\"text-align: right;\">\n",
       "      <th></th>\n",
       "      <th>project_title</th>\n",
       "      <th>project_description</th>\n",
       "      <th>area_primary</th>\n",
       "      <th>discipline_primary</th>\n",
       "      <th>approval_date</th>\n",
       "      <th>lead_research_institution</th>\n",
       "      <th>city</th>\n",
       "      <th>ontario_commitment</th>\n",
       "      <th>total_project_costs</th>\n",
       "      <th>keyword</th>\n",
       "      <th>year</th>\n",
       "      <th>month</th>\n",
       "    </tr>\n",
       "  </thead>\n",
       "  <tbody>\n",
       "    <tr>\n",
       "      <th>0</th>\n",
       "      <td>density matrix renormalization group simulatio...</td>\n",
       "      <td>proposed infrastructure to consist of a comput...</td>\n",
       "      <td>763</td>\n",
       "      <td>12300.0</td>\n",
       "      <td>2005-10-24</td>\n",
       "      <td>university of windsor</td>\n",
       "      <td>windsor</td>\n",
       "      <td>50000</td>\n",
       "      <td>175708</td>\n",
       "      <td>density matrix renormalization group numerical...</td>\n",
       "      <td>2005</td>\n",
       "      <td>10</td>\n",
       "    </tr>\n",
       "    <tr>\n",
       "      <th>1</th>\n",
       "      <td>adolescent depressive vulnerability through th...</td>\n",
       "      <td>the proposed infrastructure consisting of onsi...</td>\n",
       "      <td>4</td>\n",
       "      <td>15100.0</td>\n",
       "      <td>2005-07-22</td>\n",
       "      <td>university of toronto</td>\n",
       "      <td>toronto</td>\n",
       "      <td>59422</td>\n",
       "      <td>148557</td>\n",
       "      <td>depression adolescence cognitive vulnerability...</td>\n",
       "      <td>2005</td>\n",
       "      <td>7</td>\n",
       "    </tr>\n",
       "    <tr>\n",
       "      <th>2</th>\n",
       "      <td>autonomic computing laboratory</td>\n",
       "      <td>autonomic computing laboratory will enable res...</td>\n",
       "      <td>25</td>\n",
       "      <td>11800.0</td>\n",
       "      <td>2005-10-24</td>\n",
       "      <td>university of toronto</td>\n",
       "      <td>toronto</td>\n",
       "      <td>292551</td>\n",
       "      <td>731377</td>\n",
       "      <td>scaling availability adaptive selfmanaging sel...</td>\n",
       "      <td>2005</td>\n",
       "      <td>10</td>\n",
       "    </tr>\n",
       "    <tr>\n",
       "      <th>3</th>\n",
       "      <td>laboratory for forest genomics</td>\n",
       "      <td>the proposed facility  will enable the examina...</td>\n",
       "      <td>63</td>\n",
       "      <td>14400.0</td>\n",
       "      <td>2005-07-22</td>\n",
       "      <td>university of toronto</td>\n",
       "      <td>toronto</td>\n",
       "      <td>200000</td>\n",
       "      <td>500000</td>\n",
       "      <td>comparative functional genomics molecular biol...</td>\n",
       "      <td>2005</td>\n",
       "      <td>7</td>\n",
       "    </tr>\n",
       "    <tr>\n",
       "      <th>4</th>\n",
       "      <td>stoe ipds diffractometer  stateoftheart image ...</td>\n",
       "      <td>researchers at mcmaster university intend to u...</td>\n",
       "      <td>76</td>\n",
       "      <td>13000.0</td>\n",
       "      <td>2006-12-21</td>\n",
       "      <td>mcmaster university</td>\n",
       "      <td>hamilton</td>\n",
       "      <td>100000</td>\n",
       "      <td>261369</td>\n",
       "      <td>magnetocaloric materials for magnetic refriger...</td>\n",
       "      <td>2006</td>\n",
       "      <td>12</td>\n",
       "    </tr>\n",
       "  </tbody>\n",
       "</table>\n",
       "</div>"
      ],
      "text/plain": [
       "                                       project_title  \\\n",
       "0  density matrix renormalization group simulatio...   \n",
       "1  adolescent depressive vulnerability through th...   \n",
       "2                     autonomic computing laboratory   \n",
       "3                     laboratory for forest genomics   \n",
       "4  stoe ipds diffractometer  stateoftheart image ...   \n",
       "\n",
       "                                 project_description area_primary  \\\n",
       "0  proposed infrastructure to consist of a comput...          763   \n",
       "1  the proposed infrastructure consisting of onsi...            4   \n",
       "2  autonomic computing laboratory will enable res...           25   \n",
       "3  the proposed facility  will enable the examina...           63   \n",
       "4  researchers at mcmaster university intend to u...           76   \n",
       "\n",
       "   discipline_primary approval_date lead_research_institution      city  \\\n",
       "0             12300.0    2005-10-24     university of windsor   windsor   \n",
       "1             15100.0    2005-07-22     university of toronto   toronto   \n",
       "2             11800.0    2005-10-24     university of toronto   toronto   \n",
       "3             14400.0    2005-07-22     university of toronto   toronto   \n",
       "4             13000.0    2006-12-21       mcmaster university  hamilton   \n",
       "\n",
       "   ontario_commitment  total_project_costs  \\\n",
       "0               50000               175708   \n",
       "1               59422               148557   \n",
       "2              292551               731377   \n",
       "3              200000               500000   \n",
       "4              100000               261369   \n",
       "\n",
       "                                             keyword  year  month  \n",
       "0  density matrix renormalization group numerical...  2005     10  \n",
       "1  depression adolescence cognitive vulnerability...  2005      7  \n",
       "2  scaling availability adaptive selfmanaging sel...  2005     10  \n",
       "3  comparative functional genomics molecular biol...  2005      7  \n",
       "4  magnetocaloric materials for magnetic refriger...  2006     12  "
      ]
     },
     "execution_count": 2,
     "metadata": {},
     "output_type": "execute_result"
    }
   ],
   "source": [
    "# Read in the data in the previous step\n",
    "df = pd.read_pickle(r'..\\data\\processed\\data_clean.pkl')\n",
    "df.head()"
   ]
  },
  {
   "cell_type": "markdown",
   "metadata": {},
   "source": [
    "# Add a prediction column y"
   ]
  },
  {
   "cell_type": "code",
   "execution_count": 3,
   "metadata": {},
   "outputs": [
    {
     "data": {
      "text/plain": [
       "(11852, 58435136, 1473472.2000638163)"
      ]
     },
     "execution_count": 3,
     "metadata": {},
     "output_type": "execute_result"
    }
   ],
   "source": [
    "df.total_project_costs.min(),df.total_project_costs.max(),df.total_project_costs.mean()"
   ]
  },
  {
   "cell_type": "code",
   "execution_count": 4,
   "metadata": {},
   "outputs": [
    {
     "data": {
      "text/plain": [
       "0       False\n",
       "1       False\n",
       "2       False\n",
       "3       False\n",
       "4       False\n",
       "        ...  \n",
       "3129    False\n",
       "3130    False\n",
       "3131     True\n",
       "3132     True\n",
       "3133     True\n",
       "Name: total_project_costs, Length: 3134, dtype: bool"
      ]
     },
     "execution_count": 4,
     "metadata": {},
     "output_type": "execute_result"
    }
   ],
   "source": [
    "df['total_project_costs'] > df.total_project_costs.mean()"
   ]
  },
  {
   "cell_type": "code",
   "execution_count": 5,
   "metadata": {},
   "outputs": [],
   "source": [
    "df[\"y\"] = (df['total_project_costs'] > df.total_project_costs.mean()).astype(int)"
   ]
  },
  {
   "cell_type": "markdown",
   "metadata": {},
   "source": [
    "# Split the data to train-test"
   ]
  },
  {
   "cell_type": "code",
   "execution_count": 12,
   "metadata": {},
   "outputs": [],
   "source": [
    "from sklearn.model_selection import train_test_split\n",
    "import pandas as pd"
   ]
  },
  {
   "cell_type": "code",
   "execution_count": 15,
   "metadata": {},
   "outputs": [],
   "source": [
    "x=df.drop(['y'],axis=1)\n",
    "y=df['y']"
   ]
  },
  {
   "cell_type": "code",
   "execution_count": 17,
   "metadata": {},
   "outputs": [],
   "source": [
    "x_train,x_test,y_train,y_test =train_test_split(x,y)"
   ]
  },
  {
   "cell_type": "code",
   "execution_count": 18,
   "metadata": {},
   "outputs": [
    {
     "data": {
      "text/plain": [
       "(2350, 784)"
      ]
     },
     "execution_count": 18,
     "metadata": {},
     "output_type": "execute_result"
    }
   ],
   "source": [
    "len(x_train),len(x_test)"
   ]
  },
  {
   "cell_type": "code",
   "execution_count": 19,
   "metadata": {},
   "outputs": [
    {
     "data": {
      "text/plain": [
       "((2350, 12), (2350,))"
      ]
     },
     "execution_count": 19,
     "metadata": {},
     "output_type": "execute_result"
    }
   ],
   "source": [
    "x_train.shape,y_train.shape"
   ]
  },
  {
   "cell_type": "markdown",
   "metadata": {},
   "source": [
    "# Tekens"
   ]
  },
  {
   "cell_type": "code",
   "execution_count": 20,
   "metadata": {},
   "outputs": [],
   "source": [
    "tokens=x_train['project_title'][0].split()"
   ]
  },
  {
   "cell_type": "code",
   "execution_count": 27,
   "metadata": {},
   "outputs": [],
   "source": [
    "tokens=[]\n",
    "for text in x_train['project_title']:\n",
    "    tokens.append(list(set(text.split())))"
   ]
  },
  {
   "cell_type": "code",
   "execution_count": 28,
   "metadata": {},
   "outputs": [
    {
     "data": {
      "text/plain": [
       "2350"
      ]
     },
     "execution_count": 28,
     "metadata": {},
     "output_type": "execute_result"
    }
   ],
   "source": [
    "len(tokens)"
   ]
  },
  {
   "cell_type": "code",
   "execution_count": 30,
   "metadata": {},
   "outputs": [
    {
     "data": {
      "text/plain": [
       "[['iwater',\n",
       "  'environmental',\n",
       "  'water',\n",
       "  'research',\n",
       "  'laboratory',\n",
       "  'technologies',\n",
       "  'innovative',\n",
       "  'for']]"
      ]
     },
     "execution_count": 30,
     "metadata": {},
     "output_type": "execute_result"
    }
   ],
   "source": [
    "tokens[2345:2346]"
   ]
  },
  {
   "cell_type": "code",
   "execution_count": 31,
   "metadata": {},
   "outputs": [],
   "source": [
    "from sklearn.feature_extraction.text import TfidfVectorizer"
   ]
  },
  {
   "cell_type": "code",
   "execution_count": 32,
   "metadata": {},
   "outputs": [],
   "source": [
    "vectorizer = TfidfVectorizer(min_df=2)\n",
    "tfidf = vectorizer.fit_transform(x_train['project_title'])"
   ]
  },
  {
   "cell_type": "code",
   "execution_count": 63,
   "metadata": {},
   "outputs": [],
   "source": [
    "a=vectorizer.vocabulary_  # converting words to numbers\n",
    "a.get(2500)\n"
   ]
  },
  {
   "cell_type": "code",
   "execution_count": 62,
   "metadata": {},
   "outputs": [],
   "source": [
    "#print(tfidf) "
   ]
  },
  {
   "cell_type": "code",
   "execution_count": 36,
   "metadata": {},
   "outputs": [
    {
     "data": {
      "text/plain": [
       "array([1097, 1077,  744, ..., 1324,  605,   67], dtype=int32)"
      ]
     },
     "execution_count": 36,
     "metadata": {},
     "output_type": "execute_result"
    }
   ],
   "source": [
    "tfidf.nonzero()[1]"
   ]
  },
  {
   "cell_type": "code",
   "execution_count": 43,
   "metadata": {},
   "outputs": [
    {
     "data": {
      "text/plain": [
       "0.14902460565131467"
      ]
     },
     "execution_count": 43,
     "metadata": {},
     "output_type": "execute_result"
    }
   ],
   "source": [
    "tfidf[2349,67]"
   ]
  },
  {
   "cell_type": "code",
   "execution_count": 44,
   "metadata": {},
   "outputs": [
    {
     "data": {
      "text/plain": [
       "scipy.sparse.csr.csr_matrix"
      ]
     },
     "execution_count": 44,
     "metadata": {},
     "output_type": "execute_result"
    }
   ],
   "source": [
    "#fit change and fit the model\n",
    "#transform just return the value of known model\n",
    "type(tfidf)"
   ]
  },
  {
   "cell_type": "code",
   "execution_count": 45,
   "metadata": {},
   "outputs": [
    {
     "data": {
      "text/plain": [
       "numpy.ndarray"
      ]
     },
     "execution_count": 45,
     "metadata": {},
     "output_type": "execute_result"
    }
   ],
   "source": [
    "tfidf=tfidf.toarray()\n",
    "type(tfidf)"
   ]
  },
  {
   "cell_type": "code",
   "execution_count": 46,
   "metadata": {},
   "outputs": [
    {
     "data": {
      "text/plain": [
       "(2350, 1688)"
      ]
     },
     "execution_count": 46,
     "metadata": {},
     "output_type": "execute_result"
    }
   ],
   "source": [
    "tfidf.shape"
   ]
  },
  {
   "cell_type": "code",
   "execution_count": 47,
   "metadata": {},
   "outputs": [
    {
     "name": "stderr",
     "output_type": "stream",
     "text": [
      "C:\\Users\\Atieh\\anaconda3\\lib\\site-packages\\sklearn\\utils\\deprecation.py:87: FutureWarning: Function get_feature_names is deprecated; get_feature_names is deprecated in 1.0 and will be removed in 1.2. Please use get_feature_names_out instead.\n",
      "  warnings.warn(msg, category=FutureWarning)\n"
     ]
    }
   ],
   "source": [
    "words=vectorizer.get_feature_names()"
   ]
  },
  {
   "cell_type": "code",
   "execution_count": 48,
   "metadata": {},
   "outputs": [
    {
     "data": {
      "text/plain": [
       "1688"
      ]
     },
     "execution_count": 48,
     "metadata": {},
     "output_type": "execute_result"
    }
   ],
   "source": [
    "len(words)"
   ]
  },
  {
   "cell_type": "code",
   "execution_count": 49,
   "metadata": {},
   "outputs": [
    {
     "data": {
      "text/plain": [
       "array([  14,   67,  135, ...,  817, 1324, 1544], dtype=int64)"
      ]
     },
     "execution_count": 49,
     "metadata": {},
     "output_type": "execute_result"
    }
   ],
   "source": [
    "tfidf.nonzero()[1]"
   ]
  },
  {
   "cell_type": "code",
   "execution_count": 64,
   "metadata": {},
   "outputs": [
    {
     "name": "stdout",
     "output_type": "stream",
     "text": [
      "acoustic - 0.34905857864046735\n",
      "avian - 0.32579286308682875\n",
      "communication - 0.26498981477179895\n",
      "migration - 0.3043863982611362\n",
      "networks - 0.24573066496925672\n",
      "northern - 0.31748896977702895\n",
      "ontario - 0.2757562168758446\n",
      "recording - 0.31748896977702895\n",
      "studying - 0.2543497520501521\n",
      "system - 0.2049501136796316\n",
      "technology - 0.22001897549835547\n",
      "wireless - 0.26498981477179895\n",
      "ontario - 0.2757562168758446\n",
      "studying - 0.2543497520501521\n",
      "system - 0.2049501136796316\n",
      "technology - 0.22001897549835547\n",
      "communication - 0.26498981477179895\n",
      "system - 0.2049501136796316\n",
      "networks - 0.24573066496925672\n",
      "wireless - 0.26498981477179895\n",
      "networks - 0.24573066496925672\n",
      "system - 0.2049501136796316\n",
      "communication - 0.26498981477179895\n",
      "ontario - 0.2757562168758446\n",
      "technology - 0.22001897549835547\n",
      "system - 0.2049501136796316\n",
      "communication - 0.26498981477179895\n",
      "networks - 0.24573066496925672\n",
      "technology - 0.22001897549835547\n",
      "technology - 0.22001897549835547\n",
      "system - 0.2049501136796316\n",
      "system - 0.2049501136796316\n",
      "networks - 0.24573066496925672\n",
      "wireless - 0.26498981477179895\n",
      "technology - 0.22001897549835547\n",
      "studying - 0.2543497520501521\n",
      "networks - 0.24573066496925672\n",
      "recording - 0.31748896977702895\n",
      "system - 0.2049501136796316\n",
      "studying - 0.2543497520501521\n",
      "communication - 0.26498981477179895\n",
      "migration - 0.3043863982611362\n",
      "system - 0.2049501136796316\n",
      "system - 0.2049501136796316\n",
      "ontario - 0.2757562168758446\n",
      "system - 0.2049501136796316\n",
      "technology - 0.22001897549835547\n",
      "technology - 0.22001897549835547\n",
      "system - 0.2049501136796316\n",
      "communication - 0.26498981477179895\n",
      "ontario - 0.2757562168758446\n",
      "wireless - 0.26498981477179895\n",
      "studying - 0.2543497520501521\n",
      "networks - 0.24573066496925672\n",
      "networks - 0.24573066496925672\n",
      "technology - 0.22001897549835547\n",
      "system - 0.2049501136796316\n",
      "communication - 0.26498981477179895\n",
      "system - 0.2049501136796316\n",
      "technology - 0.22001897549835547\n",
      "studying - 0.2543497520501521\n",
      "technology - 0.22001897549835547\n",
      "system - 0.2049501136796316\n",
      "technology - 0.22001897549835547\n",
      "system - 0.2049501136796316\n",
      "wireless - 0.26498981477179895\n",
      "networks - 0.24573066496925672\n",
      "recording - 0.31748896977702895\n",
      "system - 0.2049501136796316\n",
      "technology - 0.22001897549835547\n",
      "networks - 0.24573066496925672\n",
      "migration - 0.3043863982611362\n",
      "ontario - 0.2757562168758446\n",
      "technology - 0.22001897549835547\n",
      "technology - 0.22001897549835547\n",
      "system - 0.2049501136796316\n",
      "networks - 0.24573066496925672\n",
      "technology - 0.22001897549835547\n",
      "technology - 0.22001897549835547\n",
      "system - 0.2049501136796316\n",
      "networks - 0.24573066496925672\n",
      "technology - 0.22001897549835547\n",
      "technology - 0.22001897549835547\n",
      "system - 0.2049501136796316\n",
      "northern - 0.31748896977702895\n",
      "studying - 0.2543497520501521\n",
      "networks - 0.24573066496925672\n",
      "networks - 0.24573066496925672\n",
      "technology - 0.22001897549835547\n",
      "technology - 0.22001897549835547\n",
      "acoustic - 0.34905857864046735\n",
      "system - 0.2049501136796316\n",
      "system - 0.2049501136796316\n",
      "studying - 0.2543497520501521\n",
      "northern - 0.31748896977702895\n",
      "ontario - 0.2757562168758446\n",
      "technology - 0.22001897549835547\n",
      "wireless - 0.26498981477179895\n",
      "system - 0.2049501136796316\n",
      "system - 0.2049501136796316\n",
      "migration - 0.3043863982611362\n",
      "technology - 0.22001897549835547\n",
      "studying - 0.2543497520501521\n",
      "system - 0.2049501136796316\n",
      "technology - 0.22001897549835547\n",
      "system - 0.2049501136796316\n",
      "system - 0.2049501136796316\n",
      "technology - 0.22001897549835547\n",
      "system - 0.2049501136796316\n",
      "studying - 0.2543497520501521\n",
      "ontario - 0.2757562168758446\n",
      "technology - 0.22001897549835547\n",
      "wireless - 0.26498981477179895\n",
      "technology - 0.22001897549835547\n",
      "wireless - 0.26498981477179895\n",
      "networks - 0.24573066496925672\n",
      "communication - 0.26498981477179895\n",
      "studying - 0.2543497520501521\n",
      "technology - 0.22001897549835547\n",
      "studying - 0.2543497520501521\n",
      "system - 0.2049501136796316\n",
      "studying - 0.2543497520501521\n",
      "technology - 0.22001897549835547\n",
      "networks - 0.24573066496925672\n",
      "system - 0.2049501136796316\n",
      "system - 0.2049501136796316\n",
      "technology - 0.22001897549835547\n",
      "technology - 0.22001897549835547\n",
      "wireless - 0.26498981477179895\n",
      "avian - 0.32579286308682875\n",
      "system - 0.2049501136796316\n",
      "system - 0.2049501136796316\n",
      "migration - 0.3043863982611362\n",
      "technology - 0.22001897549835547\n",
      "technology - 0.22001897549835547\n",
      "system - 0.2049501136796316\n",
      "technology - 0.22001897549835547\n",
      "networks - 0.24573066496925672\n",
      "networks - 0.24573066496925672\n",
      "wireless - 0.26498981477179895\n",
      "communication - 0.26498981477179895\n",
      "wireless - 0.26498981477179895\n",
      "technology - 0.22001897549835547\n",
      "technology - 0.22001897549835547\n",
      "avian - 0.32579286308682875\n",
      "northern - 0.31748896977702895\n",
      "ontario - 0.2757562168758446\n",
      "technology - 0.22001897549835547\n",
      "studying - 0.2543497520501521\n",
      "system - 0.2049501136796316\n",
      "communication - 0.26498981477179895\n",
      "communication - 0.26498981477179895\n",
      "communication - 0.26498981477179895\n",
      "studying - 0.2543497520501521\n",
      "system - 0.2049501136796316\n",
      "studying - 0.2543497520501521\n",
      "system - 0.2049501136796316\n",
      "system - 0.2049501136796316\n",
      "studying - 0.2543497520501521\n",
      "system - 0.2049501136796316\n",
      "communication - 0.26498981477179895\n",
      "system - 0.2049501136796316\n",
      "system - 0.2049501136796316\n",
      "technology - 0.22001897549835547\n",
      "technology - 0.22001897549835547\n",
      "system - 0.2049501136796316\n",
      "system - 0.2049501136796316\n",
      "technology - 0.22001897549835547\n",
      "system - 0.2049501136796316\n",
      "networks - 0.24573066496925672\n",
      "wireless - 0.26498981477179895\n",
      "communication - 0.26498981477179895\n",
      "wireless - 0.26498981477179895\n",
      "system - 0.2049501136796316\n",
      "networks - 0.24573066496925672\n",
      "studying - 0.2543497520501521\n",
      "communication - 0.26498981477179895\n",
      "networks - 0.24573066496925672\n",
      "system - 0.2049501136796316\n",
      "system - 0.2049501136796316\n",
      "system - 0.2049501136796316\n",
      "communication - 0.26498981477179895\n",
      "ontario - 0.2757562168758446\n",
      "system - 0.2049501136796316\n",
      "technology - 0.22001897549835547\n",
      "wireless - 0.26498981477179895\n",
      "system - 0.2049501136796316\n",
      "communication - 0.26498981477179895\n",
      "system - 0.2049501136796316\n",
      "technology - 0.22001897549835547\n",
      "networks - 0.24573066496925672\n",
      "technology - 0.22001897549835547\n",
      "system - 0.2049501136796316\n",
      "networks - 0.24573066496925672\n",
      "ontario - 0.2757562168758446\n",
      "system - 0.2049501136796316\n",
      "technology - 0.22001897549835547\n",
      "recording - 0.31748896977702895\n",
      "ontario - 0.2757562168758446\n",
      "ontario - 0.2757562168758446\n",
      "studying - 0.2543497520501521\n",
      "northern - 0.31748896977702895\n",
      "migration - 0.3043863982611362\n",
      "system - 0.2049501136796316\n",
      "ontario - 0.2757562168758446\n",
      "system - 0.2049501136796316\n",
      "technology - 0.22001897549835547\n",
      "networks - 0.24573066496925672\n",
      "studying - 0.2543497520501521\n",
      "system - 0.2049501136796316\n",
      "technology - 0.22001897549835547\n",
      "communication - 0.26498981477179895\n",
      "system - 0.2049501136796316\n",
      "avian - 0.32579286308682875\n",
      "networks - 0.24573066496925672\n",
      "wireless - 0.26498981477179895\n",
      "system - 0.2049501136796316\n",
      "technology - 0.22001897549835547\n",
      "system - 0.2049501136796316\n",
      "technology - 0.22001897549835547\n",
      "studying - 0.2543497520501521\n",
      "networks - 0.24573066496925672\n",
      "system - 0.2049501136796316\n",
      "studying - 0.2543497520501521\n",
      "migration - 0.3043863982611362\n",
      "system - 0.2049501136796316\n",
      "system - 0.2049501136796316\n",
      "networks - 0.24573066496925672\n",
      "wireless - 0.26498981477179895\n",
      "networks - 0.24573066496925672\n",
      "technology - 0.22001897549835547\n",
      "studying - 0.2543497520501521\n",
      "system - 0.2049501136796316\n",
      "system - 0.2049501136796316\n",
      "recording - 0.31748896977702895\n",
      "wireless - 0.26498981477179895\n",
      "system - 0.2049501136796316\n",
      "wireless - 0.26498981477179895\n",
      "system - 0.2049501136796316\n",
      "system - 0.2049501136796316\n",
      "system - 0.2049501136796316\n",
      "system - 0.2049501136796316\n",
      "system - 0.2049501136796316\n",
      "technology - 0.22001897549835547\n"
     ]
    }
   ],
   "source": [
    "for col in tfidf.nonzero()[1]:\n",
    "    if tfidf[0,col] > 0.2:\n",
    "        print (words[col], '-', tfidf[0,col])"
   ]
  },
  {
   "cell_type": "code",
   "execution_count": 65,
   "metadata": {},
   "outputs": [
    {
     "data": {
      "text/plain": [
       "(array([   0,    0,    0, ..., 2349, 2349, 2349], dtype=int64),\n",
       " array([  14,   67,  135, ...,  817, 1324, 1544], dtype=int64))"
      ]
     },
     "execution_count": 65,
     "metadata": {},
     "output_type": "execute_result"
    }
   ],
   "source": [
    "import numpy as np\n",
    "np.nonzero(tfidf)\n"
   ]
  },
  {
   "cell_type": "code",
   "execution_count": 66,
   "metadata": {},
   "outputs": [
    {
     "data": {
      "text/plain": [
       "array([[0., 0., 0., ..., 0., 0., 0.],\n",
       "       [0., 0., 0., ..., 0., 0., 0.],\n",
       "       [0., 0., 0., ..., 0., 0., 0.],\n",
       "       ...,\n",
       "       [0., 0., 0., ..., 0., 0., 0.],\n",
       "       [0., 0., 0., ..., 0., 0., 0.],\n",
       "       [0., 0., 0., ..., 0., 0., 0.]])"
      ]
     },
     "execution_count": 66,
     "metadata": {},
     "output_type": "execute_result"
    }
   ],
   "source": [
    "tfidf"
   ]
  },
  {
   "cell_type": "markdown",
   "metadata": {},
   "source": [
    "# Model"
   ]
  },
  {
   "cell_type": "code",
   "execution_count": 67,
   "metadata": {},
   "outputs": [],
   "source": [
    "x_train=tfidf"
   ]
  },
  {
   "cell_type": "code",
   "execution_count": 68,
   "metadata": {},
   "outputs": [
    {
     "data": {
      "text/plain": [
       "LogisticRegression()"
      ]
     },
     "execution_count": 68,
     "metadata": {},
     "output_type": "execute_result"
    }
   ],
   "source": [
    "from sklearn.linear_model import LogisticRegression\n",
    "model = LogisticRegression()\n",
    "model.fit(x_train,y_train)"
   ]
  },
  {
   "cell_type": "code",
   "execution_count": null,
   "metadata": {},
   "outputs": [],
   "source": []
  },
  {
   "cell_type": "code",
   "execution_count": null,
   "metadata": {},
   "outputs": [],
   "source": []
  },
  {
   "cell_type": "code",
   "execution_count": null,
   "metadata": {},
   "outputs": [],
   "source": []
  }
 ],
 "metadata": {
  "kernelspec": {
   "display_name": "Python 3 (ipykernel)",
   "language": "python",
   "name": "python3"
  },
  "language_info": {
   "codemirror_mode": {
    "name": "ipython",
    "version": 3
   },
   "file_extension": ".py",
   "mimetype": "text/x-python",
   "name": "python",
   "nbconvert_exporter": "python",
   "pygments_lexer": "ipython3",
   "version": "3.9.12"
  }
 },
 "nbformat": 4,
 "nbformat_minor": 4
}

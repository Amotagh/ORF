{
 "cells": [
  {
   "cell_type": "markdown",
   "metadata": {},
   "source": [
    "# Model \n"
   ]
  },
  {
   "cell_type": "markdown",
   "metadata": {},
   "source": [
    "# import data"
   ]
  },
  {
   "cell_type": "code",
   "execution_count": 69,
   "metadata": {},
   "outputs": [],
   "source": [
    "import os\n",
    "import sys\n",
    "from pyprojroot import here\n",
    "\n",
    "import pandas as pd"
   ]
  },
  {
   "cell_type": "code",
   "execution_count": 70,
   "metadata": {},
   "outputs": [
    {
     "data": {
      "text/html": [
       "<div>\n",
       "<style scoped>\n",
       "    .dataframe tbody tr th:only-of-type {\n",
       "        vertical-align: middle;\n",
       "    }\n",
       "\n",
       "    .dataframe tbody tr th {\n",
       "        vertical-align: top;\n",
       "    }\n",
       "\n",
       "    .dataframe thead th {\n",
       "        text-align: right;\n",
       "    }\n",
       "</style>\n",
       "<table border=\"1\" class=\"dataframe\">\n",
       "  <thead>\n",
       "    <tr style=\"text-align: right;\">\n",
       "      <th></th>\n",
       "      <th>0</th>\n",
       "      <th>1</th>\n",
       "      <th>2</th>\n",
       "      <th>3</th>\n",
       "      <th>4</th>\n",
       "      <th>5</th>\n",
       "      <th>6</th>\n",
       "      <th>7</th>\n",
       "      <th>8</th>\n",
       "      <th>9</th>\n",
       "      <th>...</th>\n",
       "      <th>3124</th>\n",
       "      <th>3125</th>\n",
       "      <th>3126</th>\n",
       "      <th>3127</th>\n",
       "      <th>3128</th>\n",
       "      <th>3129</th>\n",
       "      <th>3130</th>\n",
       "      <th>3131</th>\n",
       "      <th>3132</th>\n",
       "      <th>3133</th>\n",
       "    </tr>\n",
       "  </thead>\n",
       "  <tbody>\n",
       "    <tr>\n",
       "      <th>project_title</th>\n",
       "      <td>density matrix renormalization group simulatio...</td>\n",
       "      <td>adolescent depressive vulnerability through th...</td>\n",
       "      <td>autonomic computing laboratory</td>\n",
       "      <td>laboratory for forest genomics</td>\n",
       "      <td>stoe ipds diffractometer  stateoftheart image ...</td>\n",
       "      <td>infrastructure to investigate the role of t ly...</td>\n",
       "      <td>malleable costeffective highperformance comput...</td>\n",
       "      <td>cold regions biogeochemical research</td>\n",
       "      <td>sexual health research facility</td>\n",
       "      <td>role of vagal afferents in nutrient signalling...</td>\n",
       "      <td>...</td>\n",
       "      <td>gene therapy development for musculoskeletal d...</td>\n",
       "      <td>surviving memory in postwar el salvador a coll...</td>\n",
       "      <td>mapping stories global research lab</td>\n",
       "      <td>speciation analyses for elucidating molecular ...</td>\n",
       "      <td>the climatedatadriven design cd3 facility for ...</td>\n",
       "      <td>establishment of the intelligent visualization...</td>\n",
       "      <td>infrastructure for the catalytic synthesis of ...</td>\n",
       "      <td>niagara college nextgen greenhouse excellence</td>\n",
       "      <td>lambton water centre</td>\n",
       "      <td>cambrian college</td>\n",
       "    </tr>\n",
       "    <tr>\n",
       "      <th>project_description</th>\n",
       "      <td>proposed infrastructure to consist of a comput...</td>\n",
       "      <td>the proposed infrastructure consisting of onsi...</td>\n",
       "      <td>autonomic computing laboratory will enable res...</td>\n",
       "      <td>the proposed facility  will enable the examina...</td>\n",
       "      <td>researchers at mcmaster university intend to u...</td>\n",
       "      <td>allergic and autoimmune diseases such as asthm...</td>\n",
       "      <td>a malleable costeffective highperformance comp...</td>\n",
       "      <td>the proposed research will investigate the bio...</td>\n",
       "      <td>the research infrastructure is required for th...</td>\n",
       "      <td>the objective of the research is to understand...</td>\n",
       "      <td>...</td>\n",
       "      <td>this proposal will identify diseasemodifying g...</td>\n",
       "      <td>surviving memory in postwar el salvador is an ...</td>\n",
       "      <td>his application requests infrastructure to est...</td>\n",
       "      <td>selenium se is an important contaminant releas...</td>\n",
       "      <td>this proposal outlines the equipment necessary...</td>\n",
       "      <td>this application is for funds to develop the i...</td>\n",
       "      <td>the proposed project will develop efficient co...</td>\n",
       "      <td>niagara college looks to expand upon strategic...</td>\n",
       "      <td>through this orf request lambton college will ...</td>\n",
       "      <td>through the battery electric vehicle lab bevl ...</td>\n",
       "    </tr>\n",
       "    <tr>\n",
       "      <th>area_primary</th>\n",
       "      <td>763</td>\n",
       "      <td>4</td>\n",
       "      <td>25</td>\n",
       "      <td>63</td>\n",
       "      <td>76</td>\n",
       "      <td>41</td>\n",
       "      <td>76</td>\n",
       "      <td>310</td>\n",
       "      <td>4</td>\n",
       "      <td>49</td>\n",
       "      <td>...</td>\n",
       "      <td>41</td>\n",
       "      <td>87</td>\n",
       "      <td>87</td>\n",
       "      <td>34</td>\n",
       "      <td>23</td>\n",
       "      <td>10</td>\n",
       "      <td>74</td>\n",
       "      <td>NaN</td>\n",
       "      <td>NaN</td>\n",
       "      <td>NaN</td>\n",
       "    </tr>\n",
       "    <tr>\n",
       "      <th>discipline_primary</th>\n",
       "      <td>12300.0</td>\n",
       "      <td>15100.0</td>\n",
       "      <td>11800.0</td>\n",
       "      <td>14400.0</td>\n",
       "      <td>13000.0</td>\n",
       "      <td>15200.0</td>\n",
       "      <td>11600.0</td>\n",
       "      <td>13500.0</td>\n",
       "      <td>15100.0</td>\n",
       "      <td>15200.0</td>\n",
       "      <td>...</td>\n",
       "      <td>41800.0</td>\n",
       "      <td>20001.0</td>\n",
       "      <td>22700.0</td>\n",
       "      <td>12900.0</td>\n",
       "      <td>10100.0</td>\n",
       "      <td>11800.0</td>\n",
       "      <td>13100.0</td>\n",
       "      <td>NaN</td>\n",
       "      <td>NaN</td>\n",
       "      <td>NaN</td>\n",
       "    </tr>\n",
       "    <tr>\n",
       "      <th>approval_date</th>\n",
       "      <td>2005-10-24 00:00:00</td>\n",
       "      <td>2005-07-22 00:00:00</td>\n",
       "      <td>2005-10-24 00:00:00</td>\n",
       "      <td>2005-07-22 00:00:00</td>\n",
       "      <td>2006-12-21 00:00:00</td>\n",
       "      <td>2006-08-31 00:00:00</td>\n",
       "      <td>2005-07-22 00:00:00</td>\n",
       "      <td>2005-10-24 00:00:00</td>\n",
       "      <td>2005-10-24 00:00:00</td>\n",
       "      <td>2005-10-24 00:00:00</td>\n",
       "      <td>...</td>\n",
       "      <td>2021-12-17 00:00:00</td>\n",
       "      <td>2021-12-17 00:00:00</td>\n",
       "      <td>2021-12-17 00:00:00</td>\n",
       "      <td>2021-12-17 00:00:00</td>\n",
       "      <td>2021-12-17 00:00:00</td>\n",
       "      <td>2021-12-17 00:00:00</td>\n",
       "      <td>2021-12-17 00:00:00</td>\n",
       "      <td>2022-03-01 00:00:00</td>\n",
       "      <td>2022-03-01 00:00:00</td>\n",
       "      <td>2022-03-01 00:00:00</td>\n",
       "    </tr>\n",
       "    <tr>\n",
       "      <th>lead_research_institution</th>\n",
       "      <td>university of windsor</td>\n",
       "      <td>university of toronto</td>\n",
       "      <td>university of toronto</td>\n",
       "      <td>university of toronto</td>\n",
       "      <td>mcmaster university</td>\n",
       "      <td>mcmaster university</td>\n",
       "      <td>queens university</td>\n",
       "      <td>queens university</td>\n",
       "      <td>queens university</td>\n",
       "      <td>queens university</td>\n",
       "      <td>...</td>\n",
       "      <td>western university</td>\n",
       "      <td>western university</td>\n",
       "      <td>wilfrid laurier university</td>\n",
       "      <td>wilfrid laurier university</td>\n",
       "      <td>york university</td>\n",
       "      <td>york university</td>\n",
       "      <td>york university</td>\n",
       "      <td>niagara college</td>\n",
       "      <td>lambton college</td>\n",
       "      <td>cambrian college</td>\n",
       "    </tr>\n",
       "    <tr>\n",
       "      <th>city</th>\n",
       "      <td>windsor</td>\n",
       "      <td>toronto</td>\n",
       "      <td>toronto</td>\n",
       "      <td>toronto</td>\n",
       "      <td>hamilton</td>\n",
       "      <td>hamilton</td>\n",
       "      <td>kingston</td>\n",
       "      <td>kingston</td>\n",
       "      <td>kingston</td>\n",
       "      <td>kingston</td>\n",
       "      <td>...</td>\n",
       "      <td>london</td>\n",
       "      <td>london</td>\n",
       "      <td>waterloo</td>\n",
       "      <td>waterloo</td>\n",
       "      <td>toronto</td>\n",
       "      <td>toronto</td>\n",
       "      <td>toronto</td>\n",
       "      <td>niaraga on the lake</td>\n",
       "      <td>sarnia</td>\n",
       "      <td>sudbury</td>\n",
       "    </tr>\n",
       "    <tr>\n",
       "      <th>ontario_commitment</th>\n",
       "      <td>50000</td>\n",
       "      <td>59422</td>\n",
       "      <td>292551</td>\n",
       "      <td>200000</td>\n",
       "      <td>100000</td>\n",
       "      <td>197078</td>\n",
       "      <td>100000</td>\n",
       "      <td>128000</td>\n",
       "      <td>64000</td>\n",
       "      <td>125000</td>\n",
       "      <td>...</td>\n",
       "      <td>387254</td>\n",
       "      <td>52026</td>\n",
       "      <td>57077</td>\n",
       "      <td>200000</td>\n",
       "      <td>140000</td>\n",
       "      <td>114726</td>\n",
       "      <td>160000</td>\n",
       "      <td>892391</td>\n",
       "      <td>597715</td>\n",
       "      <td>1000000</td>\n",
       "    </tr>\n",
       "    <tr>\n",
       "      <th>total_project_costs</th>\n",
       "      <td>175708</td>\n",
       "      <td>148557</td>\n",
       "      <td>731377</td>\n",
       "      <td>500000</td>\n",
       "      <td>261369</td>\n",
       "      <td>492695</td>\n",
       "      <td>441005</td>\n",
       "      <td>320000</td>\n",
       "      <td>160000</td>\n",
       "      <td>312500</td>\n",
       "      <td>...</td>\n",
       "      <td>968135</td>\n",
       "      <td>130067</td>\n",
       "      <td>150858</td>\n",
       "      <td>500000</td>\n",
       "      <td>365313</td>\n",
       "      <td>329452</td>\n",
       "      <td>447211</td>\n",
       "      <td>7422302</td>\n",
       "      <td>1494288</td>\n",
       "      <td>2765734</td>\n",
       "    </tr>\n",
       "    <tr>\n",
       "      <th>keyword</th>\n",
       "      <td>density matrix renormalization group numerical...</td>\n",
       "      <td>depression adolescence cognitive vulnerability...</td>\n",
       "      <td>scaling availability adaptive selfmanaging sel...</td>\n",
       "      <td>comparative functional genomics molecular biol...</td>\n",
       "      <td>magnetocaloric materials for magnetic refriger...</td>\n",
       "      <td>immunology immunomodulation asthma allergy aut...</td>\n",
       "      <td>reconfigurable architectures selfadaptive comp...</td>\n",
       "      <td>biogeochemistry arctic and alpine environments...</td>\n",
       "      <td>sexual health laboratory psychophysical measur...</td>\n",
       "      <td>vagus nerve satiety food intake obesity neurop...</td>\n",
       "      <td>...</td>\n",
       "      <td>na</td>\n",
       "      <td>na</td>\n",
       "      <td>na</td>\n",
       "      <td>na</td>\n",
       "      <td>na</td>\n",
       "      <td>na</td>\n",
       "      <td>na</td>\n",
       "      <td>greenhouse technology cannabis biocontrols gro...</td>\n",
       "      <td>water wastewater water chemisty culturing pilo...</td>\n",
       "      <td>battery electric vehicles power train testing ...</td>\n",
       "    </tr>\n",
       "    <tr>\n",
       "      <th>year</th>\n",
       "      <td>2005</td>\n",
       "      <td>2005</td>\n",
       "      <td>2005</td>\n",
       "      <td>2005</td>\n",
       "      <td>2006</td>\n",
       "      <td>2006</td>\n",
       "      <td>2005</td>\n",
       "      <td>2005</td>\n",
       "      <td>2005</td>\n",
       "      <td>2005</td>\n",
       "      <td>...</td>\n",
       "      <td>2021</td>\n",
       "      <td>2021</td>\n",
       "      <td>2021</td>\n",
       "      <td>2021</td>\n",
       "      <td>2021</td>\n",
       "      <td>2021</td>\n",
       "      <td>2021</td>\n",
       "      <td>2022</td>\n",
       "      <td>2022</td>\n",
       "      <td>2022</td>\n",
       "    </tr>\n",
       "    <tr>\n",
       "      <th>month</th>\n",
       "      <td>10</td>\n",
       "      <td>7</td>\n",
       "      <td>10</td>\n",
       "      <td>7</td>\n",
       "      <td>12</td>\n",
       "      <td>8</td>\n",
       "      <td>7</td>\n",
       "      <td>10</td>\n",
       "      <td>10</td>\n",
       "      <td>10</td>\n",
       "      <td>...</td>\n",
       "      <td>12</td>\n",
       "      <td>12</td>\n",
       "      <td>12</td>\n",
       "      <td>12</td>\n",
       "      <td>12</td>\n",
       "      <td>12</td>\n",
       "      <td>12</td>\n",
       "      <td>3</td>\n",
       "      <td>3</td>\n",
       "      <td>3</td>\n",
       "    </tr>\n",
       "  </tbody>\n",
       "</table>\n",
       "<p>12 rows × 3134 columns</p>\n",
       "</div>"
      ],
      "text/plain": [
       "                                                                        0     \\\n",
       "project_title              density matrix renormalization group simulatio...   \n",
       "project_description        proposed infrastructure to consist of a comput...   \n",
       "area_primary                                                             763   \n",
       "discipline_primary                                                   12300.0   \n",
       "approval_date                                            2005-10-24 00:00:00   \n",
       "lead_research_institution                              university of windsor   \n",
       "city                                                                 windsor   \n",
       "ontario_commitment                                                     50000   \n",
       "total_project_costs                                                   175708   \n",
       "keyword                    density matrix renormalization group numerical...   \n",
       "year                                                                    2005   \n",
       "month                                                                     10   \n",
       "\n",
       "                                                                        1     \\\n",
       "project_title              adolescent depressive vulnerability through th...   \n",
       "project_description        the proposed infrastructure consisting of onsi...   \n",
       "area_primary                                                               4   \n",
       "discipline_primary                                                   15100.0   \n",
       "approval_date                                            2005-07-22 00:00:00   \n",
       "lead_research_institution                              university of toronto   \n",
       "city                                                                 toronto   \n",
       "ontario_commitment                                                     59422   \n",
       "total_project_costs                                                   148557   \n",
       "keyword                    depression adolescence cognitive vulnerability...   \n",
       "year                                                                    2005   \n",
       "month                                                                      7   \n",
       "\n",
       "                                                                        2     \\\n",
       "project_title                                 autonomic computing laboratory   \n",
       "project_description        autonomic computing laboratory will enable res...   \n",
       "area_primary                                                              25   \n",
       "discipline_primary                                                   11800.0   \n",
       "approval_date                                            2005-10-24 00:00:00   \n",
       "lead_research_institution                              university of toronto   \n",
       "city                                                                 toronto   \n",
       "ontario_commitment                                                    292551   \n",
       "total_project_costs                                                   731377   \n",
       "keyword                    scaling availability adaptive selfmanaging sel...   \n",
       "year                                                                    2005   \n",
       "month                                                                     10   \n",
       "\n",
       "                                                                        3     \\\n",
       "project_title                                 laboratory for forest genomics   \n",
       "project_description        the proposed facility  will enable the examina...   \n",
       "area_primary                                                              63   \n",
       "discipline_primary                                                   14400.0   \n",
       "approval_date                                            2005-07-22 00:00:00   \n",
       "lead_research_institution                              university of toronto   \n",
       "city                                                                 toronto   \n",
       "ontario_commitment                                                    200000   \n",
       "total_project_costs                                                   500000   \n",
       "keyword                    comparative functional genomics molecular biol...   \n",
       "year                                                                    2005   \n",
       "month                                                                      7   \n",
       "\n",
       "                                                                        4     \\\n",
       "project_title              stoe ipds diffractometer  stateoftheart image ...   \n",
       "project_description        researchers at mcmaster university intend to u...   \n",
       "area_primary                                                              76   \n",
       "discipline_primary                                                   13000.0   \n",
       "approval_date                                            2006-12-21 00:00:00   \n",
       "lead_research_institution                                mcmaster university   \n",
       "city                                                                hamilton   \n",
       "ontario_commitment                                                    100000   \n",
       "total_project_costs                                                   261369   \n",
       "keyword                    magnetocaloric materials for magnetic refriger...   \n",
       "year                                                                    2006   \n",
       "month                                                                     12   \n",
       "\n",
       "                                                                        5     \\\n",
       "project_title              infrastructure to investigate the role of t ly...   \n",
       "project_description        allergic and autoimmune diseases such as asthm...   \n",
       "area_primary                                                              41   \n",
       "discipline_primary                                                   15200.0   \n",
       "approval_date                                            2006-08-31 00:00:00   \n",
       "lead_research_institution                                mcmaster university   \n",
       "city                                                                hamilton   \n",
       "ontario_commitment                                                    197078   \n",
       "total_project_costs                                                   492695   \n",
       "keyword                    immunology immunomodulation asthma allergy aut...   \n",
       "year                                                                    2006   \n",
       "month                                                                      8   \n",
       "\n",
       "                                                                        6     \\\n",
       "project_title              malleable costeffective highperformance comput...   \n",
       "project_description        a malleable costeffective highperformance comp...   \n",
       "area_primary                                                              76   \n",
       "discipline_primary                                                   11600.0   \n",
       "approval_date                                            2005-07-22 00:00:00   \n",
       "lead_research_institution                                  queens university   \n",
       "city                                                                kingston   \n",
       "ontario_commitment                                                    100000   \n",
       "total_project_costs                                                   441005   \n",
       "keyword                    reconfigurable architectures selfadaptive comp...   \n",
       "year                                                                    2005   \n",
       "month                                                                      7   \n",
       "\n",
       "                                                                        7     \\\n",
       "project_title                           cold regions biogeochemical research   \n",
       "project_description        the proposed research will investigate the bio...   \n",
       "area_primary                                                             310   \n",
       "discipline_primary                                                   13500.0   \n",
       "approval_date                                            2005-10-24 00:00:00   \n",
       "lead_research_institution                                  queens university   \n",
       "city                                                                kingston   \n",
       "ontario_commitment                                                    128000   \n",
       "total_project_costs                                                   320000   \n",
       "keyword                    biogeochemistry arctic and alpine environments...   \n",
       "year                                                                    2005   \n",
       "month                                                                     10   \n",
       "\n",
       "                                                                        8     \\\n",
       "project_title                                sexual health research facility   \n",
       "project_description        the research infrastructure is required for th...   \n",
       "area_primary                                                               4   \n",
       "discipline_primary                                                   15100.0   \n",
       "approval_date                                            2005-10-24 00:00:00   \n",
       "lead_research_institution                                  queens university   \n",
       "city                                                                kingston   \n",
       "ontario_commitment                                                     64000   \n",
       "total_project_costs                                                   160000   \n",
       "keyword                    sexual health laboratory psychophysical measur...   \n",
       "year                                                                    2005   \n",
       "month                                                                     10   \n",
       "\n",
       "                                                                        9     \\\n",
       "project_title              role of vagal afferents in nutrient signalling...   \n",
       "project_description        the objective of the research is to understand...   \n",
       "area_primary                                                              49   \n",
       "discipline_primary                                                   15200.0   \n",
       "approval_date                                            2005-10-24 00:00:00   \n",
       "lead_research_institution                                  queens university   \n",
       "city                                                                kingston   \n",
       "ontario_commitment                                                    125000   \n",
       "total_project_costs                                                   312500   \n",
       "keyword                    vagus nerve satiety food intake obesity neurop...   \n",
       "year                                                                    2005   \n",
       "month                                                                     10   \n",
       "\n",
       "                           ...  \\\n",
       "project_title              ...   \n",
       "project_description        ...   \n",
       "area_primary               ...   \n",
       "discipline_primary         ...   \n",
       "approval_date              ...   \n",
       "lead_research_institution  ...   \n",
       "city                       ...   \n",
       "ontario_commitment         ...   \n",
       "total_project_costs        ...   \n",
       "keyword                    ...   \n",
       "year                       ...   \n",
       "month                      ...   \n",
       "\n",
       "                                                                        3124  \\\n",
       "project_title              gene therapy development for musculoskeletal d...   \n",
       "project_description        this proposal will identify diseasemodifying g...   \n",
       "area_primary                                                              41   \n",
       "discipline_primary                                                   41800.0   \n",
       "approval_date                                            2021-12-17 00:00:00   \n",
       "lead_research_institution                                 western university   \n",
       "city                                                                  london   \n",
       "ontario_commitment                                                    387254   \n",
       "total_project_costs                                                   968135   \n",
       "keyword                                                                   na   \n",
       "year                                                                    2021   \n",
       "month                                                                     12   \n",
       "\n",
       "                                                                        3125  \\\n",
       "project_title              surviving memory in postwar el salvador a coll...   \n",
       "project_description        surviving memory in postwar el salvador is an ...   \n",
       "area_primary                                                              87   \n",
       "discipline_primary                                                   20001.0   \n",
       "approval_date                                            2021-12-17 00:00:00   \n",
       "lead_research_institution                                 western university   \n",
       "city                                                                  london   \n",
       "ontario_commitment                                                     52026   \n",
       "total_project_costs                                                   130067   \n",
       "keyword                                                                   na   \n",
       "year                                                                    2021   \n",
       "month                                                                     12   \n",
       "\n",
       "                                                                        3126  \\\n",
       "project_title                            mapping stories global research lab   \n",
       "project_description        his application requests infrastructure to est...   \n",
       "area_primary                                                              87   \n",
       "discipline_primary                                                   22700.0   \n",
       "approval_date                                            2021-12-17 00:00:00   \n",
       "lead_research_institution                         wilfrid laurier university   \n",
       "city                                                                waterloo   \n",
       "ontario_commitment                                                     57077   \n",
       "total_project_costs                                                   150858   \n",
       "keyword                                                                   na   \n",
       "year                                                                    2021   \n",
       "month                                                                     12   \n",
       "\n",
       "                                                                        3127  \\\n",
       "project_title              speciation analyses for elucidating molecular ...   \n",
       "project_description        selenium se is an important contaminant releas...   \n",
       "area_primary                                                              34   \n",
       "discipline_primary                                                   12900.0   \n",
       "approval_date                                            2021-12-17 00:00:00   \n",
       "lead_research_institution                         wilfrid laurier university   \n",
       "city                                                                waterloo   \n",
       "ontario_commitment                                                    200000   \n",
       "total_project_costs                                                   500000   \n",
       "keyword                                                                   na   \n",
       "year                                                                    2021   \n",
       "month                                                                     12   \n",
       "\n",
       "                                                                        3128  \\\n",
       "project_title              the climatedatadriven design cd3 facility for ...   \n",
       "project_description        this proposal outlines the equipment necessary...   \n",
       "area_primary                                                              23   \n",
       "discipline_primary                                                   10100.0   \n",
       "approval_date                                            2021-12-17 00:00:00   \n",
       "lead_research_institution                                    york university   \n",
       "city                                                                 toronto   \n",
       "ontario_commitment                                                    140000   \n",
       "total_project_costs                                                   365313   \n",
       "keyword                                                                   na   \n",
       "year                                                                    2021   \n",
       "month                                                                     12   \n",
       "\n",
       "                                                                        3129  \\\n",
       "project_title              establishment of the intelligent visualization...   \n",
       "project_description        this application is for funds to develop the i...   \n",
       "area_primary                                                              10   \n",
       "discipline_primary                                                   11800.0   \n",
       "approval_date                                            2021-12-17 00:00:00   \n",
       "lead_research_institution                                    york university   \n",
       "city                                                                 toronto   \n",
       "ontario_commitment                                                    114726   \n",
       "total_project_costs                                                   329452   \n",
       "keyword                                                                   na   \n",
       "year                                                                    2021   \n",
       "month                                                                     12   \n",
       "\n",
       "                                                                        3130  \\\n",
       "project_title              infrastructure for the catalytic synthesis of ...   \n",
       "project_description        the proposed project will develop efficient co...   \n",
       "area_primary                                                              74   \n",
       "discipline_primary                                                   13100.0   \n",
       "approval_date                                            2021-12-17 00:00:00   \n",
       "lead_research_institution                                    york university   \n",
       "city                                                                 toronto   \n",
       "ontario_commitment                                                    160000   \n",
       "total_project_costs                                                   447211   \n",
       "keyword                                                                   na   \n",
       "year                                                                    2021   \n",
       "month                                                                     12   \n",
       "\n",
       "                                                                        3131  \\\n",
       "project_title                  niagara college nextgen greenhouse excellence   \n",
       "project_description        niagara college looks to expand upon strategic...   \n",
       "area_primary                                                             NaN   \n",
       "discipline_primary                                                       NaN   \n",
       "approval_date                                            2022-03-01 00:00:00   \n",
       "lead_research_institution                                    niagara college   \n",
       "city                                                     niaraga on the lake   \n",
       "ontario_commitment                                                    892391   \n",
       "total_project_costs                                                  7422302   \n",
       "keyword                    greenhouse technology cannabis biocontrols gro...   \n",
       "year                                                                    2022   \n",
       "month                                                                      3   \n",
       "\n",
       "                                                                        3132  \\\n",
       "project_title                                           lambton water centre   \n",
       "project_description        through this orf request lambton college will ...   \n",
       "area_primary                                                             NaN   \n",
       "discipline_primary                                                       NaN   \n",
       "approval_date                                            2022-03-01 00:00:00   \n",
       "lead_research_institution                                    lambton college   \n",
       "city                                                                  sarnia   \n",
       "ontario_commitment                                                    597715   \n",
       "total_project_costs                                                  1494288   \n",
       "keyword                    water wastewater water chemisty culturing pilo...   \n",
       "year                                                                    2022   \n",
       "month                                                                      3   \n",
       "\n",
       "                                                                        3133  \n",
       "project_title                                               cambrian college  \n",
       "project_description        through the battery electric vehicle lab bevl ...  \n",
       "area_primary                                                             NaN  \n",
       "discipline_primary                                                       NaN  \n",
       "approval_date                                            2022-03-01 00:00:00  \n",
       "lead_research_institution                                   cambrian college  \n",
       "city                                                                 sudbury  \n",
       "ontario_commitment                                                   1000000  \n",
       "total_project_costs                                                  2765734  \n",
       "keyword                    battery electric vehicles power train testing ...  \n",
       "year                                                                    2022  \n",
       "month                                                                      3  \n",
       "\n",
       "[12 rows x 3134 columns]"
      ]
     },
     "execution_count": 70,
     "metadata": {},
     "output_type": "execute_result"
    }
   ],
   "source": [
    "# Read in the data in the previous step\n",
    "df = pd.read_pickle('..\\data\\processed\\data_clean.pkl')\n",
    "df.T"
   ]
  },
  {
   "cell_type": "markdown",
   "metadata": {},
   "source": [
    "# Add a prediction column y"
   ]
  },
  {
   "cell_type": "code",
   "execution_count": 5,
   "metadata": {},
   "outputs": [
    {
     "data": {
      "text/plain": [
       "(11852, 58435136, 1473472.2000638163)"
      ]
     },
     "execution_count": 5,
     "metadata": {},
     "output_type": "execute_result"
    }
   ],
   "source": [
    "df.total_project_costs.min(),df.total_project_costs.max(),df.total_project_costs.mean()"
   ]
  },
  {
   "cell_type": "code",
   "execution_count": 6,
   "metadata": {},
   "outputs": [
    {
     "data": {
      "text/plain": [
       "0       False\n",
       "1       False\n",
       "2       False\n",
       "3       False\n",
       "4       False\n",
       "        ...  \n",
       "3129    False\n",
       "3130    False\n",
       "3131     True\n",
       "3132     True\n",
       "3133     True\n",
       "Name: total_project_costs, Length: 3134, dtype: bool"
      ]
     },
     "execution_count": 6,
     "metadata": {},
     "output_type": "execute_result"
    }
   ],
   "source": [
    "df['total_project_costs'] > df.total_project_costs.mean()"
   ]
  },
  {
   "cell_type": "code",
   "execution_count": 7,
   "metadata": {},
   "outputs": [],
   "source": [
    "df[\"y\"] = (df['total_project_costs'] > df.total_project_costs.mean()).astype(int)"
   ]
  },
  {
   "cell_type": "markdown",
   "metadata": {},
   "source": [
    "# Split the data to train-test"
   ]
  },
  {
   "cell_type": "code",
   "execution_count": 8,
   "metadata": {},
   "outputs": [],
   "source": [
    "from sklearn.model_selection import train_test_split\n",
    "import pandas as pd"
   ]
  },
  {
   "cell_type": "code",
   "execution_count": 9,
   "metadata": {},
   "outputs": [],
   "source": [
    "x=df.drop(['y'],axis=1)\n",
    "y=df['y']"
   ]
  },
  {
   "cell_type": "code",
   "execution_count": 60,
   "metadata": {},
   "outputs": [],
   "source": [
    "x_train,x_test,y_train,y_test =train_test_split(x,y)"
   ]
  },
  {
   "cell_type": "code",
   "execution_count": 11,
   "metadata": {},
   "outputs": [
    {
     "data": {
      "text/plain": [
       "(2350, 784)"
      ]
     },
     "execution_count": 11,
     "metadata": {},
     "output_type": "execute_result"
    }
   ],
   "source": [
    "len(x_train),len(x_test)"
   ]
  },
  {
   "cell_type": "code",
   "execution_count": 12,
   "metadata": {},
   "outputs": [
    {
     "data": {
      "text/plain": [
       "((2350, 12), (2350,))"
      ]
     },
     "execution_count": 12,
     "metadata": {},
     "output_type": "execute_result"
    }
   ],
   "source": [
    "x_train.shape,y_train.shape"
   ]
  },
  {
   "cell_type": "code",
   "execution_count": 22,
   "metadata": {},
   "outputs": [
    {
     "data": {
      "text/plain": [
       "2425              muscle metabolism in health and disease\n",
       "798     extending the research capabilities of the ste...\n",
       "129     centre for advanced photovoltaic devices and s...\n",
       "2300    advanced neurotherapeutics involving mri guida...\n",
       "164              integrative genomics for health research\n",
       "                              ...                        \n",
       "2461    advancing microbial cell biology via protein c...\n",
       "2804          canadian robotics and ai ethical design lab\n",
       "1579    xray diffractometer for materials characteriza...\n",
       "489     infrastructure for study of hostpathogen inter...\n",
       "837     establishment of facilities for the study of m...\n",
       "Name: project_title, Length: 2350, dtype: object"
      ]
     },
     "execution_count": 22,
     "metadata": {},
     "output_type": "execute_result"
    }
   ],
   "source": [
    "x_train['project_title']"
   ]
  },
  {
   "cell_type": "markdown",
   "metadata": {},
   "source": [
    "# Tekens"
   ]
  },
  {
   "cell_type": "code",
   "execution_count": 33,
   "metadata": {},
   "outputs": [],
   "source": [
    "tokens=[]\n",
    "for text in x_train['project_title']:\n",
    "    tokens.append(list(set(text.split())))"
   ]
  },
  {
   "cell_type": "code",
   "execution_count": 35,
   "metadata": {},
   "outputs": [
    {
     "data": {
      "text/plain": [
       "2350"
      ]
     },
     "execution_count": 35,
     "metadata": {},
     "output_type": "execute_result"
    }
   ],
   "source": [
    "len(tokens)"
   ]
  },
  {
   "cell_type": "code",
   "execution_count": 36,
   "metadata": {},
   "outputs": [
    {
     "data": {
      "text/plain": [
       "[['microbial',\n",
       "  'biology',\n",
       "  'cell',\n",
       "  'advancing',\n",
       "  'crystallography',\n",
       "  'via',\n",
       "  'protein']]"
      ]
     },
     "execution_count": 36,
     "metadata": {},
     "output_type": "execute_result"
    }
   ],
   "source": [
    "tokens[2345:2346]"
   ]
  },
  {
   "cell_type": "code",
   "execution_count": 37,
   "metadata": {},
   "outputs": [],
   "source": [
    "from sklearn.feature_extraction.text import TfidfVectorizer"
   ]
  },
  {
   "cell_type": "code",
   "execution_count": 38,
   "metadata": {},
   "outputs": [],
   "source": [
    "vectorizer = TfidfVectorizer(min_df=2)\n",
    "tfidf = vectorizer.fit_transform(x_train['project_title'])"
   ]
  },
  {
   "cell_type": "code",
   "execution_count": 39,
   "metadata": {},
   "outputs": [],
   "source": [
    "a=vectorizer.vocabulary_  # converting words to numbers\n",
    "a.get(2500)"
   ]
  },
  {
   "cell_type": "code",
   "execution_count": 44,
   "metadata": {},
   "outputs": [
    {
     "name": "stdout",
     "output_type": "stream",
     "text": [
      "  (0, 439)\t0.38928261045633505\n",
      "  (0, 70)\t0.15775452366144507\n",
      "  (0, 693)\t0.3724189023008057\n",
      "  (0, 764)\t0.24749826974804312\n",
      "  (0, 947)\t0.5732471074034612\n",
      "  (0, 1033)\t0.5431473842291836\n",
      "  (1, 852)\t0.15721085680306932\n",
      "  (1, 659)\t0.29905576043473275\n",
      "  (1, 637)\t0.2830417582448469\n",
      "  (1, 171)\t0.39776882962991006\n",
      "  (1, 250)\t0.24874309505019154\n",
      "  (1, 1471)\t0.31482780416775175\n",
      "  (1, 1099)\t0.11549486954704101\n",
      "  (1, 231)\t0.4067638656937219\n",
      "  (1, 1336)\t0.1699958777608271\n",
      "  (1, 1544)\t0.2892475607055636\n",
      "  (1, 574)\t0.43042365930694093\n",
      "  (1, 70)\t0.0995231764945739\n",
      "  (2, 1522)\t0.34464644401016814\n",
      "  (2, 420)\t0.49141635387423105\n",
      "  (2, 1184)\t0.5887745989689169\n",
      "  (2, 34)\t0.34865015775067043\n",
      "  (2, 620)\t0.1581987473415275\n",
      "  (2, 257)\t0.35459469897137863\n",
      "  (2, 70)\t0.14405585960486134\n",
      "  :\t:\n",
      "  (2346, 405)\t0.3854230419221513\n",
      "  (2346, 70)\t0.1295621762639207\n",
      "  (2347, 430)\t0.6277726116439716\n",
      "  (2347, 1688)\t0.5203721202585867\n",
      "  (2347, 917)\t0.37912527203532126\n",
      "  (2347, 270)\t0.4054113223019259\n",
      "  (2347, 620)\t0.1643778950492974\n",
      "  (2348, 811)\t0.4950887258874111\n",
      "  (2348, 722)\t0.6663701904922973\n",
      "  (2348, 1491)\t0.3792028271738835\n",
      "  (2348, 783)\t0.3149378837421857\n",
      "  (2348, 620)\t0.17904802548586485\n",
      "  (2348, 1099)\t0.18920642837752585\n",
      "  (2349, 249)\t0.41896238066915825\n",
      "  (2349, 617)\t0.3910373841992567\n",
      "  (2349, 789)\t0.3125864834647374\n",
      "  (2349, 1053)\t0.4032358382172665\n",
      "  (2349, 931)\t0.2542928927874442\n",
      "  (2349, 548)\t0.30091115685735903\n",
      "  (2349, 582)\t0.3052868033113216\n",
      "  (2349, 1491)\t0.21685096540345752\n",
      "  (2349, 620)\t0.20478084232419846\n",
      "  (2349, 1099)\t0.21639921284338154\n",
      "  (2349, 1544)\t0.1354885820881812\n",
      "  (2349, 70)\t0.09323676946674597\n"
     ]
    }
   ],
   "source": [
    "print(tfidf) "
   ]
  },
  {
   "cell_type": "code",
   "execution_count": 40,
   "metadata": {},
   "outputs": [
    {
     "data": {
      "text/plain": [
       "array([ 439,   70,  693, ..., 1099, 1544,   70], dtype=int32)"
      ]
     },
     "execution_count": 40,
     "metadata": {},
     "output_type": "execute_result"
    }
   ],
   "source": [
    "tfidf.nonzero()[1]"
   ]
  },
  {
   "cell_type": "code",
   "execution_count": 45,
   "metadata": {},
   "outputs": [
    {
     "data": {
      "text/plain": [
       "0.09323676946674597"
      ]
     },
     "execution_count": 45,
     "metadata": {},
     "output_type": "execute_result"
    }
   ],
   "source": [
    "tfidf[2349,70]"
   ]
  },
  {
   "cell_type": "code",
   "execution_count": 46,
   "metadata": {},
   "outputs": [
    {
     "data": {
      "text/plain": [
       "scipy.sparse.csr.csr_matrix"
      ]
     },
     "execution_count": 46,
     "metadata": {},
     "output_type": "execute_result"
    }
   ],
   "source": [
    "#fit change and fit the model\n",
    "#transform just return the value of known model\n",
    "type(tfidf)"
   ]
  },
  {
   "cell_type": "code",
   "execution_count": 47,
   "metadata": {},
   "outputs": [
    {
     "data": {
      "text/plain": [
       "numpy.ndarray"
      ]
     },
     "execution_count": 47,
     "metadata": {},
     "output_type": "execute_result"
    }
   ],
   "source": [
    "tfidf=tfidf.toarray()\n",
    "type(tfidf)"
   ]
  },
  {
   "cell_type": "code",
   "execution_count": 48,
   "metadata": {},
   "outputs": [
    {
     "data": {
      "text/plain": [
       "(2350, 1694)"
      ]
     },
     "execution_count": 48,
     "metadata": {},
     "output_type": "execute_result"
    }
   ],
   "source": [
    "tfidf.shape"
   ]
  },
  {
   "cell_type": "code",
   "execution_count": 49,
   "metadata": {},
   "outputs": [
    {
     "name": "stderr",
     "output_type": "stream",
     "text": [
      "C:\\Users\\Atieh\\anaconda3\\lib\\site-packages\\sklearn\\utils\\deprecation.py:87: FutureWarning: Function get_feature_names is deprecated; get_feature_names is deprecated in 1.0 and will be removed in 1.2. Please use get_feature_names_out instead.\n",
      "  warnings.warn(msg, category=FutureWarning)\n"
     ]
    }
   ],
   "source": [
    "words=vectorizer.get_feature_names()"
   ]
  },
  {
   "cell_type": "code",
   "execution_count": 50,
   "metadata": {},
   "outputs": [
    {
     "data": {
      "text/plain": [
       "1694"
      ]
     },
     "execution_count": 50,
     "metadata": {},
     "output_type": "execute_result"
    }
   ],
   "source": [
    "len(words)"
   ]
  },
  {
   "cell_type": "code",
   "execution_count": 51,
   "metadata": {},
   "outputs": [
    {
     "data": {
      "text/plain": [
       "array([  70,  439,  693, ..., 1099, 1491, 1544], dtype=int64)"
      ]
     },
     "execution_count": 51,
     "metadata": {},
     "output_type": "execute_result"
    }
   ],
   "source": [
    "tfidf.nonzero()[1]"
   ]
  },
  {
   "cell_type": "code",
   "execution_count": 53,
   "metadata": {},
   "outputs": [
    {
     "name": "stdout",
     "output_type": "stream",
     "text": [
      "disease - 0.38928261045633505\n",
      "health - 0.3724189023008057\n",
      "metabolism - 0.5732471074034612\n",
      "muscle - 0.5431473842291836\n",
      "health - 0.3724189023008057\n",
      "health - 0.3724189023008057\n",
      "health - 0.3724189023008057\n",
      "disease - 0.38928261045633505\n",
      "disease - 0.38928261045633505\n",
      "muscle - 0.5431473842291836\n",
      "metabolism - 0.5732471074034612\n",
      "health - 0.3724189023008057\n",
      "metabolism - 0.5732471074034612\n",
      "disease - 0.38928261045633505\n",
      "disease - 0.38928261045633505\n",
      "health - 0.3724189023008057\n",
      "health - 0.3724189023008057\n",
      "disease - 0.38928261045633505\n",
      "health - 0.3724189023008057\n",
      "muscle - 0.5431473842291836\n",
      "health - 0.3724189023008057\n",
      "health - 0.3724189023008057\n",
      "disease - 0.38928261045633505\n",
      "metabolism - 0.5732471074034612\n",
      "disease - 0.38928261045633505\n",
      "disease - 0.38928261045633505\n",
      "health - 0.3724189023008057\n",
      "health - 0.3724189023008057\n",
      "disease - 0.38928261045633505\n",
      "disease - 0.38928261045633505\n",
      "health - 0.3724189023008057\n",
      "disease - 0.38928261045633505\n",
      "health - 0.3724189023008057\n",
      "muscle - 0.5431473842291836\n",
      "metabolism - 0.5732471074034612\n",
      "disease - 0.38928261045633505\n",
      "disease - 0.38928261045633505\n",
      "disease - 0.38928261045633505\n",
      "disease - 0.38928261045633505\n",
      "health - 0.3724189023008057\n",
      "health - 0.3724189023008057\n",
      "metabolism - 0.5732471074034612\n",
      "muscle - 0.5431473842291836\n",
      "disease - 0.38928261045633505\n",
      "health - 0.3724189023008057\n",
      "disease - 0.38928261045633505\n",
      "metabolism - 0.5732471074034612\n",
      "health - 0.3724189023008057\n",
      "health - 0.3724189023008057\n",
      "health - 0.3724189023008057\n",
      "disease - 0.38928261045633505\n",
      "disease - 0.38928261045633505\n",
      "health - 0.3724189023008057\n",
      "health - 0.3724189023008057\n",
      "health - 0.3724189023008057\n",
      "disease - 0.38928261045633505\n",
      "health - 0.3724189023008057\n",
      "health - 0.3724189023008057\n",
      "disease - 0.38928261045633505\n",
      "health - 0.3724189023008057\n",
      "metabolism - 0.5732471074034612\n",
      "health - 0.3724189023008057\n",
      "muscle - 0.5431473842291836\n",
      "disease - 0.38928261045633505\n",
      "disease - 0.38928261045633505\n",
      "disease - 0.38928261045633505\n",
      "disease - 0.38928261045633505\n",
      "disease - 0.38928261045633505\n",
      "disease - 0.38928261045633505\n",
      "health - 0.3724189023008057\n",
      "disease - 0.38928261045633505\n",
      "health - 0.3724189023008057\n",
      "disease - 0.38928261045633505\n",
      "health - 0.3724189023008057\n",
      "disease - 0.38928261045633505\n",
      "disease - 0.38928261045633505\n",
      "disease - 0.38928261045633505\n",
      "health - 0.3724189023008057\n",
      "disease - 0.38928261045633505\n",
      "disease - 0.38928261045633505\n",
      "health - 0.3724189023008057\n",
      "disease - 0.38928261045633505\n",
      "health - 0.3724189023008057\n",
      "disease - 0.38928261045633505\n",
      "metabolism - 0.5732471074034612\n",
      "health - 0.3724189023008057\n",
      "disease - 0.38928261045633505\n",
      "health - 0.3724189023008057\n",
      "health - 0.3724189023008057\n",
      "health - 0.3724189023008057\n",
      "health - 0.3724189023008057\n",
      "disease - 0.38928261045633505\n",
      "health - 0.3724189023008057\n",
      "health - 0.3724189023008057\n",
      "muscle - 0.5431473842291836\n",
      "health - 0.3724189023008057\n",
      "disease - 0.38928261045633505\n",
      "health - 0.3724189023008057\n",
      "muscle - 0.5431473842291836\n",
      "disease - 0.38928261045633505\n",
      "health - 0.3724189023008057\n",
      "health - 0.3724189023008057\n",
      "disease - 0.38928261045633505\n",
      "health - 0.3724189023008057\n",
      "disease - 0.38928261045633505\n",
      "disease - 0.38928261045633505\n",
      "disease - 0.38928261045633505\n",
      "health - 0.3724189023008057\n",
      "disease - 0.38928261045633505\n",
      "health - 0.3724189023008057\n",
      "disease - 0.38928261045633505\n",
      "health - 0.3724189023008057\n",
      "disease - 0.38928261045633505\n",
      "health - 0.3724189023008057\n",
      "health - 0.3724189023008057\n",
      "muscle - 0.5431473842291836\n",
      "disease - 0.38928261045633505\n",
      "health - 0.3724189023008057\n",
      "health - 0.3724189023008057\n",
      "disease - 0.38928261045633505\n",
      "health - 0.3724189023008057\n",
      "muscle - 0.5431473842291836\n",
      "health - 0.3724189023008057\n",
      "disease - 0.38928261045633505\n",
      "health - 0.3724189023008057\n",
      "disease - 0.38928261045633505\n",
      "health - 0.3724189023008057\n",
      "disease - 0.38928261045633505\n",
      "health - 0.3724189023008057\n",
      "disease - 0.38928261045633505\n",
      "health - 0.3724189023008057\n",
      "disease - 0.38928261045633505\n",
      "disease - 0.38928261045633505\n",
      "disease - 0.38928261045633505\n",
      "health - 0.3724189023008057\n",
      "disease - 0.38928261045633505\n",
      "disease - 0.38928261045633505\n",
      "health - 0.3724189023008057\n",
      "health - 0.3724189023008057\n",
      "disease - 0.38928261045633505\n",
      "health - 0.3724189023008057\n",
      "disease - 0.38928261045633505\n",
      "disease - 0.38928261045633505\n",
      "health - 0.3724189023008057\n",
      "disease - 0.38928261045633505\n",
      "disease - 0.38928261045633505\n",
      "health - 0.3724189023008057\n",
      "disease - 0.38928261045633505\n",
      "health - 0.3724189023008057\n",
      "disease - 0.38928261045633505\n",
      "health - 0.3724189023008057\n",
      "disease - 0.38928261045633505\n",
      "health - 0.3724189023008057\n",
      "health - 0.3724189023008057\n",
      "disease - 0.38928261045633505\n",
      "health - 0.3724189023008057\n",
      "muscle - 0.5431473842291836\n",
      "disease - 0.38928261045633505\n",
      "health - 0.3724189023008057\n",
      "health - 0.3724189023008057\n",
      "metabolism - 0.5732471074034612\n",
      "health - 0.3724189023008057\n",
      "health - 0.3724189023008057\n",
      "disease - 0.38928261045633505\n",
      "health - 0.3724189023008057\n",
      "muscle - 0.5431473842291836\n",
      "disease - 0.38928261045633505\n",
      "disease - 0.38928261045633505\n",
      "disease - 0.38928261045633505\n",
      "health - 0.3724189023008057\n",
      "disease - 0.38928261045633505\n",
      "health - 0.3724189023008057\n",
      "health - 0.3724189023008057\n",
      "health - 0.3724189023008057\n",
      "disease - 0.38928261045633505\n",
      "disease - 0.38928261045633505\n",
      "disease - 0.38928261045633505\n",
      "health - 0.3724189023008057\n",
      "health - 0.3724189023008057\n",
      "health - 0.3724189023008057\n",
      "muscle - 0.5431473842291836\n",
      "disease - 0.38928261045633505\n",
      "muscle - 0.5431473842291836\n",
      "disease - 0.38928261045633505\n",
      "health - 0.3724189023008057\n",
      "health - 0.3724189023008057\n",
      "health - 0.3724189023008057\n",
      "health - 0.3724189023008057\n",
      "health - 0.3724189023008057\n",
      "health - 0.3724189023008057\n",
      "disease - 0.38928261045633505\n",
      "health - 0.3724189023008057\n",
      "metabolism - 0.5732471074034612\n",
      "health - 0.3724189023008057\n",
      "health - 0.3724189023008057\n",
      "muscle - 0.5431473842291836\n",
      "health - 0.3724189023008057\n",
      "disease - 0.38928261045633505\n",
      "health - 0.3724189023008057\n",
      "health - 0.3724189023008057\n",
      "muscle - 0.5431473842291836\n",
      "health - 0.3724189023008057\n",
      "disease - 0.38928261045633505\n",
      "health - 0.3724189023008057\n",
      "disease - 0.38928261045633505\n",
      "muscle - 0.5431473842291836\n",
      "health - 0.3724189023008057\n",
      "disease - 0.38928261045633505\n",
      "health - 0.3724189023008057\n",
      "health - 0.3724189023008057\n",
      "disease - 0.38928261045633505\n",
      "health - 0.3724189023008057\n",
      "disease - 0.38928261045633505\n",
      "health - 0.3724189023008057\n",
      "disease - 0.38928261045633505\n",
      "health - 0.3724189023008057\n",
      "health - 0.3724189023008057\n",
      "disease - 0.38928261045633505\n",
      "health - 0.3724189023008057\n",
      "health - 0.3724189023008057\n",
      "disease - 0.38928261045633505\n",
      "disease - 0.38928261045633505\n",
      "disease - 0.38928261045633505\n",
      "health - 0.3724189023008057\n",
      "health - 0.3724189023008057\n",
      "health - 0.3724189023008057\n",
      "disease - 0.38928261045633505\n",
      "health - 0.3724189023008057\n",
      "metabolism - 0.5732471074034612\n",
      "health - 0.3724189023008057\n",
      "disease - 0.38928261045633505\n",
      "disease - 0.38928261045633505\n",
      "health - 0.3724189023008057\n",
      "health - 0.3724189023008057\n",
      "health - 0.3724189023008057\n",
      "health - 0.3724189023008057\n"
     ]
    }
   ],
   "source": [
    "for col in tfidf.nonzero()[1]:\n",
    "    if tfidf[0,col] > 0.3:\n",
    "        print (words[col], '-', tfidf[0,col])"
   ]
  },
  {
   "cell_type": "code",
   "execution_count": 54,
   "metadata": {},
   "outputs": [
    {
     "data": {
      "text/plain": [
       "(array([   0,    0,    0, ..., 2349, 2349, 2349], dtype=int64),\n",
       " array([  70,  439,  693, ..., 1099, 1491, 1544], dtype=int64))"
      ]
     },
     "execution_count": 54,
     "metadata": {},
     "output_type": "execute_result"
    }
   ],
   "source": [
    "import numpy as np\n",
    "np.nonzero(tfidf)\n"
   ]
  },
  {
   "cell_type": "code",
   "execution_count": 55,
   "metadata": {},
   "outputs": [
    {
     "data": {
      "text/plain": [
       "array([[0., 0., 0., ..., 0., 0., 0.],\n",
       "       [0., 0., 0., ..., 0., 0., 0.],\n",
       "       [0., 0., 0., ..., 0., 0., 0.],\n",
       "       ...,\n",
       "       [0., 0., 0., ..., 0., 0., 0.],\n",
       "       [0., 0., 0., ..., 0., 0., 0.],\n",
       "       [0., 0., 0., ..., 0., 0., 0.]])"
      ]
     },
     "execution_count": 55,
     "metadata": {},
     "output_type": "execute_result"
    }
   ],
   "source": [
    "tfidf"
   ]
  },
  {
   "cell_type": "markdown",
   "metadata": {},
   "source": [
    "# Model"
   ]
  },
  {
   "cell_type": "code",
   "execution_count": 56,
   "metadata": {},
   "outputs": [],
   "source": [
    "x_train=tfidf"
   ]
  },
  {
   "cell_type": "code",
   "execution_count": 57,
   "metadata": {},
   "outputs": [
    {
     "data": {
      "text/plain": [
       "LogisticRegression()"
      ]
     },
     "execution_count": 57,
     "metadata": {},
     "output_type": "execute_result"
    }
   ],
   "source": [
    "from sklearn.linear_model import LogisticRegression\n",
    "model = LogisticRegression()\n",
    "model.fit(x_train,y_train)"
   ]
  },
  {
   "cell_type": "code",
   "execution_count": 78,
   "metadata": {},
   "outputs": [
    {
     "data": {
      "text/plain": [
       "((784, 771), (2350, 12))"
      ]
     },
     "execution_count": 78,
     "metadata": {},
     "output_type": "execute_result"
    }
   ],
   "source": [
    "x_test.shape,x_train.shape"
   ]
  },
  {
   "cell_type": "code",
   "execution_count": 68,
   "metadata": {},
   "outputs": [
    {
     "data": {
      "text/plain": [
       "((784,), (2350,))"
      ]
     },
     "execution_count": 68,
     "metadata": {},
     "output_type": "execute_result"
    }
   ],
   "source": [
    "y_test.shape,y_train.shape"
   ]
  },
  {
   "cell_type": "code",
   "execution_count": 69,
   "metadata": {},
   "outputs": [],
   "source": [
    "vectorizer = TfidfVectorizer(min_df=2)\n",
    "tfidf_test = vectorizer.fit_transform(x_test['project_title'])"
   ]
  },
  {
   "cell_type": "code",
   "execution_count": 76,
   "metadata": {},
   "outputs": [
    {
     "data": {
      "text/plain": [
       "(784, 771)"
      ]
     },
     "execution_count": 76,
     "metadata": {},
     "output_type": "execute_result"
    }
   ],
   "source": [
    "x_test=tfidf_test.toarray()\n",
    "x_test.shape"
   ]
  },
  {
   "cell_type": "code",
   "execution_count": 74,
   "metadata": {},
   "outputs": [
    {
     "ename": "ValueError",
     "evalue": "X has 771 features, but LogisticRegression is expecting 1694 features as input.",
     "output_type": "error",
     "traceback": [
      "\u001b[1;31m---------------------------------------------------------------------------\u001b[0m",
      "\u001b[1;31mValueError\u001b[0m                                Traceback (most recent call last)",
      "Input \u001b[1;32mIn [74]\u001b[0m, in \u001b[0;36m<cell line: 1>\u001b[1;34m()\u001b[0m\n\u001b[1;32m----> 1\u001b[0m \u001b[43mmodel\u001b[49m\u001b[38;5;241;43m.\u001b[39;49m\u001b[43mscore\u001b[49m\u001b[43m(\u001b[49m\u001b[43mx_test\u001b[49m\u001b[43m,\u001b[49m\u001b[43my_test\u001b[49m\u001b[43m)\u001b[49m\n",
      "File \u001b[1;32m~\\anaconda3\\lib\\site-packages\\sklearn\\base.py:651\u001b[0m, in \u001b[0;36mClassifierMixin.score\u001b[1;34m(self, X, y, sample_weight)\u001b[0m\n\u001b[0;32m    626\u001b[0m \u001b[38;5;124;03m\"\"\"\u001b[39;00m\n\u001b[0;32m    627\u001b[0m \u001b[38;5;124;03mReturn the mean accuracy on the given test data and labels.\u001b[39;00m\n\u001b[0;32m    628\u001b[0m \n\u001b[1;32m   (...)\u001b[0m\n\u001b[0;32m    647\u001b[0m \u001b[38;5;124;03m    Mean accuracy of ``self.predict(X)`` wrt. `y`.\u001b[39;00m\n\u001b[0;32m    648\u001b[0m \u001b[38;5;124;03m\"\"\"\u001b[39;00m\n\u001b[0;32m    649\u001b[0m \u001b[38;5;28;01mfrom\u001b[39;00m \u001b[38;5;21;01m.\u001b[39;00m\u001b[38;5;21;01mmetrics\u001b[39;00m \u001b[38;5;28;01mimport\u001b[39;00m accuracy_score\n\u001b[1;32m--> 651\u001b[0m \u001b[38;5;28;01mreturn\u001b[39;00m accuracy_score(y, \u001b[38;5;28;43mself\u001b[39;49m\u001b[38;5;241;43m.\u001b[39;49m\u001b[43mpredict\u001b[49m\u001b[43m(\u001b[49m\u001b[43mX\u001b[49m\u001b[43m)\u001b[49m, sample_weight\u001b[38;5;241m=\u001b[39msample_weight)\n",
      "File \u001b[1;32m~\\anaconda3\\lib\\site-packages\\sklearn\\linear_model\\_base.py:425\u001b[0m, in \u001b[0;36mLinearClassifierMixin.predict\u001b[1;34m(self, X)\u001b[0m\n\u001b[0;32m    411\u001b[0m \u001b[38;5;28;01mdef\u001b[39;00m \u001b[38;5;21mpredict\u001b[39m(\u001b[38;5;28mself\u001b[39m, X):\n\u001b[0;32m    412\u001b[0m     \u001b[38;5;124;03m\"\"\"\u001b[39;00m\n\u001b[0;32m    413\u001b[0m \u001b[38;5;124;03m    Predict class labels for samples in X.\u001b[39;00m\n\u001b[0;32m    414\u001b[0m \n\u001b[1;32m   (...)\u001b[0m\n\u001b[0;32m    423\u001b[0m \u001b[38;5;124;03m        Vector containing the class labels for each sample.\u001b[39;00m\n\u001b[0;32m    424\u001b[0m \u001b[38;5;124;03m    \"\"\"\u001b[39;00m\n\u001b[1;32m--> 425\u001b[0m     scores \u001b[38;5;241m=\u001b[39m \u001b[38;5;28;43mself\u001b[39;49m\u001b[38;5;241;43m.\u001b[39;49m\u001b[43mdecision_function\u001b[49m\u001b[43m(\u001b[49m\u001b[43mX\u001b[49m\u001b[43m)\u001b[49m\n\u001b[0;32m    426\u001b[0m     \u001b[38;5;28;01mif\u001b[39;00m \u001b[38;5;28mlen\u001b[39m(scores\u001b[38;5;241m.\u001b[39mshape) \u001b[38;5;241m==\u001b[39m \u001b[38;5;241m1\u001b[39m:\n\u001b[0;32m    427\u001b[0m         indices \u001b[38;5;241m=\u001b[39m (scores \u001b[38;5;241m>\u001b[39m \u001b[38;5;241m0\u001b[39m)\u001b[38;5;241m.\u001b[39mastype(\u001b[38;5;28mint\u001b[39m)\n",
      "File \u001b[1;32m~\\anaconda3\\lib\\site-packages\\sklearn\\linear_model\\_base.py:407\u001b[0m, in \u001b[0;36mLinearClassifierMixin.decision_function\u001b[1;34m(self, X)\u001b[0m\n\u001b[0;32m    387\u001b[0m \u001b[38;5;124;03m\"\"\"\u001b[39;00m\n\u001b[0;32m    388\u001b[0m \u001b[38;5;124;03mPredict confidence scores for samples.\u001b[39;00m\n\u001b[0;32m    389\u001b[0m \n\u001b[1;32m   (...)\u001b[0m\n\u001b[0;32m    403\u001b[0m \u001b[38;5;124;03m    this class would be predicted.\u001b[39;00m\n\u001b[0;32m    404\u001b[0m \u001b[38;5;124;03m\"\"\"\u001b[39;00m\n\u001b[0;32m    405\u001b[0m check_is_fitted(\u001b[38;5;28mself\u001b[39m)\n\u001b[1;32m--> 407\u001b[0m X \u001b[38;5;241m=\u001b[39m \u001b[38;5;28;43mself\u001b[39;49m\u001b[38;5;241;43m.\u001b[39;49m\u001b[43m_validate_data\u001b[49m\u001b[43m(\u001b[49m\u001b[43mX\u001b[49m\u001b[43m,\u001b[49m\u001b[43m \u001b[49m\u001b[43maccept_sparse\u001b[49m\u001b[38;5;241;43m=\u001b[39;49m\u001b[38;5;124;43m\"\u001b[39;49m\u001b[38;5;124;43mcsr\u001b[39;49m\u001b[38;5;124;43m\"\u001b[39;49m\u001b[43m,\u001b[49m\u001b[43m \u001b[49m\u001b[43mreset\u001b[49m\u001b[38;5;241;43m=\u001b[39;49m\u001b[38;5;28;43;01mFalse\u001b[39;49;00m\u001b[43m)\u001b[49m\n\u001b[0;32m    408\u001b[0m scores \u001b[38;5;241m=\u001b[39m safe_sparse_dot(X, \u001b[38;5;28mself\u001b[39m\u001b[38;5;241m.\u001b[39mcoef_\u001b[38;5;241m.\u001b[39mT, dense_output\u001b[38;5;241m=\u001b[39m\u001b[38;5;28;01mTrue\u001b[39;00m) \u001b[38;5;241m+\u001b[39m \u001b[38;5;28mself\u001b[39m\u001b[38;5;241m.\u001b[39mintercept_\n\u001b[0;32m    409\u001b[0m \u001b[38;5;28;01mreturn\u001b[39;00m scores\u001b[38;5;241m.\u001b[39mravel() \u001b[38;5;28;01mif\u001b[39;00m scores\u001b[38;5;241m.\u001b[39mshape[\u001b[38;5;241m1\u001b[39m] \u001b[38;5;241m==\u001b[39m \u001b[38;5;241m1\u001b[39m \u001b[38;5;28;01melse\u001b[39;00m scores\n",
      "File \u001b[1;32m~\\anaconda3\\lib\\site-packages\\sklearn\\base.py:585\u001b[0m, in \u001b[0;36mBaseEstimator._validate_data\u001b[1;34m(self, X, y, reset, validate_separately, **check_params)\u001b[0m\n\u001b[0;32m    582\u001b[0m     out \u001b[38;5;241m=\u001b[39m X, y\n\u001b[0;32m    584\u001b[0m \u001b[38;5;28;01mif\u001b[39;00m \u001b[38;5;129;01mnot\u001b[39;00m no_val_X \u001b[38;5;129;01mand\u001b[39;00m check_params\u001b[38;5;241m.\u001b[39mget(\u001b[38;5;124m\"\u001b[39m\u001b[38;5;124mensure_2d\u001b[39m\u001b[38;5;124m\"\u001b[39m, \u001b[38;5;28;01mTrue\u001b[39;00m):\n\u001b[1;32m--> 585\u001b[0m     \u001b[38;5;28;43mself\u001b[39;49m\u001b[38;5;241;43m.\u001b[39;49m\u001b[43m_check_n_features\u001b[49m\u001b[43m(\u001b[49m\u001b[43mX\u001b[49m\u001b[43m,\u001b[49m\u001b[43m \u001b[49m\u001b[43mreset\u001b[49m\u001b[38;5;241;43m=\u001b[39;49m\u001b[43mreset\u001b[49m\u001b[43m)\u001b[49m\n\u001b[0;32m    587\u001b[0m \u001b[38;5;28;01mreturn\u001b[39;00m out\n",
      "File \u001b[1;32m~\\anaconda3\\lib\\site-packages\\sklearn\\base.py:400\u001b[0m, in \u001b[0;36mBaseEstimator._check_n_features\u001b[1;34m(self, X, reset)\u001b[0m\n\u001b[0;32m    397\u001b[0m     \u001b[38;5;28;01mreturn\u001b[39;00m\n\u001b[0;32m    399\u001b[0m \u001b[38;5;28;01mif\u001b[39;00m n_features \u001b[38;5;241m!=\u001b[39m \u001b[38;5;28mself\u001b[39m\u001b[38;5;241m.\u001b[39mn_features_in_:\n\u001b[1;32m--> 400\u001b[0m     \u001b[38;5;28;01mraise\u001b[39;00m \u001b[38;5;167;01mValueError\u001b[39;00m(\n\u001b[0;32m    401\u001b[0m         \u001b[38;5;124mf\u001b[39m\u001b[38;5;124m\"\u001b[39m\u001b[38;5;124mX has \u001b[39m\u001b[38;5;132;01m{\u001b[39;00mn_features\u001b[38;5;132;01m}\u001b[39;00m\u001b[38;5;124m features, but \u001b[39m\u001b[38;5;132;01m{\u001b[39;00m\u001b[38;5;28mself\u001b[39m\u001b[38;5;241m.\u001b[39m\u001b[38;5;18m__class__\u001b[39m\u001b[38;5;241m.\u001b[39m\u001b[38;5;18m__name__\u001b[39m\u001b[38;5;132;01m}\u001b[39;00m\u001b[38;5;124m \u001b[39m\u001b[38;5;124m\"\u001b[39m\n\u001b[0;32m    402\u001b[0m         \u001b[38;5;124mf\u001b[39m\u001b[38;5;124m\"\u001b[39m\u001b[38;5;124mis expecting \u001b[39m\u001b[38;5;132;01m{\u001b[39;00m\u001b[38;5;28mself\u001b[39m\u001b[38;5;241m.\u001b[39mn_features_in_\u001b[38;5;132;01m}\u001b[39;00m\u001b[38;5;124m features as input.\u001b[39m\u001b[38;5;124m\"\u001b[39m\n\u001b[0;32m    403\u001b[0m     )\n",
      "\u001b[1;31mValueError\u001b[0m: X has 771 features, but LogisticRegression is expecting 1694 features as input."
     ]
    }
   ],
   "source": [
    "model.score(x_test,y_test)"
   ]
  },
  {
   "cell_type": "code",
   "execution_count": null,
   "metadata": {},
   "outputs": [],
   "source": []
  },
  {
   "cell_type": "code",
   "execution_count": null,
   "metadata": {},
   "outputs": [],
   "source": []
  }
 ],
 "metadata": {
  "kernelspec": {
   "display_name": "Python 3 (ipykernel)",
   "language": "python",
   "name": "python3"
  },
  "language_info": {
   "codemirror_mode": {
    "name": "ipython",
    "version": 3
   },
   "file_extension": ".py",
   "mimetype": "text/x-python",
   "name": "python",
   "nbconvert_exporter": "python",
   "pygments_lexer": "ipython3",
   "version": "3.9.12"
  }
 },
 "nbformat": 4,
 "nbformat_minor": 4
}

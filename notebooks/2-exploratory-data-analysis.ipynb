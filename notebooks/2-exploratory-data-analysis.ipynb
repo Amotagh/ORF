{
 "cells": [
  {
   "cell_type": "markdown",
   "metadata": {},
   "source": [
    "## Exploratory data analysis\n",
    "After the data cleaning step to put the data in the right format, it is time to explore the data to find any pattern and trend. "
   ]
  },
  {
   "cell_type": "code",
   "execution_count": 8,
   "metadata": {},
   "outputs": [],
   "source": [
    "import matplotlib.pyplot as plt\n",
    "import pandas as pd"
   ]
  },
  {
   "cell_type": "code",
   "execution_count": 9,
   "metadata": {},
   "outputs": [
    {
     "data": {
      "text/html": [
       "<div>\n",
       "<style scoped>\n",
       "    .dataframe tbody tr th:only-of-type {\n",
       "        vertical-align: middle;\n",
       "    }\n",
       "\n",
       "    .dataframe tbody tr th {\n",
       "        vertical-align: top;\n",
       "    }\n",
       "\n",
       "    .dataframe thead th {\n",
       "        text-align: right;\n",
       "    }\n",
       "</style>\n",
       "<table border=\"1\" class=\"dataframe\">\n",
       "  <thead>\n",
       "    <tr style=\"text-align: right;\">\n",
       "      <th></th>\n",
       "      <th>project_title</th>\n",
       "      <th>project_description</th>\n",
       "      <th>area_primary</th>\n",
       "      <th>discipline_primary</th>\n",
       "      <th>approval_date</th>\n",
       "      <th>lead_research_institution</th>\n",
       "      <th>city</th>\n",
       "      <th>ontario_commitment</th>\n",
       "      <th>total_project_costs</th>\n",
       "      <th>keyword</th>\n",
       "      <th>year</th>\n",
       "      <th>month</th>\n",
       "    </tr>\n",
       "  </thead>\n",
       "  <tbody>\n",
       "    <tr>\n",
       "      <th>0</th>\n",
       "      <td>density matrix renormalization group simulatio...</td>\n",
       "      <td>proposed infrastructure to consist of a comput...</td>\n",
       "      <td>763</td>\n",
       "      <td>12300.0</td>\n",
       "      <td>2005-10-24</td>\n",
       "      <td>university of windsor</td>\n",
       "      <td>windsor</td>\n",
       "      <td>50000</td>\n",
       "      <td>175708</td>\n",
       "      <td>density matrix renormalization group numerical...</td>\n",
       "      <td>2005</td>\n",
       "      <td>10</td>\n",
       "    </tr>\n",
       "    <tr>\n",
       "      <th>1</th>\n",
       "      <td>adolescent depressive vulnerability through th...</td>\n",
       "      <td>the proposed infrastructure consisting of onsi...</td>\n",
       "      <td>4</td>\n",
       "      <td>15100.0</td>\n",
       "      <td>2005-07-22</td>\n",
       "      <td>university of toronto</td>\n",
       "      <td>toronto</td>\n",
       "      <td>59422</td>\n",
       "      <td>148557</td>\n",
       "      <td>depression adolescence cognitive vulnerability...</td>\n",
       "      <td>2005</td>\n",
       "      <td>7</td>\n",
       "    </tr>\n",
       "    <tr>\n",
       "      <th>2</th>\n",
       "      <td>autonomic computing laboratory</td>\n",
       "      <td>autonomic computing laboratory will enable res...</td>\n",
       "      <td>25</td>\n",
       "      <td>11800.0</td>\n",
       "      <td>2005-10-24</td>\n",
       "      <td>university of toronto</td>\n",
       "      <td>toronto</td>\n",
       "      <td>292551</td>\n",
       "      <td>731377</td>\n",
       "      <td>scaling availability adaptive selfmanaging sel...</td>\n",
       "      <td>2005</td>\n",
       "      <td>10</td>\n",
       "    </tr>\n",
       "    <tr>\n",
       "      <th>3</th>\n",
       "      <td>laboratory for forest genomics</td>\n",
       "      <td>the proposed facility  will enable the examina...</td>\n",
       "      <td>63</td>\n",
       "      <td>14400.0</td>\n",
       "      <td>2005-07-22</td>\n",
       "      <td>university of toronto</td>\n",
       "      <td>toronto</td>\n",
       "      <td>200000</td>\n",
       "      <td>500000</td>\n",
       "      <td>comparative functional genomics molecular biol...</td>\n",
       "      <td>2005</td>\n",
       "      <td>7</td>\n",
       "    </tr>\n",
       "    <tr>\n",
       "      <th>4</th>\n",
       "      <td>stoe ipds diffractometer  stateoftheart image ...</td>\n",
       "      <td>researchers at mcmaster university intend to u...</td>\n",
       "      <td>76</td>\n",
       "      <td>13000.0</td>\n",
       "      <td>2006-12-21</td>\n",
       "      <td>mcmaster university</td>\n",
       "      <td>hamilton</td>\n",
       "      <td>100000</td>\n",
       "      <td>261369</td>\n",
       "      <td>magnetocaloric materials for magnetic refriger...</td>\n",
       "      <td>2006</td>\n",
       "      <td>12</td>\n",
       "    </tr>\n",
       "  </tbody>\n",
       "</table>\n",
       "</div>"
      ],
      "text/plain": [
       "                                       project_title  \\\n",
       "0  density matrix renormalization group simulatio...   \n",
       "1  adolescent depressive vulnerability through th...   \n",
       "2                     autonomic computing laboratory   \n",
       "3                     laboratory for forest genomics   \n",
       "4  stoe ipds diffractometer  stateoftheart image ...   \n",
       "\n",
       "                                 project_description area_primary  \\\n",
       "0  proposed infrastructure to consist of a comput...          763   \n",
       "1  the proposed infrastructure consisting of onsi...            4   \n",
       "2  autonomic computing laboratory will enable res...           25   \n",
       "3  the proposed facility  will enable the examina...           63   \n",
       "4  researchers at mcmaster university intend to u...           76   \n",
       "\n",
       "   discipline_primary approval_date lead_research_institution      city  \\\n",
       "0             12300.0    2005-10-24     university of windsor   windsor   \n",
       "1             15100.0    2005-07-22     university of toronto   toronto   \n",
       "2             11800.0    2005-10-24     university of toronto   toronto   \n",
       "3             14400.0    2005-07-22     university of toronto   toronto   \n",
       "4             13000.0    2006-12-21       mcmaster university  hamilton   \n",
       "\n",
       "   ontario_commitment  total_project_costs  \\\n",
       "0               50000               175708   \n",
       "1               59422               148557   \n",
       "2              292551               731377   \n",
       "3              200000               500000   \n",
       "4              100000               261369   \n",
       "\n",
       "                                             keyword  year  month  \n",
       "0  density matrix renormalization group numerical...  2005     10  \n",
       "1  depression adolescence cognitive vulnerability...  2005      7  \n",
       "2  scaling availability adaptive selfmanaging sel...  2005     10  \n",
       "3  comparative functional genomics molecular biol...  2005      7  \n",
       "4  magnetocaloric materials for magnetic refriger...  2006     12  "
      ]
     },
     "execution_count": 9,
     "metadata": {},
     "output_type": "execute_result"
    }
   ],
   "source": [
    "# Read in the data in the previous step\n",
    "df = pd.read_pickle(r'C:\\Users\\Atieh\\Documents\\OntarioResearchFund\\data\\processed\\data_clean.pkl')\n",
    "df.head()"
   ]
  },
  {
   "cell_type": "code",
   "execution_count": 10,
   "metadata": {},
   "outputs": [
    {
     "data": {
      "text/html": [
       "<div>\n",
       "<style scoped>\n",
       "    .dataframe tbody tr th:only-of-type {\n",
       "        vertical-align: middle;\n",
       "    }\n",
       "\n",
       "    .dataframe tbody tr th {\n",
       "        vertical-align: top;\n",
       "    }\n",
       "\n",
       "    .dataframe thead th {\n",
       "        text-align: right;\n",
       "    }\n",
       "</style>\n",
       "<table border=\"1\" class=\"dataframe\">\n",
       "  <thead>\n",
       "    <tr style=\"text-align: right;\">\n",
       "      <th></th>\n",
       "      <th>project_title</th>\n",
       "      <th>project_description</th>\n",
       "      <th>area_primary</th>\n",
       "      <th>discipline_primary</th>\n",
       "      <th>approval_date</th>\n",
       "      <th>lead_research_institution</th>\n",
       "      <th>city</th>\n",
       "      <th>ontario_commitment</th>\n",
       "      <th>total_project_costs</th>\n",
       "      <th>keyword</th>\n",
       "      <th>year</th>\n",
       "      <th>month</th>\n",
       "    </tr>\n",
       "  </thead>\n",
       "  <tbody>\n",
       "    <tr>\n",
       "      <th>312</th>\n",
       "      <td>biological microbeam for low dose radiobiology...</td>\n",
       "      <td>the proposed research is at the international ...</td>\n",
       "      <td>77</td>\n",
       "      <td>21300.0</td>\n",
       "      <td>2004-12-16</td>\n",
       "      <td>mcmaster university</td>\n",
       "      <td>hamilton</td>\n",
       "      <td>145990</td>\n",
       "      <td>1174624</td>\n",
       "      <td>microbeam singleion irradiatoraccelerator low ...</td>\n",
       "      <td>2004</td>\n",
       "      <td>12</td>\n",
       "    </tr>\n",
       "    <tr>\n",
       "      <th>268</th>\n",
       "      <td>mobile laboratories for clinical behavioural a...</td>\n",
       "      <td>the project will establish a unique capability...</td>\n",
       "      <td>43</td>\n",
       "      <td>40800.0</td>\n",
       "      <td>2004-12-16</td>\n",
       "      <td>queens university</td>\n",
       "      <td>kingston</td>\n",
       "      <td>357063</td>\n",
       "      <td>2871206</td>\n",
       "      <td>autism spectrum disorders genetics subgrouping...</td>\n",
       "      <td>2004</td>\n",
       "      <td>12</td>\n",
       "    </tr>\n",
       "    <tr>\n",
       "      <th>267</th>\n",
       "      <td>lifespan development research centre</td>\n",
       "      <td>this ambitious well designed innovative propos...</td>\n",
       "      <td>10</td>\n",
       "      <td>22100.0</td>\n",
       "      <td>2004-12-16</td>\n",
       "      <td>brock university</td>\n",
       "      <td>stcatharines</td>\n",
       "      <td>809160</td>\n",
       "      <td>6513952</td>\n",
       "      <td>behavioural and social sciences psychology neu...</td>\n",
       "      <td>2004</td>\n",
       "      <td>12</td>\n",
       "    </tr>\n",
       "    <tr>\n",
       "      <th>179</th>\n",
       "      <td>sharcnet 2  expansion of existing grid</td>\n",
       "      <td>the shared hierarchical academic research comp...</td>\n",
       "      <td>7</td>\n",
       "      <td>5000.0</td>\n",
       "      <td>2004-12-16</td>\n",
       "      <td>the university of western ontario</td>\n",
       "      <td>london</td>\n",
       "      <td>4297250</td>\n",
       "      <td>35606145</td>\n",
       "      <td>high performance computing computational physi...</td>\n",
       "      <td>2004</td>\n",
       "      <td>12</td>\n",
       "    </tr>\n",
       "    <tr>\n",
       "      <th>180</th>\n",
       "      <td>sharcnet 2  new partners and networking</td>\n",
       "      <td>the project will establish resources for new p...</td>\n",
       "      <td>7</td>\n",
       "      <td>99998.0</td>\n",
       "      <td>2004-12-16</td>\n",
       "      <td>the university of western ontario</td>\n",
       "      <td>london</td>\n",
       "      <td>1711439</td>\n",
       "      <td>13809576</td>\n",
       "      <td>NaN</td>\n",
       "      <td>2004</td>\n",
       "      <td>12</td>\n",
       "    </tr>\n",
       "    <tr>\n",
       "      <th>...</th>\n",
       "      <td>...</td>\n",
       "      <td>...</td>\n",
       "      <td>...</td>\n",
       "      <td>...</td>\n",
       "      <td>...</td>\n",
       "      <td>...</td>\n",
       "      <td>...</td>\n",
       "      <td>...</td>\n",
       "      <td>...</td>\n",
       "      <td>...</td>\n",
       "      <td>...</td>\n",
       "      <td>...</td>\n",
       "    </tr>\n",
       "    <tr>\n",
       "      <th>3102</th>\n",
       "      <td>the development and application of genomic too...</td>\n",
       "      <td>this research program will harness genomic tec...</td>\n",
       "      <td>3</td>\n",
       "      <td>5000.0</td>\n",
       "      <td>2021-12-17</td>\n",
       "      <td>university of ottawa</td>\n",
       "      <td>ottawa</td>\n",
       "      <td>320000</td>\n",
       "      <td>862516</td>\n",
       "      <td>na</td>\n",
       "      <td>2021</td>\n",
       "      <td>12</td>\n",
       "    </tr>\n",
       "    <tr>\n",
       "      <th>3091</th>\n",
       "      <td>holistic analysis of plastic additives as envi...</td>\n",
       "      <td>dr roxanna suehring will build an analytical p...</td>\n",
       "      <td>34</td>\n",
       "      <td>12900.0</td>\n",
       "      <td>2021-12-17</td>\n",
       "      <td>ryerson university</td>\n",
       "      <td>toronto</td>\n",
       "      <td>75990</td>\n",
       "      <td>200481</td>\n",
       "      <td>na</td>\n",
       "      <td>2021</td>\n",
       "      <td>12</td>\n",
       "    </tr>\n",
       "    <tr>\n",
       "      <th>3132</th>\n",
       "      <td>lambton water centre</td>\n",
       "      <td>through this orf request lambton college will ...</td>\n",
       "      <td>NaN</td>\n",
       "      <td>NaN</td>\n",
       "      <td>2022-03-01</td>\n",
       "      <td>lambton college</td>\n",
       "      <td>sarnia</td>\n",
       "      <td>597715</td>\n",
       "      <td>1494288</td>\n",
       "      <td>water wastewater water chemisty culturing pilo...</td>\n",
       "      <td>2022</td>\n",
       "      <td>3</td>\n",
       "    </tr>\n",
       "    <tr>\n",
       "      <th>3131</th>\n",
       "      <td>niagara college nextgen greenhouse excellence</td>\n",
       "      <td>niagara college looks to expand upon strategic...</td>\n",
       "      <td>NaN</td>\n",
       "      <td>NaN</td>\n",
       "      <td>2022-03-01</td>\n",
       "      <td>niagara college</td>\n",
       "      <td>niaraga on the lake</td>\n",
       "      <td>892391</td>\n",
       "      <td>7422302</td>\n",
       "      <td>greenhouse technology cannabis biocontrols gro...</td>\n",
       "      <td>2022</td>\n",
       "      <td>3</td>\n",
       "    </tr>\n",
       "    <tr>\n",
       "      <th>3133</th>\n",
       "      <td>cambrian college</td>\n",
       "      <td>through the battery electric vehicle lab bevl ...</td>\n",
       "      <td>NaN</td>\n",
       "      <td>NaN</td>\n",
       "      <td>2022-03-01</td>\n",
       "      <td>cambrian college</td>\n",
       "      <td>sudbury</td>\n",
       "      <td>1000000</td>\n",
       "      <td>2765734</td>\n",
       "      <td>battery electric vehicles power train testing ...</td>\n",
       "      <td>2022</td>\n",
       "      <td>3</td>\n",
       "    </tr>\n",
       "  </tbody>\n",
       "</table>\n",
       "<p>3134 rows × 12 columns</p>\n",
       "</div>"
      ],
      "text/plain": [
       "                                          project_title  \\\n",
       "312   biological microbeam for low dose radiobiology...   \n",
       "268   mobile laboratories for clinical behavioural a...   \n",
       "267                lifespan development research centre   \n",
       "179              sharcnet 2  expansion of existing grid   \n",
       "180             sharcnet 2  new partners and networking   \n",
       "...                                                 ...   \n",
       "3102  the development and application of genomic too...   \n",
       "3091  holistic analysis of plastic additives as envi...   \n",
       "3132                               lambton water centre   \n",
       "3131      niagara college nextgen greenhouse excellence   \n",
       "3133                                   cambrian college   \n",
       "\n",
       "                                    project_description area_primary  \\\n",
       "312   the proposed research is at the international ...           77   \n",
       "268   the project will establish a unique capability...           43   \n",
       "267   this ambitious well designed innovative propos...           10   \n",
       "179   the shared hierarchical academic research comp...            7   \n",
       "180   the project will establish resources for new p...            7   \n",
       "...                                                 ...          ...   \n",
       "3102  this research program will harness genomic tec...            3   \n",
       "3091  dr roxanna suehring will build an analytical p...           34   \n",
       "3132  through this orf request lambton college will ...          NaN   \n",
       "3131  niagara college looks to expand upon strategic...          NaN   \n",
       "3133  through the battery electric vehicle lab bevl ...          NaN   \n",
       "\n",
       "      discipline_primary approval_date          lead_research_institution  \\\n",
       "312              21300.0    2004-12-16                mcmaster university   \n",
       "268              40800.0    2004-12-16                  queens university   \n",
       "267              22100.0    2004-12-16                   brock university   \n",
       "179               5000.0    2004-12-16  the university of western ontario   \n",
       "180              99998.0    2004-12-16  the university of western ontario   \n",
       "...                  ...           ...                                ...   \n",
       "3102              5000.0    2021-12-17               university of ottawa   \n",
       "3091             12900.0    2021-12-17                 ryerson university   \n",
       "3132                 NaN    2022-03-01                    lambton college   \n",
       "3131                 NaN    2022-03-01                    niagara college   \n",
       "3133                 NaN    2022-03-01                   cambrian college   \n",
       "\n",
       "                     city  ontario_commitment  total_project_costs  \\\n",
       "312              hamilton              145990              1174624   \n",
       "268              kingston              357063              2871206   \n",
       "267          stcatharines              809160              6513952   \n",
       "179                london             4297250             35606145   \n",
       "180                london             1711439             13809576   \n",
       "...                   ...                 ...                  ...   \n",
       "3102               ottawa              320000               862516   \n",
       "3091              toronto               75990               200481   \n",
       "3132               sarnia              597715              1494288   \n",
       "3131  niaraga on the lake              892391              7422302   \n",
       "3133              sudbury             1000000              2765734   \n",
       "\n",
       "                                                keyword  year  month  \n",
       "312   microbeam singleion irradiatoraccelerator low ...  2004     12  \n",
       "268   autism spectrum disorders genetics subgrouping...  2004     12  \n",
       "267   behavioural and social sciences psychology neu...  2004     12  \n",
       "179   high performance computing computational physi...  2004     12  \n",
       "180                                                 NaN  2004     12  \n",
       "...                                                 ...   ...    ...  \n",
       "3102                                                 na  2021     12  \n",
       "3091                                                 na  2021     12  \n",
       "3132  water wastewater water chemisty culturing pilo...  2022      3  \n",
       "3131  greenhouse technology cannabis biocontrols gro...  2022      3  \n",
       "3133  battery electric vehicles power train testing ...  2022      3  \n",
       "\n",
       "[3134 rows x 12 columns]"
      ]
     },
     "execution_count": 10,
     "metadata": {},
     "output_type": "execute_result"
    }
   ],
   "source": [
    "# sort the data base on date\n",
    "df = df.sort_values(by=\"approval_date\")\n",
    "df"
   ]
  },
  {
   "cell_type": "markdown",
   "metadata": {},
   "source": [
    "# Graphs"
   ]
  },
  {
   "cell_type": "code",
   "execution_count": 11,
   "metadata": {},
   "outputs": [
    {
     "name": "stderr",
     "output_type": "stream",
     "text": [
      "<ipython-input-11-5b59803d71ec>:1: FutureWarning: Indexing with multiple keys (implicitly converted to a tuple of keys) will be deprecated, use a list instead.\n",
      "  df.groupby(['year'])['ontario_commitment','total_project_costs'].sum().plot()\n"
     ]
    },
    {
     "data": {
      "text/plain": [
       "<matplotlib.axes._subplots.AxesSubplot at 0x1dcd09373d0>"
      ]
     },
     "execution_count": 11,
     "metadata": {},
     "output_type": "execute_result"
    },
    {
     "data": {
      "image/png": "[encoded data removed]",
      "text/plain": [
       "<Figure size 432x288 with 1 Axes>"
      ]
     },
     "metadata": {
      "needs_background": "light"
     },
     "output_type": "display_data"
    }
   ],
   "source": [
    "df.groupby(['year'])['ontario_commitment','total_project_costs'].sum().plot()\n"
   ]
  },
  {
   "cell_type": "code",
   "execution_count": 57,
   "metadata": {},
   "outputs": [
    {
     "data": {
      "image/png": "[encoded data removed]",
      "text/plain": [
       "<Figure size 432x288 with 1 Axes>"
      ]
     },
     "metadata": {
      "needs_background": "light"
     },
     "output_type": "display_data"
    }
   ],
   "source": [
    "\n",
    "fig,ax=plt.subplots()\n",
    "df.groupby(['city'])['total_project_costs'].sum().plot()\n",
    "ax.set_xticks(np.arange(len(df.groupby(['city'])['total_project_costs'].sum().index)))\n",
    "ax.set_xticklabels(df.groupby(['city'])['total_project_costs'].sum().index,rotation=90)\n",
    "ax.set_ylabel(\"Total Project Costs\")\n",
    "plt.show()"
   ]
  },
  {
   "cell_type": "code",
   "execution_count": 54,
   "metadata": {},
   "outputs": [
    {
     "data": {
      "text/plain": [
       "27"
      ]
     },
     "execution_count": 54,
     "metadata": {},
     "output_type": "execute_result"
    }
   ],
   "source": [
    "len(df.groupby(['city'])['total_project_costs'].sum().index)"
   ]
  },
  {
   "cell_type": "code",
   "execution_count": 16,
   "metadata": {},
   "outputs": [
    {
     "data": {
      "text/plain": [
       "array(['hamilton', 'kingston', 'stcatharines', 'london', 'toronto',\n",
       "       'thunder bay', 'peterborough', 'windsor', 'ottawa', 'guelph',\n",
       "       'waterloo', 'sault ste marie', 'sudbury', 'oshawa', 'north bay',\n",
       "       'niagaraonthelake', 'cornwall', 'oakville', 'kitchener', 'sarnia',\n",
       "       'scarborough', 'timmins', 'belleville', 'cambridge',\n",
       "       'st catharines', 'st catherines', nan, 'niaraga on the lake'],\n",
       "      dtype=object)"
      ]
     },
     "execution_count": 16,
     "metadata": {},
     "output_type": "execute_result"
    }
   ],
   "source": [
    "df['city'].unique()"
   ]
  },
  {
   "cell_type": "code",
   "execution_count": 70,
   "metadata": {},
   "outputs": [
    {
     "data": {
      "image/png": "[encoded data removed]",
      "text/plain": [
       "<Figure size 432x288 with 1 Axes>"
      ]
     },
     "metadata": {
      "needs_background": "light"
     },
     "output_type": "display_data"
    }
   ],
   "source": [
    "fig,ax=plt.subplots()\n",
    "\n",
    "df.groupby(['lead_research_institution'])['total_project_costs'].sum().plot()\n",
    "plt.tick_params(which='minor', labelsize=__)\n",
    "ax.set_xticks(np.arange(len(df.groupby(['lead_research_institution'])['total_project_costs'].sum().index)))\n",
    "ax.set_xticklabels(df.groupby(['lead_research_institution'])['total_project_costs'].sum().index,rotation=90)\n",
    "\n",
    "#ax.set_xticklabels(df.lead_research_institution,rotation=90)\n",
    "ax.set_ylabel(\"Total Project Costs\")\n",
    "ax.set_xlabel(\"Lead Research Institution\")\n",
    "plt.show()"
   ]
  },
  {
   "cell_type": "code",
   "execution_count": 66,
   "metadata": {},
   "outputs": [
    {
     "data": {
      "text/plain": [
       "array([ 0,  1,  2,  3,  4,  5,  6,  7,  8,  9, 10, 11, 12, 13, 14, 15, 16,\n",
       "       17, 18, 19, 20, 21, 22, 23, 24, 25, 26, 27, 28, 29, 30, 31, 32, 33,\n",
       "       34, 35, 36, 37, 38, 39, 40, 41, 42, 43, 44, 45, 46, 47, 48, 49, 50,\n",
       "       51, 52, 53, 54, 55, 56, 57, 58, 59, 60, 61, 62, 63, 64, 65, 66])"
      ]
     },
     "execution_count": 66,
     "metadata": {},
     "output_type": "execute_result"
    }
   ],
   "source": [
    "np.arange(len(df.groupby(['lead_research_institution'])['total_project_costs'].sum().index))"
   ]
  },
  {
   "cell_type": "code",
   "execution_count": 73,
   "metadata": {},
   "outputs": [
    {
     "data": {
      "text/plain": [
       "lead_research_institution\n",
       "perimeter institute for theoretical physics                         1\n",
       "queens university                                                 250\n",
       "royal military college of canada                                    8\n",
       "ryerson university                                                 65\n",
       "seneca college                                                      1\n",
       "sheridan college                                                    1\n",
       "sheridan college institute of technology and advanced learning      3\n",
       "sinai health system                                                 9\n",
       "sir sandford fleming college                                        2\n",
       "st josephs health care london                                       2\n",
       "st lawrence river institute of environmental sciences               1\n",
       "st michaels hospital                                               14\n",
       "sunnybrook health sciences centre                                   2\n",
       "sunnybrook research institute                                      29\n",
       "the hospital for sick children                                     52\n",
       "the university of western ontario                                 239\n",
       "trent university                                                   42\n",
       "unity health toronto                                                2\n",
       "university health network                                          69\n",
       "university of guelph                                              230\n",
       "university of ontario institute of technology                      38\n",
       "university of ottawa                                              267\n",
       "university of ottawa heart institute                                1\n",
       "university of toronto                                             659\n",
       "university of waterloo                                            309\n",
       "university of windsor                                              70\n",
       "western university                                                  7\n",
       "wilfrid laurier university                                         43\n",
       "womens college hospital                                             3\n",
       "york university                                                   114\n",
       "Name: total_project_costs, dtype: int64"
      ]
     },
     "execution_count": 73,
     "metadata": {},
     "output_type": "execute_result"
    }
   ],
   "source": [
    "df.groupby(['lead_research_institution'])['total_project_costs'].count().tail(30)"
   ]
  },
  {
   "cell_type": "code",
   "execution_count": 71,
   "metadata": {},
   "outputs": [
    {
     "data": {
      "text/plain": [
       "<matplotlib.axes._subplots.AxesSubplot at 0x1dcd33cf790>"
      ]
     },
     "execution_count": 71,
     "metadata": {},
     "output_type": "execute_result"
    },
    {
     "data": {
      "image/png": "[encoded data removed]",
      "text/plain": [
       "<Figure size 432x288 with 1 Axes>"
      ]
     },
     "metadata": {
      "needs_background": "light"
     },
     "output_type": "display_data"
    }
   ],
   "source": [
    "df.groupby(['area_primary'])['total_project_costs'].sum().plot()"
   ]
  },
  {
   "cell_type": "code",
   "execution_count": 74,
   "metadata": {},
   "outputs": [
    {
     "data": {
      "text/plain": [
       "area_primary\n",
       "1      16\n",
       "10    166\n",
       "11      9\n",
       "12      3\n",
       "13     10\n",
       "     ... \n",
       "88     36\n",
       "9       3\n",
       "91     29\n",
       "92      6\n",
       "95      1\n",
       "Name: total_project_costs, Length: 101, dtype: int64"
      ]
     },
     "execution_count": 74,
     "metadata": {},
     "output_type": "execute_result"
    }
   ],
   "source": [
    "df.groupby(['area_primary'])['total_project_costs'].count()"
   ]
  },
  {
   "cell_type": "code",
   "execution_count": 75,
   "metadata": {},
   "outputs": [
    {
     "data": {
      "text/plain": [
       "<matplotlib.axes._subplots.AxesSubplot at 0x1dcd3762e80>"
      ]
     },
     "execution_count": 75,
     "metadata": {},
     "output_type": "execute_result"
    },
    {
     "data": {
      "image/png": "[encoded data removed]",
      "text/plain": [
       "<Figure size 432x288 with 1 Axes>"
      ]
     },
     "metadata": {
      "needs_background": "light"
     },
     "output_type": "display_data"
    }
   ],
   "source": [
    "df.groupby(['discipline_primary'])['total_project_costs'].sum().plot()"
   ]
  },
  {
   "cell_type": "code",
   "execution_count": 76,
   "metadata": {},
   "outputs": [
    {
     "data": {
      "text/plain": [
       "discipline_primary\n",
       "5000.0      28\n",
       "10000.0     16\n",
       "10001.0     26\n",
       "10100.0     59\n",
       "10200.0     15\n",
       "            ..\n",
       "42600.0      8\n",
       "42700.0     26\n",
       "42800.0     13\n",
       "99998.0      7\n",
       "110000.0     1\n",
       "Name: total_project_costs, Length: 123, dtype: int64"
      ]
     },
     "execution_count": 76,
     "metadata": {},
     "output_type": "execute_result"
    }
   ],
   "source": [
    "df.groupby(['discipline_primary'])['total_project_costs'].count()"
   ]
  },
  {
   "cell_type": "code",
   "execution_count": 77,
   "metadata": {},
   "outputs": [
    {
     "data": {
      "text/plain": [
       "discipline_primary\n",
       "5000.0      178267934\n",
       "10000.0      46811163\n",
       "10001.0     194286999\n",
       "10100.0      97288953\n",
       "10200.0      20487662\n",
       "              ...    \n",
       "42600.0       3597723\n",
       "42700.0     117169557\n",
       "42800.0       8181836\n",
       "99998.0      21408865\n",
       "110000.0       544070\n",
       "Name: total_project_costs, Length: 123, dtype: int32"
      ]
     },
     "execution_count": 77,
     "metadata": {},
     "output_type": "execute_result"
    }
   ],
   "source": [
    "df.groupby(['discipline_primary'])['total_project_costs'].sum()\n"
   ]
  },
  {
   "cell_type": "code",
   "execution_count": 84,
   "metadata": {},
   "outputs": [
    {
     "data": {
      "text/plain": [
       "'density matrix renormalization group simulations of systems in condensed matter physics and quantum chemistry'"
      ]
     },
     "execution_count": 84,
     "metadata": {},
     "output_type": "execute_result"
    }
   ],
   "source": [
    "df['project_title'][0]"
   ]
  },
  {
   "cell_type": "markdown",
   "metadata": {},
   "source": [
    "# Tokens"
   ]
  },
  {
   "cell_type": "code",
   "execution_count": 124,
   "metadata": {},
   "outputs": [],
   "source": [
    "tokens=df['project_title'][0].split()\n"
   ]
  },
  {
   "cell_type": "code",
   "execution_count": 134,
   "metadata": {},
   "outputs": [],
   "source": [
    "tokens=[]\n",
    "for text in df['project_title']:\n",
    "    tokens.append(list(set(text.split())))"
   ]
  },
  {
   "cell_type": "code",
   "execution_count": 135,
   "metadata": {},
   "outputs": [
    {
     "data": {
      "text/plain": [
       "3134"
      ]
     },
     "execution_count": 135,
     "metadata": {},
     "output_type": "execute_result"
    }
   ],
   "source": [
    "len(tokens)"
   ]
  },
  {
   "cell_type": "code",
   "execution_count": 138,
   "metadata": {},
   "outputs": [
    {
     "data": {
      "text/plain": [
       "[['environmental',\n",
       "  'holistic',\n",
       "  'contaminants',\n",
       "  'plastic',\n",
       "  'of',\n",
       "  'as',\n",
       "  'analysis',\n",
       "  'additives'],\n",
       " ['lambton', 'centre', 'water'],\n",
       " ['greenhouse', 'excellence', 'college', 'nextgen', 'niagara'],\n",
       " ['cambrian', 'college']]"
      ]
     },
     "execution_count": 138,
     "metadata": {},
     "output_type": "execute_result"
    }
   ],
   "source": [
    "tokens[3130:3134]"
   ]
  },
  {
   "cell_type": "code",
   "execution_count": 164,
   "metadata": {},
   "outputs": [],
   "source": [
    "from sklearn.feature_extraction.text import TfidfVectorizer"
   ]
  },
  {
   "cell_type": "code",
   "execution_count": 165,
   "metadata": {},
   "outputs": [],
   "source": [
    "vectorizer = TfidfVectorizer(min_df=2)"
   ]
  },
  {
   "cell_type": "code",
   "execution_count": 166,
   "metadata": {},
   "outputs": [],
   "source": [
    "tfidf = vectorizer.fit_transform(df['project_title'])"
   ]
  },
  {
   "cell_type": "code",
   "execution_count": 167,
   "metadata": {},
   "outputs": [
    {
     "data": {
      "text/plain": [
       "scipy.sparse.csr.csr_matrix"
      ]
     },
     "execution_count": 167,
     "metadata": {},
     "output_type": "execute_result"
    }
   ],
   "source": [
    "#fit change and fit the model\n",
    "#transform just return the value of known model\n",
    "type(tfidf)"
   ]
  },
  {
   "cell_type": "code",
   "execution_count": 168,
   "metadata": {},
   "outputs": [
    {
     "data": {
      "text/plain": [
       "numpy.ndarray"
      ]
     },
     "execution_count": 168,
     "metadata": {},
     "output_type": "execute_result"
    }
   ],
   "source": [
    "tfidf=tfidf.toarray()\n",
    "type(tfidf)"
   ]
  },
  {
   "cell_type": "code",
   "execution_count": 169,
   "metadata": {},
   "outputs": [
    {
     "data": {
      "text/plain": [
       "(3134, 2048)"
      ]
     },
     "execution_count": 169,
     "metadata": {},
     "output_type": "execute_result"
    }
   ],
   "source": [
    "tfidf.shape"
   ]
  },
  {
   "cell_type": "code",
   "execution_count": 170,
   "metadata": {},
   "outputs": [],
   "source": [
    "words=vectorizer.get_feature_names()"
   ]
  },
  {
   "cell_type": "code",
   "execution_count": 171,
   "metadata": {},
   "outputs": [
    {
     "data": {
      "text/plain": [
       "['20',\n",
       " '2d',\n",
       " '3d',\n",
       " '3dimensional',\n",
       " '5g',\n",
       " '600',\n",
       " 'aboriginal',\n",
       " 'about',\n",
       " 'absorption',\n",
       " 'accelerated',\n",
       " 'acceleration',\n",
       " 'accelerator',\n",
       " 'access',\n",
       " 'accessories',\n",
       " 'acdc',\n",
       " 'achieve',\n",
       " 'achieving',\n",
       " 'acid',\n",
       " 'acoustic',\n",
       " 'acquired']"
      ]
     },
     "execution_count": 171,
     "metadata": {},
     "output_type": "execute_result"
    }
   ],
   "source": [
    "words[:20]"
   ]
  },
  {
   "cell_type": "code",
   "execution_count": 181,
   "metadata": {},
   "outputs": [
    {
     "data": {
      "text/plain": [
       "array([[0., 0., 0., ..., 0., 0., 0.],\n",
       "       [0., 0., 0., ..., 0., 0., 0.],\n",
       "       [0., 0., 0., ..., 0., 0., 0.],\n",
       "       ...,\n",
       "       [0., 0., 0., ..., 0., 0., 0.],\n",
       "       [0., 0., 0., ..., 0., 0., 0.],\n",
       "       [0., 0., 0., ..., 0., 0., 0.]])"
      ]
     },
     "execution_count": 181,
     "metadata": {},
     "output_type": "execute_result"
    }
   ],
   "source": [
    "tfidf[:,200:400]"
   ]
  },
  {
   "cell_type": "code",
   "execution_count": 173,
   "metadata": {},
   "outputs": [],
   "source": [
    "%matplotlib inline\n",
    "import matplotlib.pyplot as plt"
   ]
  },
  {
   "cell_type": "code",
   "execution_count": 182,
   "metadata": {},
   "outputs": [
    {
     "data": {
      "image/png": "[encoded data removed]",
      "text/plain": [
       "<Figure size 1440x288 with 1 Axes>"
      ]
     },
     "metadata": {
      "needs_background": "light"
     },
     "output_type": "display_data"
    }
   ],
   "source": [
    "plt.figure(figsize=(20,4))\n",
    "_=plt.imshow(tfidf)"
   ]
  },
  {
   "cell_type": "code",
   "execution_count": 186,
   "metadata": {},
   "outputs": [
    {
     "data": {
      "text/plain": [
       "(array([   0,    0,    0, ..., 3132, 3132, 3133], dtype=int64),\n",
       " array([ 217,  552,  746, ..., 1298, 1300,  369], dtype=int64))"
      ]
     },
     "execution_count": 186,
     "metadata": {},
     "output_type": "execute_result"
    }
   ],
   "source": [
    "np.nonzero(tfidf)"
   ]
  },
  {
   "cell_type": "markdown",
   "metadata": {},
   "source": [
    "# Group project based on low or high total project costs"
   ]
  },
  {
   "cell_type": "code",
   "execution_count": 192,
   "metadata": {},
   "outputs": [
    {
     "data": {
      "text/plain": [
       "(11852, 58435136, 1473472.2000638163)"
      ]
     },
     "execution_count": 192,
     "metadata": {},
     "output_type": "execute_result"
    }
   ],
   "source": [
    "df.total_project_costs.min(),df.total_project_costs.max(),df.total_project_costs.mean()"
   ]
  },
  {
   "cell_type": "code",
   "execution_count": 195,
   "metadata": {},
   "outputs": [
    {
     "data": {
      "text/plain": [
       "312     False\n",
       "268      True\n",
       "267      True\n",
       "179      True\n",
       "180      True\n",
       "        ...  \n",
       "3102    False\n",
       "3091    False\n",
       "3132     True\n",
       "3131     True\n",
       "3133     True\n",
       "Name: total_project_costs, Length: 3134, dtype: bool"
      ]
     },
     "execution_count": 195,
     "metadata": {},
     "output_type": "execute_result"
    }
   ],
   "source": [
    "df['total_project_costs'] > df.total_project_costs.mean()"
   ]
  },
  {
   "cell_type": "code",
   "execution_count": 198,
   "metadata": {},
   "outputs": [],
   "source": [
    "df[\"y\"] = (df['total_project_costs'] > df.total_project_costs.mean()).astype(int)"
   ]
  },
  {
   "cell_type": "markdown",
   "metadata": {},
   "source": [
    "# Model"
   ]
  },
  {
   "cell_type": "code",
   "execution_count": 200,
   "metadata": {},
   "outputs": [],
   "source": [
    "from sklearn.model_selection import train_test_split"
   ]
  },
  {
   "cell_type": "code",
   "execution_count": 201,
   "metadata": {},
   "outputs": [],
   "source": [
    "x=tfidf\n",
    "y=df['y']"
   ]
  },
  {
   "cell_type": "code",
   "execution_count": 202,
   "metadata": {},
   "outputs": [],
   "source": [
    "x_train,x_test,y_train,y_test =train_test_split(x,y)"
   ]
  },
  {
   "cell_type": "code",
   "execution_count": 203,
   "metadata": {},
   "outputs": [
    {
     "data": {
      "text/plain": [
       "(2350, 784)"
      ]
     },
     "execution_count": 203,
     "metadata": {},
     "output_type": "execute_result"
    }
   ],
   "source": [
    "len(x_train),len(x_test)"
   ]
  },
  {
   "cell_type": "code",
   "execution_count": 208,
   "metadata": {},
   "outputs": [
    {
     "data": {
      "text/plain": [
       "((2350, 2048), (2350,))"
      ]
     },
     "execution_count": 208,
     "metadata": {},
     "output_type": "execute_result"
    }
   ],
   "source": [
    "x_train.shape,y_train.shape"
   ]
  },
  {
   "cell_type": "code",
   "execution_count": 209,
   "metadata": {},
   "outputs": [],
   "source": [
    "from sklearn.linear_model import LogisticRegression"
   ]
  },
  {
   "cell_type": "code",
   "execution_count": 211,
   "metadata": {},
   "outputs": [],
   "source": [
    "model = LogisticRegression()"
   ]
  },
  {
   "cell_type": "code",
   "execution_count": 212,
   "metadata": {},
   "outputs": [
    {
     "data": {
      "text/plain": [
       "LogisticRegression()"
      ]
     },
     "execution_count": 212,
     "metadata": {},
     "output_type": "execute_result"
    }
   ],
   "source": [
    "model.fit(x_train,y_train)"
   ]
  },
  {
   "cell_type": "code",
   "execution_count": 213,
   "metadata": {},
   "outputs": [
    {
     "data": {
      "text/plain": [
       "array([[0.94442529, 0.05557471],\n",
       "       [0.89318152, 0.10681848],\n",
       "       [0.79093899, 0.20906101],\n",
       "       ...,\n",
       "       [0.87854455, 0.12145545],\n",
       "       [0.89583721, 0.10416279],\n",
       "       [0.85442332, 0.14557668]])"
      ]
     },
     "execution_count": 213,
     "metadata": {},
     "output_type": "execute_result"
    }
   ],
   "source": [
    "model.predict_proba(x_test)"
   ]
  },
  {
   "cell_type": "code",
   "execution_count": 215,
   "metadata": {},
   "outputs": [],
   "source": [
    "y_predict =[int(p[1] >0.5) for p in model.predict_proba(x_test)]"
   ]
  },
  {
   "cell_type": "code",
   "execution_count": 218,
   "metadata": {},
   "outputs": [
    {
     "data": {
      "text/plain": [
       "array([[-0.09669341,  0.21252943,  0.73956615, ..., -0.02728564,\n",
       "        -0.30308129,  0.7743805 ]])"
      ]
     },
     "execution_count": 218,
     "metadata": {},
     "output_type": "execute_result"
    }
   ],
   "source": [
    "model.coef_"
   ]
  },
  {
   "cell_type": "code",
   "execution_count": 219,
   "metadata": {},
   "outputs": [
    {
     "data": {
      "text/plain": [
       "(1, 2048)"
      ]
     },
     "execution_count": 219,
     "metadata": {},
     "output_type": "execute_result"
    }
   ],
   "source": [
    "model.coef_.shape"
   ]
  },
  {
   "cell_type": "code",
   "execution_count": 220,
   "metadata": {},
   "outputs": [],
   "source": [
    "coef = model.coef_.reshape(-1)"
   ]
  },
  {
   "cell_type": "code",
   "execution_count": 222,
   "metadata": {},
   "outputs": [
    {
     "data": {
      "text/plain": [
       "(2048,)"
      ]
     },
     "execution_count": 222,
     "metadata": {},
     "output_type": "execute_result"
    }
   ],
   "source": [
    "coef.shape"
   ]
  },
  {
   "cell_type": "code",
   "execution_count": 223,
   "metadata": {},
   "outputs": [
    {
     "data": {
      "text/plain": [
       "312"
      ]
     },
     "execution_count": 223,
     "metadata": {},
     "output_type": "execute_result"
    }
   ],
   "source": [
    "np.argmax(coef)"
   ]
  },
  {
   "cell_type": "code",
   "execution_count": 227,
   "metadata": {},
   "outputs": [],
   "source": [
    "idx = np.argsort(coef)[-10:]"
   ]
  },
  {
   "cell_type": "code",
   "execution_count": 231,
   "metadata": {},
   "outputs": [
    {
     "data": {
      "text/plain": [
       "array([ 648, 1264,  635, 1848, 1502,   43,  946,  278,  534,  312],\n",
       "      dtype=int64)"
      ]
     },
     "execution_count": 231,
     "metadata": {},
     "output_type": "execute_result"
    }
   ],
   "source": [
    "idx"
   ]
  },
  {
   "cell_type": "code",
   "execution_count": 229,
   "metadata": {},
   "outputs": [
    {
     "data": {
      "text/plain": [
       "'centre'"
      ]
     },
     "execution_count": 229,
     "metadata": {},
     "output_type": "execute_result"
    }
   ],
   "source": [
    "words[312]"
   ]
  },
  {
   "cell_type": "code",
   "execution_count": 232,
   "metadata": {},
   "outputs": [],
   "source": [
    "words=np.array(words)"
   ]
  },
  {
   "cell_type": "code",
   "execution_count": 233,
   "metadata": {},
   "outputs": [
    {
     "data": {
      "text/plain": [
       "array(['epigenetics', 'national', 'enhancing', 'technologies', 'program',\n",
       "       'advanced', 'innovation', 'canadian', 'disease', 'centre'],\n",
       "      dtype='<U20')"
      ]
     },
     "execution_count": 233,
     "metadata": {},
     "output_type": "execute_result"
    }
   ],
   "source": [
    "words[idx]"
   ]
  },
  {
   "cell_type": "code",
   "execution_count": null,
   "metadata": {},
   "outputs": [],
   "source": []
  }
 ],
 "metadata": {
  "kernelspec": {
   "display_name": "Python 3",
   "language": "python",
   "name": "python3"
  },
  "language_info": {
   "codemirror_mode": {
    "name": "ipython",
    "version": 3
   },
   "file_extension": ".py",
   "mimetype": "text/x-python",
   "name": "python",
   "nbconvert_exporter": "python",
   "pygments_lexer": "ipython3",
   "version": "3.8.3"
  }
 },
 "nbformat": 4,
 "nbformat_minor": 4
}

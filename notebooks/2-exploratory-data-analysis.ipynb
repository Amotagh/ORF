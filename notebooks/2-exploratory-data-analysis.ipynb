{
 "cells": [
  {
   "cell_type": "markdown",
   "metadata": {},
   "source": [
    "## Exploratory data analysis\n",
    "After the data cleaning step to put the data in the right format, it is time to explore the data to find any pattern and trend. "
   ]
  },
  {
   "cell_type": "code",
   "execution_count": 8,
   "metadata": {},
   "outputs": [],
   "source": [
    "import matplotlib.pyplot as plt\n",
    "import pandas as pd"
   ]
  },
  {
   "cell_type": "code",
   "execution_count": 308,
   "metadata": {},
   "outputs": [
    {
     "data": {
      "text/html": [
       "<div>\n",
       "<style scoped>\n",
       "    .dataframe tbody tr th:only-of-type {\n",
       "        vertical-align: middle;\n",
       "    }\n",
       "\n",
       "    .dataframe tbody tr th {\n",
       "        vertical-align: top;\n",
       "    }\n",
       "\n",
       "    .dataframe thead th {\n",
       "        text-align: right;\n",
       "    }\n",
       "</style>\n",
       "<table border=\"1\" class=\"dataframe\">\n",
       "  <thead>\n",
       "    <tr style=\"text-align: right;\">\n",
       "      <th></th>\n",
       "      <th>project_title</th>\n",
       "      <th>project_description</th>\n",
       "      <th>area_primary</th>\n",
       "      <th>discipline_primary</th>\n",
       "      <th>approval_date</th>\n",
       "      <th>lead_research_institution</th>\n",
       "      <th>city</th>\n",
       "      <th>ontario_commitment</th>\n",
       "      <th>total_project_costs</th>\n",
       "      <th>keyword</th>\n",
       "      <th>year</th>\n",
       "      <th>month</th>\n",
       "    </tr>\n",
       "  </thead>\n",
       "  <tbody>\n",
       "    <tr>\n",
       "      <th>0</th>\n",
       "      <td>density matrix renormalization group simulatio...</td>\n",
       "      <td>proposed infrastructure to consist of a comput...</td>\n",
       "      <td>763</td>\n",
       "      <td>12300.0</td>\n",
       "      <td>2005-10-24</td>\n",
       "      <td>university of windsor</td>\n",
       "      <td>windsor</td>\n",
       "      <td>50000</td>\n",
       "      <td>175708</td>\n",
       "      <td>density matrix renormalization group numerical...</td>\n",
       "      <td>2005</td>\n",
       "      <td>10</td>\n",
       "    </tr>\n",
       "    <tr>\n",
       "      <th>1</th>\n",
       "      <td>adolescent depressive vulnerability through th...</td>\n",
       "      <td>the proposed infrastructure consisting of onsi...</td>\n",
       "      <td>4</td>\n",
       "      <td>15100.0</td>\n",
       "      <td>2005-07-22</td>\n",
       "      <td>university of toronto</td>\n",
       "      <td>toronto</td>\n",
       "      <td>59422</td>\n",
       "      <td>148557</td>\n",
       "      <td>depression adolescence cognitive vulnerability...</td>\n",
       "      <td>2005</td>\n",
       "      <td>7</td>\n",
       "    </tr>\n",
       "    <tr>\n",
       "      <th>2</th>\n",
       "      <td>autonomic computing laboratory</td>\n",
       "      <td>autonomic computing laboratory will enable res...</td>\n",
       "      <td>25</td>\n",
       "      <td>11800.0</td>\n",
       "      <td>2005-10-24</td>\n",
       "      <td>university of toronto</td>\n",
       "      <td>toronto</td>\n",
       "      <td>292551</td>\n",
       "      <td>731377</td>\n",
       "      <td>scaling availability adaptive selfmanaging sel...</td>\n",
       "      <td>2005</td>\n",
       "      <td>10</td>\n",
       "    </tr>\n",
       "    <tr>\n",
       "      <th>3</th>\n",
       "      <td>laboratory for forest genomics</td>\n",
       "      <td>the proposed facility  will enable the examina...</td>\n",
       "      <td>63</td>\n",
       "      <td>14400.0</td>\n",
       "      <td>2005-07-22</td>\n",
       "      <td>university of toronto</td>\n",
       "      <td>toronto</td>\n",
       "      <td>200000</td>\n",
       "      <td>500000</td>\n",
       "      <td>comparative functional genomics molecular biol...</td>\n",
       "      <td>2005</td>\n",
       "      <td>7</td>\n",
       "    </tr>\n",
       "    <tr>\n",
       "      <th>4</th>\n",
       "      <td>stoe ipds diffractometer  stateoftheart image ...</td>\n",
       "      <td>researchers at mcmaster university intend to u...</td>\n",
       "      <td>76</td>\n",
       "      <td>13000.0</td>\n",
       "      <td>2006-12-21</td>\n",
       "      <td>mcmaster university</td>\n",
       "      <td>hamilton</td>\n",
       "      <td>100000</td>\n",
       "      <td>261369</td>\n",
       "      <td>magnetocaloric materials for magnetic refriger...</td>\n",
       "      <td>2006</td>\n",
       "      <td>12</td>\n",
       "    </tr>\n",
       "  </tbody>\n",
       "</table>\n",
       "</div>"
      ],
      "text/plain": [
       "                                       project_title  \\\n",
       "0  density matrix renormalization group simulatio...   \n",
       "1  adolescent depressive vulnerability through th...   \n",
       "2                     autonomic computing laboratory   \n",
       "3                     laboratory for forest genomics   \n",
       "4  stoe ipds diffractometer  stateoftheart image ...   \n",
       "\n",
       "                                 project_description area_primary  \\\n",
       "0  proposed infrastructure to consist of a comput...          763   \n",
       "1  the proposed infrastructure consisting of onsi...            4   \n",
       "2  autonomic computing laboratory will enable res...           25   \n",
       "3  the proposed facility  will enable the examina...           63   \n",
       "4  researchers at mcmaster university intend to u...           76   \n",
       "\n",
       "   discipline_primary approval_date lead_research_institution      city  \\\n",
       "0             12300.0    2005-10-24     university of windsor   windsor   \n",
       "1             15100.0    2005-07-22     university of toronto   toronto   \n",
       "2             11800.0    2005-10-24     university of toronto   toronto   \n",
       "3             14400.0    2005-07-22     university of toronto   toronto   \n",
       "4             13000.0    2006-12-21       mcmaster university  hamilton   \n",
       "\n",
       "   ontario_commitment  total_project_costs  \\\n",
       "0               50000               175708   \n",
       "1               59422               148557   \n",
       "2              292551               731377   \n",
       "3              200000               500000   \n",
       "4              100000               261369   \n",
       "\n",
       "                                             keyword  year  month  \n",
       "0  density matrix renormalization group numerical...  2005     10  \n",
       "1  depression adolescence cognitive vulnerability...  2005      7  \n",
       "2  scaling availability adaptive selfmanaging sel...  2005     10  \n",
       "3  comparative functional genomics molecular biol...  2005      7  \n",
       "4  magnetocaloric materials for magnetic refriger...  2006     12  "
      ]
     },
     "execution_count": 308,
     "metadata": {},
     "output_type": "execute_result"
    }
   ],
   "source": [
    "# Read in the data in the previous step\n",
    "df = pd.read_pickle(r'..\\data\\processed\\data_clean.pkl')\n",
    "df.head()"
   ]
  },
  {
   "cell_type": "code",
   "execution_count": 10,
   "metadata": {},
   "outputs": [
    {
     "data": {
      "text/html": [
       "<div>\n",
       "<style scoped>\n",
       "    .dataframe tbody tr th:only-of-type {\n",
       "        vertical-align: middle;\n",
       "    }\n",
       "\n",
       "    .dataframe tbody tr th {\n",
       "        vertical-align: top;\n",
       "    }\n",
       "\n",
       "    .dataframe thead th {\n",
       "        text-align: right;\n",
       "    }\n",
       "</style>\n",
       "<table border=\"1\" class=\"dataframe\">\n",
       "  <thead>\n",
       "    <tr style=\"text-align: right;\">\n",
       "      <th></th>\n",
       "      <th>project_title</th>\n",
       "      <th>project_description</th>\n",
       "      <th>area_primary</th>\n",
       "      <th>discipline_primary</th>\n",
       "      <th>approval_date</th>\n",
       "      <th>lead_research_institution</th>\n",
       "      <th>city</th>\n",
       "      <th>ontario_commitment</th>\n",
       "      <th>total_project_costs</th>\n",
       "      <th>keyword</th>\n",
       "      <th>year</th>\n",
       "      <th>month</th>\n",
       "    </tr>\n",
       "  </thead>\n",
       "  <tbody>\n",
       "    <tr>\n",
       "      <th>312</th>\n",
       "      <td>biological microbeam for low dose radiobiology...</td>\n",
       "      <td>the proposed research is at the international ...</td>\n",
       "      <td>77</td>\n",
       "      <td>21300.0</td>\n",
       "      <td>2004-12-16</td>\n",
       "      <td>mcmaster university</td>\n",
       "      <td>hamilton</td>\n",
       "      <td>145990</td>\n",
       "      <td>1174624</td>\n",
       "      <td>microbeam singleion irradiatoraccelerator low ...</td>\n",
       "      <td>2004</td>\n",
       "      <td>12</td>\n",
       "    </tr>\n",
       "    <tr>\n",
       "      <th>268</th>\n",
       "      <td>mobile laboratories for clinical behavioural a...</td>\n",
       "      <td>the project will establish a unique capability...</td>\n",
       "      <td>43</td>\n",
       "      <td>40800.0</td>\n",
       "      <td>2004-12-16</td>\n",
       "      <td>queens university</td>\n",
       "      <td>kingston</td>\n",
       "      <td>357063</td>\n",
       "      <td>2871206</td>\n",
       "      <td>autism spectrum disorders genetics subgrouping...</td>\n",
       "      <td>2004</td>\n",
       "      <td>12</td>\n",
       "    </tr>\n",
       "    <tr>\n",
       "      <th>267</th>\n",
       "      <td>lifespan development research centre</td>\n",
       "      <td>this ambitious well designed innovative propos...</td>\n",
       "      <td>10</td>\n",
       "      <td>22100.0</td>\n",
       "      <td>2004-12-16</td>\n",
       "      <td>brock university</td>\n",
       "      <td>stcatharines</td>\n",
       "      <td>809160</td>\n",
       "      <td>6513952</td>\n",
       "      <td>behavioural and social sciences psychology neu...</td>\n",
       "      <td>2004</td>\n",
       "      <td>12</td>\n",
       "    </tr>\n",
       "    <tr>\n",
       "      <th>179</th>\n",
       "      <td>sharcnet 2  expansion of existing grid</td>\n",
       "      <td>the shared hierarchical academic research comp...</td>\n",
       "      <td>7</td>\n",
       "      <td>5000.0</td>\n",
       "      <td>2004-12-16</td>\n",
       "      <td>the university of western ontario</td>\n",
       "      <td>london</td>\n",
       "      <td>4297250</td>\n",
       "      <td>35606145</td>\n",
       "      <td>high performance computing computational physi...</td>\n",
       "      <td>2004</td>\n",
       "      <td>12</td>\n",
       "    </tr>\n",
       "    <tr>\n",
       "      <th>180</th>\n",
       "      <td>sharcnet 2  new partners and networking</td>\n",
       "      <td>the project will establish resources for new p...</td>\n",
       "      <td>7</td>\n",
       "      <td>99998.0</td>\n",
       "      <td>2004-12-16</td>\n",
       "      <td>the university of western ontario</td>\n",
       "      <td>london</td>\n",
       "      <td>1711439</td>\n",
       "      <td>13809576</td>\n",
       "      <td>NaN</td>\n",
       "      <td>2004</td>\n",
       "      <td>12</td>\n",
       "    </tr>\n",
       "    <tr>\n",
       "      <th>...</th>\n",
       "      <td>...</td>\n",
       "      <td>...</td>\n",
       "      <td>...</td>\n",
       "      <td>...</td>\n",
       "      <td>...</td>\n",
       "      <td>...</td>\n",
       "      <td>...</td>\n",
       "      <td>...</td>\n",
       "      <td>...</td>\n",
       "      <td>...</td>\n",
       "      <td>...</td>\n",
       "      <td>...</td>\n",
       "    </tr>\n",
       "    <tr>\n",
       "      <th>3102</th>\n",
       "      <td>the development and application of genomic too...</td>\n",
       "      <td>this research program will harness genomic tec...</td>\n",
       "      <td>3</td>\n",
       "      <td>5000.0</td>\n",
       "      <td>2021-12-17</td>\n",
       "      <td>university of ottawa</td>\n",
       "      <td>ottawa</td>\n",
       "      <td>320000</td>\n",
       "      <td>862516</td>\n",
       "      <td>na</td>\n",
       "      <td>2021</td>\n",
       "      <td>12</td>\n",
       "    </tr>\n",
       "    <tr>\n",
       "      <th>3091</th>\n",
       "      <td>holistic analysis of plastic additives as envi...</td>\n",
       "      <td>dr roxanna suehring will build an analytical p...</td>\n",
       "      <td>34</td>\n",
       "      <td>12900.0</td>\n",
       "      <td>2021-12-17</td>\n",
       "      <td>ryerson university</td>\n",
       "      <td>toronto</td>\n",
       "      <td>75990</td>\n",
       "      <td>200481</td>\n",
       "      <td>na</td>\n",
       "      <td>2021</td>\n",
       "      <td>12</td>\n",
       "    </tr>\n",
       "    <tr>\n",
       "      <th>3132</th>\n",
       "      <td>lambton water centre</td>\n",
       "      <td>through this orf request lambton college will ...</td>\n",
       "      <td>NaN</td>\n",
       "      <td>NaN</td>\n",
       "      <td>2022-03-01</td>\n",
       "      <td>lambton college</td>\n",
       "      <td>sarnia</td>\n",
       "      <td>597715</td>\n",
       "      <td>1494288</td>\n",
       "      <td>water wastewater water chemisty culturing pilo...</td>\n",
       "      <td>2022</td>\n",
       "      <td>3</td>\n",
       "    </tr>\n",
       "    <tr>\n",
       "      <th>3131</th>\n",
       "      <td>niagara college nextgen greenhouse excellence</td>\n",
       "      <td>niagara college looks to expand upon strategic...</td>\n",
       "      <td>NaN</td>\n",
       "      <td>NaN</td>\n",
       "      <td>2022-03-01</td>\n",
       "      <td>niagara college</td>\n",
       "      <td>niaraga on the lake</td>\n",
       "      <td>892391</td>\n",
       "      <td>7422302</td>\n",
       "      <td>greenhouse technology cannabis biocontrols gro...</td>\n",
       "      <td>2022</td>\n",
       "      <td>3</td>\n",
       "    </tr>\n",
       "    <tr>\n",
       "      <th>3133</th>\n",
       "      <td>cambrian college</td>\n",
       "      <td>through the battery electric vehicle lab bevl ...</td>\n",
       "      <td>NaN</td>\n",
       "      <td>NaN</td>\n",
       "      <td>2022-03-01</td>\n",
       "      <td>cambrian college</td>\n",
       "      <td>sudbury</td>\n",
       "      <td>1000000</td>\n",
       "      <td>2765734</td>\n",
       "      <td>battery electric vehicles power train testing ...</td>\n",
       "      <td>2022</td>\n",
       "      <td>3</td>\n",
       "    </tr>\n",
       "  </tbody>\n",
       "</table>\n",
       "<p>3134 rows × 12 columns</p>\n",
       "</div>"
      ],
      "text/plain": [
       "                                          project_title  \\\n",
       "312   biological microbeam for low dose radiobiology...   \n",
       "268   mobile laboratories for clinical behavioural a...   \n",
       "267                lifespan development research centre   \n",
       "179              sharcnet 2  expansion of existing grid   \n",
       "180             sharcnet 2  new partners and networking   \n",
       "...                                                 ...   \n",
       "3102  the development and application of genomic too...   \n",
       "3091  holistic analysis of plastic additives as envi...   \n",
       "3132                               lambton water centre   \n",
       "3131      niagara college nextgen greenhouse excellence   \n",
       "3133                                   cambrian college   \n",
       "\n",
       "                                    project_description area_primary  \\\n",
       "312   the proposed research is at the international ...           77   \n",
       "268   the project will establish a unique capability...           43   \n",
       "267   this ambitious well designed innovative propos...           10   \n",
       "179   the shared hierarchical academic research comp...            7   \n",
       "180   the project will establish resources for new p...            7   \n",
       "...                                                 ...          ...   \n",
       "3102  this research program will harness genomic tec...            3   \n",
       "3091  dr roxanna suehring will build an analytical p...           34   \n",
       "3132  through this orf request lambton college will ...          NaN   \n",
       "3131  niagara college looks to expand upon strategic...          NaN   \n",
       "3133  through the battery electric vehicle lab bevl ...          NaN   \n",
       "\n",
       "      discipline_primary approval_date          lead_research_institution  \\\n",
       "312              21300.0    2004-12-16                mcmaster university   \n",
       "268              40800.0    2004-12-16                  queens university   \n",
       "267              22100.0    2004-12-16                   brock university   \n",
       "179               5000.0    2004-12-16  the university of western ontario   \n",
       "180              99998.0    2004-12-16  the university of western ontario   \n",
       "...                  ...           ...                                ...   \n",
       "3102              5000.0    2021-12-17               university of ottawa   \n",
       "3091             12900.0    2021-12-17                 ryerson university   \n",
       "3132                 NaN    2022-03-01                    lambton college   \n",
       "3131                 NaN    2022-03-01                    niagara college   \n",
       "3133                 NaN    2022-03-01                   cambrian college   \n",
       "\n",
       "                     city  ontario_commitment  total_project_costs  \\\n",
       "312              hamilton              145990              1174624   \n",
       "268              kingston              357063              2871206   \n",
       "267          stcatharines              809160              6513952   \n",
       "179                london             4297250             35606145   \n",
       "180                london             1711439             13809576   \n",
       "...                   ...                 ...                  ...   \n",
       "3102               ottawa              320000               862516   \n",
       "3091              toronto               75990               200481   \n",
       "3132               sarnia              597715              1494288   \n",
       "3131  niaraga on the lake              892391              7422302   \n",
       "3133              sudbury             1000000              2765734   \n",
       "\n",
       "                                                keyword  year  month  \n",
       "312   microbeam singleion irradiatoraccelerator low ...  2004     12  \n",
       "268   autism spectrum disorders genetics subgrouping...  2004     12  \n",
       "267   behavioural and social sciences psychology neu...  2004     12  \n",
       "179   high performance computing computational physi...  2004     12  \n",
       "180                                                 NaN  2004     12  \n",
       "...                                                 ...   ...    ...  \n",
       "3102                                                 na  2021     12  \n",
       "3091                                                 na  2021     12  \n",
       "3132  water wastewater water chemisty culturing pilo...  2022      3  \n",
       "3131  greenhouse technology cannabis biocontrols gro...  2022      3  \n",
       "3133  battery electric vehicles power train testing ...  2022      3  \n",
       "\n",
       "[3134 rows x 12 columns]"
      ]
     },
     "execution_count": 10,
     "metadata": {},
     "output_type": "execute_result"
    }
   ],
   "source": [
    "# sort the data base on date\n",
    "df = df.sort_values(by=\"approval_date\")\n",
    "df"
   ]
  },
  {
   "cell_type": "markdown",
   "metadata": {},
   "source": [
    "# Graphs"
   ]
  },
  {
   "cell_type": "code",
   "execution_count": 11,
   "metadata": {},
   "outputs": [
    {
     "name": "stderr",
     "output_type": "stream",
     "text": [
      "<ipython-input-11-5b59803d71ec>:1: FutureWarning: Indexing with multiple keys (implicitly converted to a tuple of keys) will be deprecated, use a list instead.\n",
      "  df.groupby(['year'])['ontario_commitment','total_project_costs'].sum().plot()\n"
     ]
    },
    {
     "data": {
      "text/plain": [
       "<matplotlib.axes._subplots.AxesSubplot at 0x1dcd09373d0>"
      ]
     },
     "execution_count": 11,
     "metadata": {},
     "output_type": "execute_result"
    },
    {
     "data": {
      "image/png": "[encoded data removed]",
      "text/plain": [
       "<Figure size 432x288 with 1 Axes>"
      ]
     },
     "metadata": {
      "needs_background": "light"
     },
     "output_type": "display_data"
    }
   ],
   "source": [
    "df.groupby(['year'])['ontario_commitment','total_project_costs'].sum().plot()\n"
   ]
  },
  {
   "cell_type": "code",
   "execution_count": 57,
   "metadata": {},
   "outputs": [
    {
     "data": {
      "image/png": "[encoded data removed]",
      "text/plain": [
       "<Figure size 432x288 with 1 Axes>"
      ]
     },
     "metadata": {
      "needs_background": "light"
     },
     "output_type": "display_data"
    }
   ],
   "source": [
    "\n",
    "fig,ax=plt.subplots()\n",
    "df.groupby(['city'])['total_project_costs'].sum().plot()\n",
    "ax.set_xticks(np.arange(len(df.groupby(['city'])['total_project_costs'].sum().index)))\n",
    "ax.set_xticklabels(df.groupby(['city'])['total_project_costs'].sum().index,rotation=90)\n",
    "ax.set_ylabel(\"Total Project Costs\")\n",
    "plt.show()"
   ]
  },
  {
   "cell_type": "code",
   "execution_count": 54,
   "metadata": {},
   "outputs": [
    {
     "data": {
      "text/plain": [
       "27"
      ]
     },
     "execution_count": 54,
     "metadata": {},
     "output_type": "execute_result"
    }
   ],
   "source": [
    "len(df.groupby(['city'])['total_project_costs'].sum().index)"
   ]
  },
  {
   "cell_type": "code",
   "execution_count": 16,
   "metadata": {},
   "outputs": [
    {
     "data": {
      "text/plain": [
       "array(['hamilton', 'kingston', 'stcatharines', 'london', 'toronto',\n",
       "       'thunder bay', 'peterborough', 'windsor', 'ottawa', 'guelph',\n",
       "       'waterloo', 'sault ste marie', 'sudbury', 'oshawa', 'north bay',\n",
       "       'niagaraonthelake', 'cornwall', 'oakville', 'kitchener', 'sarnia',\n",
       "       'scarborough', 'timmins', 'belleville', 'cambridge',\n",
       "       'st catharines', 'st catherines', nan, 'niaraga on the lake'],\n",
       "      dtype=object)"
      ]
     },
     "execution_count": 16,
     "metadata": {},
     "output_type": "execute_result"
    }
   ],
   "source": [
    "df['city'].unique()"
   ]
  },
  {
   "cell_type": "code",
   "execution_count": 313,
   "metadata": {},
   "outputs": [
    {
     "data": {
      "image/png": "[encoded data removed]",
      "text/plain": [
       "<Figure size 1440x720 with 1 Axes>"
      ]
     },
     "metadata": {
      "needs_background": "light"
     },
     "output_type": "display_data"
    }
   ],
   "source": [
    "fig,ax=plt.subplots(figsize=(20,10))\n",
    "\n",
    "df.groupby(['lead_research_institution'])['total_project_costs'].sum().plot()\n",
    "#plt.tick_params(which='minor', labelsize=__)\n",
    "ax.set_xticks(np.arange(len(df.groupby(['lead_research_institution'])['total_project_costs'].sum().index)))\n",
    "ax.set_xticklabels(df.groupby(['lead_research_institution'])['total_project_costs'].sum().index,rotation=90)\n",
    "\n",
    "#ax.set_xticklabels(df.lead_research_institution,rotation=90)\n",
    "ax.set_ylabel(\"Total Project Costs\")\n",
    "ax.set_xlabel(\"Lead Research Institution\")\n",
    "plt.show()"
   ]
  },
  {
   "cell_type": "code",
   "execution_count": 66,
   "metadata": {},
   "outputs": [
    {
     "data": {
      "text/plain": [
       "array([ 0,  1,  2,  3,  4,  5,  6,  7,  8,  9, 10, 11, 12, 13, 14, 15, 16,\n",
       "       17, 18, 19, 20, 21, 22, 23, 24, 25, 26, 27, 28, 29, 30, 31, 32, 33,\n",
       "       34, 35, 36, 37, 38, 39, 40, 41, 42, 43, 44, 45, 46, 47, 48, 49, 50,\n",
       "       51, 52, 53, 54, 55, 56, 57, 58, 59, 60, 61, 62, 63, 64, 65, 66])"
      ]
     },
     "execution_count": 66,
     "metadata": {},
     "output_type": "execute_result"
    }
   ],
   "source": [
    "np.arange(len(df.groupby(['lead_research_institution'])['total_project_costs'].sum().index))"
   ]
  },
  {
   "cell_type": "code",
   "execution_count": 73,
   "metadata": {},
   "outputs": [
    {
     "data": {
      "text/plain": [
       "lead_research_institution\n",
       "perimeter institute for theoretical physics                         1\n",
       "queens university                                                 250\n",
       "royal military college of canada                                    8\n",
       "ryerson university                                                 65\n",
       "seneca college                                                      1\n",
       "sheridan college                                                    1\n",
       "sheridan college institute of technology and advanced learning      3\n",
       "sinai health system                                                 9\n",
       "sir sandford fleming college                                        2\n",
       "st josephs health care london                                       2\n",
       "st lawrence river institute of environmental sciences               1\n",
       "st michaels hospital                                               14\n",
       "sunnybrook health sciences centre                                   2\n",
       "sunnybrook research institute                                      29\n",
       "the hospital for sick children                                     52\n",
       "the university of western ontario                                 239\n",
       "trent university                                                   42\n",
       "unity health toronto                                                2\n",
       "university health network                                          69\n",
       "university of guelph                                              230\n",
       "university of ontario institute of technology                      38\n",
       "university of ottawa                                              267\n",
       "university of ottawa heart institute                                1\n",
       "university of toronto                                             659\n",
       "university of waterloo                                            309\n",
       "university of windsor                                              70\n",
       "western university                                                  7\n",
       "wilfrid laurier university                                         43\n",
       "womens college hospital                                             3\n",
       "york university                                                   114\n",
       "Name: total_project_costs, dtype: int64"
      ]
     },
     "execution_count": 73,
     "metadata": {},
     "output_type": "execute_result"
    }
   ],
   "source": [
    "df.groupby(['lead_research_institution'])['total_project_costs'].count().tail(30)"
   ]
  },
  {
   "cell_type": "code",
   "execution_count": 71,
   "metadata": {},
   "outputs": [
    {
     "data": {
      "text/plain": [
       "<matplotlib.axes._subplots.AxesSubplot at 0x1dcd33cf790>"
      ]
     },
     "execution_count": 71,
     "metadata": {},
     "output_type": "execute_result"
    },
    {
     "data": {
      "image/png": "[encoded data removed]",
      "text/plain": [
       "<Figure size 432x288 with 1 Axes>"
      ]
     },
     "metadata": {
      "needs_background": "light"
     },
     "output_type": "display_data"
    }
   ],
   "source": [
    "df.groupby(['area_primary'])['total_project_costs'].sum().plot()"
   ]
  },
  {
   "cell_type": "code",
   "execution_count": 74,
   "metadata": {},
   "outputs": [
    {
     "data": {
      "text/plain": [
       "area_primary\n",
       "1      16\n",
       "10    166\n",
       "11      9\n",
       "12      3\n",
       "13     10\n",
       "     ... \n",
       "88     36\n",
       "9       3\n",
       "91     29\n",
       "92      6\n",
       "95      1\n",
       "Name: total_project_costs, Length: 101, dtype: int64"
      ]
     },
     "execution_count": 74,
     "metadata": {},
     "output_type": "execute_result"
    }
   ],
   "source": [
    "df.groupby(['area_primary'])['total_project_costs'].count()"
   ]
  },
  {
   "cell_type": "code",
   "execution_count": 75,
   "metadata": {},
   "outputs": [
    {
     "data": {
      "text/plain": [
       "<matplotlib.axes._subplots.AxesSubplot at 0x1dcd3762e80>"
      ]
     },
     "execution_count": 75,
     "metadata": {},
     "output_type": "execute_result"
    },
    {
     "data": {
      "image/png": "[encoded data removed]",
      "text/plain": [
       "<Figure size 432x288 with 1 Axes>"
      ]
     },
     "metadata": {
      "needs_background": "light"
     },
     "output_type": "display_data"
    }
   ],
   "source": [
    "df.groupby(['discipline_primary'])['total_project_costs'].sum().plot()"
   ]
  },
  {
   "cell_type": "code",
   "execution_count": 76,
   "metadata": {},
   "outputs": [
    {
     "data": {
      "text/plain": [
       "discipline_primary\n",
       "5000.0      28\n",
       "10000.0     16\n",
       "10001.0     26\n",
       "10100.0     59\n",
       "10200.0     15\n",
       "            ..\n",
       "42600.0      8\n",
       "42700.0     26\n",
       "42800.0     13\n",
       "99998.0      7\n",
       "110000.0     1\n",
       "Name: total_project_costs, Length: 123, dtype: int64"
      ]
     },
     "execution_count": 76,
     "metadata": {},
     "output_type": "execute_result"
    }
   ],
   "source": [
    "df.groupby(['discipline_primary'])['total_project_costs'].count()"
   ]
  },
  {
   "cell_type": "code",
   "execution_count": 77,
   "metadata": {},
   "outputs": [
    {
     "data": {
      "text/plain": [
       "discipline_primary\n",
       "5000.0      178267934\n",
       "10000.0      46811163\n",
       "10001.0     194286999\n",
       "10100.0      97288953\n",
       "10200.0      20487662\n",
       "              ...    \n",
       "42600.0       3597723\n",
       "42700.0     117169557\n",
       "42800.0       8181836\n",
       "99998.0      21408865\n",
       "110000.0       544070\n",
       "Name: total_project_costs, Length: 123, dtype: int32"
      ]
     },
     "execution_count": 77,
     "metadata": {},
     "output_type": "execute_result"
    }
   ],
   "source": [
    "df.groupby(['discipline_primary'])['total_project_costs'].sum()\n"
   ]
  },
  {
   "cell_type": "code",
   "execution_count": 84,
   "metadata": {},
   "outputs": [
    {
     "data": {
      "text/plain": [
       "'density matrix renormalization group simulations of systems in condensed matter physics and quantum chemistry'"
      ]
     },
     "execution_count": 84,
     "metadata": {},
     "output_type": "execute_result"
    }
   ],
   "source": [
    "df['project_title'][0]"
   ]
  },
  {
   "cell_type": "markdown",
   "metadata": {},
   "source": [
    "# Tokens"
   ]
  },
  {
   "cell_type": "code",
   "execution_count": 124,
   "metadata": {},
   "outputs": [],
   "source": [
    "tokens=df['project_title'][0].split()\n"
   ]
  },
  {
   "cell_type": "code",
   "execution_count": 134,
   "metadata": {},
   "outputs": [],
   "source": [
    "tokens=[]\n",
    "for text in df['project_title']:\n",
    "    tokens.append(list(set(text.split())))"
   ]
  },
  {
   "cell_type": "code",
   "execution_count": 135,
   "metadata": {},
   "outputs": [
    {
     "data": {
      "text/plain": [
       "3134"
      ]
     },
     "execution_count": 135,
     "metadata": {},
     "output_type": "execute_result"
    }
   ],
   "source": [
    "len(tokens)"
   ]
  },
  {
   "cell_type": "code",
   "execution_count": 138,
   "metadata": {},
   "outputs": [
    {
     "data": {
      "text/plain": [
       "[['environmental',\n",
       "  'holistic',\n",
       "  'contaminants',\n",
       "  'plastic',\n",
       "  'of',\n",
       "  'as',\n",
       "  'analysis',\n",
       "  'additives'],\n",
       " ['lambton', 'centre', 'water'],\n",
       " ['greenhouse', 'excellence', 'college', 'nextgen', 'niagara'],\n",
       " ['cambrian', 'college']]"
      ]
     },
     "execution_count": 138,
     "metadata": {},
     "output_type": "execute_result"
    }
   ],
   "source": [
    "tokens[3130:3134]"
   ]
  },
  {
   "cell_type": "code",
   "execution_count": 236,
   "metadata": {},
   "outputs": [],
   "source": [
    "from sklearn.feature_extraction.text import TfidfVectorizer"
   ]
  },
  {
   "cell_type": "code",
   "execution_count": 237,
   "metadata": {},
   "outputs": [],
   "source": [
    "vectorizer = TfidfVectorizer(min_df=2)"
   ]
  },
  {
   "cell_type": "code",
   "execution_count": 238,
   "metadata": {},
   "outputs": [],
   "source": [
    "tfidf = vectorizer.fit_transform(df['project_title'])"
   ]
  },
  {
   "cell_type": "code",
   "execution_count": 281,
   "metadata": {},
   "outputs": [
    {
     "data": {
      "text/plain": [
       "{'biological': 217,\n",
       " 'microbeam': 1149,\n",
       " 'for': 746,\n",
       " 'low': 1073,\n",
       " 'dose': 552,\n",
       " 'radiobiology': 1546,\n",
       " 'research': 1611,\n",
       " 'mobile': 1187,\n",
       " 'laboratories': 1018,\n",
       " 'clinical': 352,\n",
       " 'behavioural': 189,\n",
       " 'and': 87,\n",
       " 'genetic': 784,\n",
       " 'of': 1326,\n",
       " 'families': 706,\n",
       " 'with': 2032,\n",
       " 'autism': 160,\n",
       " 'spectrum': 1759,\n",
       " 'disorders': 539,\n",
       " 'developmental': 510,\n",
       " 'lifespan': 1046,\n",
       " 'development': 509,\n",
       " 'centre': 312,\n",
       " 'sharcnet': 1704,\n",
       " 'expansion': 680,\n",
       " 'existing': 676,\n",
       " 'grid': 816,\n",
       " 'new': 1296,\n",
       " 'partners': 1380,\n",
       " 'networking': 1272,\n",
       " 'scanning': 1661,\n",
       " 'probe': 1491,\n",
       " 'facilities': 698,\n",
       " 'nanoscale': 1256,\n",
       " 'mechanical': 1112,\n",
       " 'electrical': 593,\n",
       " 'studies': 1796,\n",
       " 'materials': 1100,\n",
       " 'interfaces': 973,\n",
       " 'the': 1864,\n",
       " 'polar': 1455,\n",
       " 'environment': 639,\n",
       " 'atmospheric': 148,\n",
       " 'laboratory': 1019,\n",
       " 'at': 144,\n",
       " 'three': 1877,\n",
       " 'project': 1506,\n",
       " 'testing': 1861,\n",
       " 'fullscale': 763,\n",
       " 'to': 1886,\n",
       " 'using': 1970,\n",
       " 'realistic': 1559,\n",
       " 'extreme': 693,\n",
       " 'environmental': 640,\n",
       " 'loads': 1063,\n",
       " 'canadian': 278,\n",
       " 'pain': 1371,\n",
       " 'trials': 1931,\n",
       " 'network': 1271,\n",
       " 'sensitive': 1687,\n",
       " 'elemental': 606,\n",
       " 'structural': 1791,\n",
       " 'radiation': 1544,\n",
       " 'from': 760,\n",
       " 'synchrotron': 1831,\n",
       " 'light': 1047,\n",
       " 'source': 1743,\n",
       " 'infrastructure': 936,\n",
       " 'watershed': 2011,\n",
       " 'integrated': 960,\n",
       " 'nutrient': 1315,\n",
       " 'study': 1798,\n",
       " 'sites': 1721,\n",
       " 'in': 914,\n",
       " 'boreal': 254,\n",
       " 'forest': 750,\n",
       " 'university': 1958,\n",
       " 'western': 2021,\n",
       " 'ontario': 1334,\n",
       " 'data': 471,\n",
       " 'technology': 1849,\n",
       " 'facility': 699,\n",
       " 'promoting': 1511,\n",
       " 'innovative': 948,\n",
       " 'analysis': 81,\n",
       " 'lakehead': 1024,\n",
       " 'virtual': 1993,\n",
       " 'advanced': 43,\n",
       " 'teaching': 1843,\n",
       " 'training': 1901,\n",
       " 'program': 1502,\n",
       " 'immune': 895,\n",
       " 'tolerance': 1887,\n",
       " 'transplantation': 1922,\n",
       " 'molecular': 1201,\n",
       " 'platform': 1451,\n",
       " 'spatiotemporal': 1749,\n",
       " 'targeting': 1841,\n",
       " 'response': 1623,\n",
       " 'innovation': 946,\n",
       " 'medical': 1121,\n",
       " 'discovery': 533,\n",
       " 'institute': 955,\n",
       " 'genomic': 789,\n",
       " 'instability': 954,\n",
       " 'cancer': 280,\n",
       " 'cell': 305,\n",
       " 'neutron': 1295,\n",
       " 'dna': 548,\n",
       " 'forensic': 748,\n",
       " 'science': 1667,\n",
       " 'biomaterials': 225,\n",
       " 'processing': 1497,\n",
       " 'rock': 1644,\n",
       " 'fracture': 756,\n",
       " 'dynamics': 566,\n",
       " 'experimental': 683,\n",
       " 'deformation': 486,\n",
       " 'geophysical': 797,\n",
       " 'imaging': 893,\n",
       " 'validation': 1974,\n",
       " 'numerical': 1314,\n",
       " 'modelling': 1193,\n",
       " 'establishment': 658,\n",
       " 'national': 1264,\n",
       " 'core': 426,\n",
       " 'monitor': 1205,\n",
       " 'responses': 1624,\n",
       " 'humans': 873,\n",
       " 'or': 1347,\n",
       " 'therapeutic': 1869,\n",
       " 'vaccines': 1973,\n",
       " 'against': 53,\n",
       " 'infectious': 929,\n",
       " 'diseases': 536,\n",
       " 'autoimmunity': 161,\n",
       " 'intelligent': 965,\n",
       " 'design': 497,\n",
       " 'adaptation': 30,\n",
       " 'rehabilitation': 1587,\n",
       " 'people': 1400,\n",
       " 'challenging': 318,\n",
       " 'environments': 642,\n",
       " 'manufacturing': 1089,\n",
       " 'microcellular': 1155,\n",
       " 'plastics': 1449,\n",
       " 'superior': 1813,\n",
       " 'properties': 1513,\n",
       " 'nanofabrication': 1250,\n",
       " 'metamaterials': 1141,\n",
       " 'cognition': 360,\n",
       " 'southern': 1745,\n",
       " 'aerosol': 48,\n",
       " 'community': 378,\n",
       " 'approach': 106,\n",
       " 'multiscale': 1236,\n",
       " 'air': 65,\n",
       " 'quality': 1537,\n",
       " 'systems': 1838,\n",
       " 'biology': 219,\n",
       " 'complex': 380,\n",
       " 'relationships': 1592,\n",
       " 'patterns': 1393,\n",
       " 'governing': 804,\n",
       " 'networks': 1273,\n",
       " 'large': 1030,\n",
       " 'lake': 1023,\n",
       " 'ecosystems': 579,\n",
       " 'quantify': 1539,\n",
       " 'model': 1190,\n",
       " 'impact': 901,\n",
       " 'multiple': 1234,\n",
       " 'stressors': 1789,\n",
       " 'accelerated': 9,\n",
       " 'catalysts': 299,\n",
       " 'catalytic': 300,\n",
       " 'processes': 1496,\n",
       " 'soft': 1732,\n",
       " 'xray': 2042,\n",
       " 'beamline': 183,\n",
       " 'carleton': 295,\n",
       " 'visualization': 1999,\n",
       " 'simulation': 1714,\n",
       " 'public': 1532,\n",
       " 'use': 1966,\n",
       " 'microdata': 1157,\n",
       " 'sample': 1653,\n",
       " 'census': 310,\n",
       " 'maritime': 1093,\n",
       " 'electron': 598,\n",
       " 'microscopy': 1167,\n",
       " 'performance': 1407,\n",
       " 'geosynthetics': 798,\n",
       " 'under': 1951,\n",
       " 'conditions': 397,\n",
       " 'secure': 1675,\n",
       " 'high': 843,\n",
       " 'computing': 394,\n",
       " 'integrative': 963,\n",
       " 'genomics': 790,\n",
       " 'health': 833,\n",
       " 'an': 78,\n",
       " 'distributed': 544,\n",
       " 'collaborative': 366,\n",
       " 'work': 2035,\n",
       " 'applied': 103,\n",
       " 'evolution': 667,\n",
       " 'fusion': 771,\n",
       " 'ecology': 574,\n",
       " 'photovoltaic': 1434,\n",
       " 'devices': 513,\n",
       " 'membranes': 1128,\n",
       " 'surfaces': 1820,\n",
       " 'natural': 1265,\n",
       " 'stateoftheart': 1770,\n",
       " 'biophysical': 237,\n",
       " 'polymer': 1461,\n",
       " 'functional': 765,\n",
       " 'chemical': 330,\n",
       " 'genetics': 786,\n",
       " 'fuel': 761,\n",
       " 'major': 1081,\n",
       " 'equipment': 652,\n",
       " 'digital': 526,\n",
       " 'cinema': 344,\n",
       " 'diabetes': 514,\n",
       " 'therapies': 1871,\n",
       " 'tools': 1889,\n",
       " 'biotechnology': 245,\n",
       " 'proteomic': 1521,\n",
       " 'spectroscopic': 1757,\n",
       " 'computational': 390,\n",
       " 'approaches': 107,\n",
       " 'optical': 1339,\n",
       " 'telescope': 1850,\n",
       " 'asymmetric': 143,\n",
       " 'catalysis': 297,\n",
       " 'enantioselective': 625,\n",
       " 'synthesis': 1833,\n",
       " 'chiral': 337,\n",
       " 'applications': 102,\n",
       " 'neurogenetics': 1283,\n",
       " 'exploring': 688,\n",
       " 'learning': 1038,\n",
       " 'mathematics': 1103,\n",
       " 'small': 1725,\n",
       " 'animal': 89,\n",
       " 'care': 294,\n",
       " 'unit': 1955,\n",
       " 'understanding': 1954,\n",
       " 'prevention': 1487,\n",
       " 'treatment': 1927,\n",
       " 'kidney': 1010,\n",
       " 'evolutionary': 668,\n",
       " 'vivo': 2003,\n",
       " 'system': 1835,\n",
       " 'noninvasive': 1307,\n",
       " 'on': 1328,\n",
       " 'remodeling': 1598,\n",
       " 'heart': 837,\n",
       " 'failure': 703,\n",
       " 'biochemical': 203,\n",
       " 'level': 1043,\n",
       " 'expression': 689,\n",
       " 'into': 984,\n",
       " 'cells': 308,\n",
       " 'characterization': 327,\n",
       " 'transgenic': 1914,\n",
       " 'mice': 1147,\n",
       " 'robotic': 1641,\n",
       " 'testbed': 1860,\n",
       " 'minimally': 1178,\n",
       " 'invasive': 988,\n",
       " 'surgery': 1821,\n",
       " 'therapy': 1872,\n",
       " 'corrosion': 428,\n",
       " 'strength': 1787,\n",
       " 'reinforced': 1588,\n",
       " 'concrete': 396,\n",
       " 'structures': 1795,\n",
       " 'function': 764,\n",
       " 'microbial': 1151,\n",
       " 'biogeochemistry': 213,\n",
       " 'interactions': 969,\n",
       " 'soils': 1735,\n",
       " 'sediments': 1678,\n",
       " 'protection': 1517,\n",
       " 'automated': 162,\n",
       " 'microscope': 1165,\n",
       " 'live': 1057,\n",
       " 'comparative': 379,\n",
       " 'webbased': 2015,\n",
       " 'investigation': 991,\n",
       " 'behaviour': 188,\n",
       " 'swine': 1828,\n",
       " 'control': 419,\n",
       " 'across': 21,\n",
       " 'translation': 1919,\n",
       " 'underlying': 1952,\n",
       " 'criminal': 441,\n",
       " 'justice': 1008,\n",
       " 'decisionmaking': 481,\n",
       " 'setup': 1701,\n",
       " 'metabolic': 1133,\n",
       " 'profiling': 1501,\n",
       " 'wine': 2029,\n",
       " 'acid': 17,\n",
       " 'bacteria': 171,\n",
       " 'yeast': 2043,\n",
       " 'tunable': 1938,\n",
       " 'laser': 1032,\n",
       " 'spectroscopy': 1758,\n",
       " 'combustion': 374,\n",
       " 'emissions': 617,\n",
       " 'representational': 1608,\n",
       " 'enzyme': 643,\n",
       " 'kinetics': 1012,\n",
       " 'gene': 780,\n",
       " 'regulation': 1584,\n",
       " 'investigating': 990,\n",
       " 'sulfur': 1808,\n",
       " 'metabolism': 1134,\n",
       " 'personality': 1412,\n",
       " 'wellbeing': 2019,\n",
       " 'signal': 1706,\n",
       " 'insects': 951,\n",
       " 'their': 1866,\n",
       " 'viral': 1992,\n",
       " 'pathogens': 1384,\n",
       " 'media': 1117,\n",
       " 'collaboration': 364,\n",
       " 'support': 1815,\n",
       " 'augmented': 159,\n",
       " 'reality': 1560,\n",
       " 'archives': 116,\n",
       " 'culture': 456,\n",
       " 'policy': 1457,\n",
       " 'initiatives': 942,\n",
       " 'comprehensive': 388,\n",
       " 'analyses': 79,\n",
       " 'by': 271,\n",
       " 'capillary': 286,\n",
       " 'spectrometry': 1756,\n",
       " 'bioarchaeology': 202,\n",
       " 'detection': 499,\n",
       " 'food': 744,\n",
       " 'production': 1499,\n",
       " 'physiological': 1438,\n",
       " 'basis': 180,\n",
       " 'mental': 1131,\n",
       " 'neuroplasticity': 1290,\n",
       " 'aging': 57,\n",
       " 'impaired': 903,\n",
       " 'its': 1005,\n",
       " 'role': 1646,\n",
       " 'hiv': 857,\n",
       " 'pathogenesis': 1382,\n",
       " 'establishing': 657,\n",
       " 'elegans': 604,\n",
       " 'as': 127,\n",
       " 'mechanisms': 1115,\n",
       " 'protein': 1518,\n",
       " 'engineering': 631,\n",
       " 'gastrointestinal': 777,\n",
       " 'epithelial': 651,\n",
       " 'allergy': 72,\n",
       " 'cellular': 309,\n",
       " 'novel': 1312,\n",
       " 'methods': 1144,\n",
       " 'assess': 131,\n",
       " 'bone': 253,\n",
       " 'determine': 505,\n",
       " 'critical': 442,\n",
       " 'factors': 701,\n",
       " 'associated': 136,\n",
       " 'joint': 1007,\n",
       " 'software': 1733,\n",
       " 'tumor': 1935,\n",
       " 'genes': 783,\n",
       " 'canada': 276,\n",
       " 'chair': 316,\n",
       " 'musculoskeletal': 1241,\n",
       " 'surgical': 1822,\n",
       " 'outcomes': 1363,\n",
       " 'resistance': 1616,\n",
       " 'drugs': 561,\n",
       " 'cardiovascular': 293,\n",
       " 'diagnosis': 515,\n",
       " 'determinants': 503,\n",
       " 'treatments': 1928,\n",
       " 'wireless': 2030,\n",
       " 'communication': 375,\n",
       " 'during': 564,\n",
       " 'connecting': 399,\n",
       " 'microscale': 1164,\n",
       " 'tissues': 1885,\n",
       " 'fibre': 718,\n",
       " 'sensing': 1686,\n",
       " 'social': 1729,\n",
       " 'cognitive': 361,\n",
       " 'replication': 1605,\n",
       " 'repair': 1604,\n",
       " 'proteins': 1520,\n",
       " 'biomolecular': 233,\n",
       " 'nuclear': 1313,\n",
       " 'magnetic': 1079,\n",
       " 'resonance': 1619,\n",
       " 'mcmaster': 1108,\n",
       " 'myogenic': 1246,\n",
       " 'aquatic': 109,\n",
       " 'center': 311,\n",
       " 'fish': 727,\n",
       " 'physiology': 1439,\n",
       " 'endocrinology': 627,\n",
       " 'sensory': 1692,\n",
       " 'information': 934,\n",
       " 'motor': 1215,\n",
       " 'fetal': 716,\n",
       " 'origins': 1358,\n",
       " 'child': 333,\n",
       " 'adult': 40,\n",
       " 'disease': 534,\n",
       " 'electrochemistry': 596,\n",
       " 'cryoelectron': 447,\n",
       " 'proteases': 1514,\n",
       " 'involved': 994,\n",
       " 'allergic': 71,\n",
       " 'airway': 68,\n",
       " 'inflammation': 930,\n",
       " 'examining': 671,\n",
       " 'stress': 1788,\n",
       " 'exercise': 675,\n",
       " 'intracellular': 985,\n",
       " 'transduction': 1907,\n",
       " 'progression': 1505,\n",
       " 'chronic': 343,\n",
       " 'pulmonary': 1533,\n",
       " 'fibrosis': 720,\n",
       " 'space': 1746,\n",
       " 'instrumentation': 957,\n",
       " 'broadband': 263,\n",
       " 'cardiac': 290,\n",
       " 'measuring': 1111,\n",
       " 'improving': 913,\n",
       " 'other': 1361,\n",
       " 'critically': 443,\n",
       " 'ill': 888,\n",
       " 'patient': 1390,\n",
       " 'acoustic': 18,\n",
       " 'measurement': 1109,\n",
       " 'flow': 732,\n",
       " 'sediment': 1677,\n",
       " 'transport': 1923,\n",
       " 'river': 1637,\n",
       " 'channel': 324,\n",
       " 'change': 321,\n",
       " 'thermal': 1873,\n",
       " 'mass': 1096,\n",
       " 'spectrometer': 1755,\n",
       " 'planetary': 1443,\n",
       " 'mammalian': 1083,\n",
       " 'vascular': 1979,\n",
       " 'cities': 348,\n",
       " 'geomatics': 796,\n",
       " 'interventions': 982,\n",
       " 'bronchopulmonary': 264,\n",
       " 'dysplasia': 568,\n",
       " 'growth': 822,\n",
       " 'lung': 1074,\n",
       " 'polarity': 1456,\n",
       " 'morphology': 1211,\n",
       " 'somatic': 1740,\n",
       " 'antibody': 94,\n",
       " 'mouse': 1216,\n",
       " 'models': 1194,\n",
       " 'human': 871,\n",
       " '3d': 2,\n",
       " 'shape': 1703,\n",
       " 'physics': 1437,\n",
       " 'server': 1697,\n",
       " 'related': 1589,\n",
       " 'rural': 1649,\n",
       " 'facilitate': 697,\n",
       " 'web': 2014,\n",
       " 'lakes': 1025,\n",
       " 'individual': 920,\n",
       " 'surface': 1819,\n",
       " 'infrared': 935,\n",
       " 'chemistry': 332,\n",
       " 'hypertension': 881,\n",
       " 'contemporary': 412,\n",
       " 'globalization': 802,\n",
       " 'equity': 653,\n",
       " 'advancing': 46,\n",
       " 'proteomics': 1522,\n",
       " 'quantitative': 1541,\n",
       " 'et': 659,\n",
       " 'de': 475,\n",
       " 'recherche': 1565,\n",
       " 'sur': 1818,\n",
       " 'les': 1040,\n",
       " 'safety': 1652,\n",
       " 'improvement': 912,\n",
       " 'particle': 1379,\n",
       " 'modern': 1195,\n",
       " 'literature': 1056,\n",
       " 'biomedical': 230,\n",
       " 'wavelength': 2012,\n",
       " 'fluorescence': 736,\n",
       " 'multielement': 1227,\n",
       " 'samples': 1654,\n",
       " 'rna': 1638,\n",
       " 'structurefunction': 1794,\n",
       " 'relationship': 1591,\n",
       " 'tissue': 1884,\n",
       " 'genetically': 785,\n",
       " 'fluorescent': 737,\n",
       " 'receptors': 1564,\n",
       " 'modulators': 1200,\n",
       " 'sensors': 1691,\n",
       " 'statistical': 1773,\n",
       " 'waterloo': 2010,\n",
       " 'recombinant': 1567,\n",
       " 'purification': 1534,\n",
       " 'youth': 2046,\n",
       " 'urban': 1965,\n",
       " 'school': 1666,\n",
       " 'performances': 1408,\n",
       " 'analytical': 82,\n",
       " 'assessing': 132,\n",
       " 'risk': 1635,\n",
       " 'emerging': 615,\n",
       " 'threats': 1876,\n",
       " 'water': 2009,\n",
       " 'creation': 438,\n",
       " 'highperformance': 851,\n",
       " 'quantum': 1542,\n",
       " 'geological': 795,\n",
       " 'achieving': 16,\n",
       " 'regulatory': 1586,\n",
       " 'used': 1967,\n",
       " 'subsurface': 1804,\n",
       " 'waste': 2007,\n",
       " 'remediation': 1597,\n",
       " 'projects': 1508,\n",
       " 'technologies': 1848,\n",
       " 'sustainable': 1827,\n",
       " 'wastewater': 2008,\n",
       " 'reuse': 1632,\n",
       " 'solid': 1737,\n",
       " 'state': 1769,\n",
       " 'electrochemical': 595,\n",
       " 'economics': 576,\n",
       " 'lab': 1016,\n",
       " 'investigate': 989,\n",
       " 'effects': 588,\n",
       " 'perception': 1405,\n",
       " 'behaviours': 190,\n",
       " 'self': 1682,\n",
       " 'modeling': 1192,\n",
       " 'plant': 1444,\n",
       " 'population': 1465,\n",
       " 'knowledge': 1014,\n",
       " 'implementation': 907,\n",
       " 'algorithms': 69,\n",
       " 'fabrication': 695,\n",
       " 'test': 1859,\n",
       " 'silicon': 1711,\n",
       " 'thin': 1874,\n",
       " 'film': 723,\n",
       " 'circuits': 347,\n",
       " 'cluster': 354,\n",
       " 'optimization': 1342,\n",
       " 'industrial': 923,\n",
       " 'tetherless': 1862,\n",
       " 'hydrothermal': 878,\n",
       " 'induced': 922,\n",
       " 'manipulation': 1087,\n",
       " 'vertebrate': 1987,\n",
       " 'plasticity': 1448,\n",
       " 'inhibitory': 939,\n",
       " 'synapses': 1829,\n",
       " 'neurobiology': 1275,\n",
       " 'respiratory': 1622,\n",
       " 'sleep': 1724,\n",
       " 'radiopharmaceutical': 1547,\n",
       " 'translational': 1920,\n",
       " 'sensorimotor': 1690,\n",
       " 'neuroimaging': 1284,\n",
       " 'basic': 179,\n",
       " 'implications': 908,\n",
       " 'stroke': 1790,\n",
       " 'recovery': 1572,\n",
       " 'psychological': 1528,\n",
       " 'trait': 1902,\n",
       " 'alzheimers': 74,\n",
       " 'neuronal': 1288,\n",
       " 'injury': 944,\n",
       " 'neuroscience': 1292,\n",
       " 'attitudes': 154,\n",
       " 'causes': 303,\n",
       " 'consequences': 400,\n",
       " 'accessories': 13,\n",
       " 'neurodegenerative': 1280,\n",
       " 'microsystems': 1169,\n",
       " 'optimal': 1341,\n",
       " 'portable': 1468,\n",
       " 'monitoring': 1206,\n",
       " 'emergency': 614,\n",
       " 'department': 492,\n",
       " 'qualitative': 1536,\n",
       " 'interaction': 968,\n",
       " 'welfare': 2018,\n",
       " 'confocal': 398,\n",
       " 'studying': 1799,\n",
       " 'providing': 1525,\n",
       " 'mathematical': 1102,\n",
       " 'excellence': 673,\n",
       " 'green': 814,\n",
       " 'nanotechnology': 1262,\n",
       " 'nanostructured': 1259,\n",
       " 'polymers': 1464,\n",
       " 'hydrogen': 876,\n",
       " 'key': 1009,\n",
       " 'behavioral': 186,\n",
       " 'controlled': 420,\n",
       " 'temperature': 1854,\n",
       " 'room': 1648,\n",
       " 'contaminants': 409,\n",
       " 'organisms': 1352,\n",
       " 'biomarker': 221,\n",
       " 'legal': 1039,\n",
       " 'security': 1676,\n",
       " 'guelph': 823,\n",
       " 'management': 1084,\n",
       " 'fermentation': 715,\n",
       " 'evaluation': 664,\n",
       " 'single': 1717,\n",
       " 'movement': 1217,\n",
       " 'reactive': 1555,\n",
       " 'oxygen': 1368,\n",
       " 'femtosecond': 714,\n",
       " 'market': 1095,\n",
       " 'cns': 356,\n",
       " 'ecological': 573,\n",
       " 'assemblies': 129,\n",
       " 'temperatures': 1855,\n",
       " 'rate': 1552,\n",
       " 'obesity': 1319,\n",
       " 'infant': 926,\n",
       " 'hearing': 836,\n",
       " 'aid': 63,\n",
       " 'crc': 436,\n",
       " 'weight': 2016,\n",
       " 'determination': 504,\n",
       " 'welldefined': 2020,\n",
       " 'carbohydrate': 288,\n",
       " 'living': 1060,\n",
       " 'polymerization': 1463,\n",
       " 'triple': 1932,\n",
       " 'chromatography': 340,\n",
       " 'automation': 163,\n",
       " 'robotics': 1642,\n",
       " 'process': 1495,\n",
       " 'signaling': 1707,\n",
       " 'genome': 787,\n",
       " 'epidemiology': 646,\n",
       " 'electronic': 599,\n",
       " 'record': 1570,\n",
       " 'input': 950,\n",
       " 'fundamental': 769,\n",
       " 'laboratorybased': 1020,\n",
       " 'measurements': 1110,\n",
       " 'parameters': 1376,\n",
       " 'required': 1610,\n",
       " 'establish': 656,\n",
       " 'reliable': 1596,\n",
       " 'complexes': 381,\n",
       " 'modifications': 1197,\n",
       " 'communications': 376,\n",
       " 'adolescent': 39,\n",
       " 'through': 1879,\n",
       " 'experience': 681,\n",
       " 'sampling': 1655,\n",
       " 'regulating': 1583,\n",
       " 'bacterial': 172,\n",
       " 'infection': 928,\n",
       " 'develop': 507,\n",
       " 'micro': 1148,\n",
       " 'highlevel': 850,\n",
       " 'station': 1772,\n",
       " 'combining': 373,\n",
       " 'ultrafast': 1945,\n",
       " 'force': 747,\n",
       " 'childhood': 334,\n",
       " 'sensitivity': 1688,\n",
       " 'ventricular': 1984,\n",
       " 'structure': 1792,\n",
       " 'sensor': 1689,\n",
       " 'surveillance': 1823,\n",
       " 'construction': 404,\n",
       " 'bioorganic': 235,\n",
       " 'physical': 1436,\n",
       " 'organic': 1351,\n",
       " 'instruments': 958,\n",
       " 'field': 721,\n",
       " 'examine': 670,\n",
       " 'carbon': 289,\n",
       " 'nitrogen': 1303,\n",
       " 'cycling': 465,\n",
       " 'psychiatric': 1526,\n",
       " 'illness': 889,\n",
       " 'application': 101,\n",
       " 'humanities': 872,\n",
       " 'sciences': 1668,\n",
       " 'knee': 1013,\n",
       " 'loading': 1062,\n",
       " 'following': 743,\n",
       " 'influence': 932,\n",
       " 'cartilage': 296,\n",
       " 'remodelling': 1599,\n",
       " 'database': 472,\n",
       " 'computer': 391,\n",
       " 'apparatus': 100,\n",
       " 'geotechnical': 799,\n",
       " 'cytometer': 466,\n",
       " 'law': 1035,\n",
       " 'global': 801,\n",
       " 'evidencebased': 666,\n",
       " 'technological': 1847,\n",
       " 'risks': 1636,\n",
       " 'perspectives': 1415,\n",
       " 'diagnostic': 516,\n",
       " 'predict': 1478,\n",
       " 'studio': 1797,\n",
       " 'reading': 1556,\n",
       " 'language': 1029,\n",
       " 'innovations': 947,\n",
       " 'nanoscience': 1257,\n",
       " 'selfassembled': 1683,\n",
       " 'intensive': 967,\n",
       " 'nutritional': 1318,\n",
       " 'mutation': 1244,\n",
       " 'load': 1061,\n",
       " 'damage': 469,\n",
       " 'relevant': 1595,\n",
       " 'neurodegeneration': 1279,\n",
       " 'stem': 1776,\n",
       " 'bioengineering': 208,\n",
       " 'toronto': 1890,\n",
       " 'archaeology': 112,\n",
       " 'history': 856,\n",
       " 'art': 123,\n",
       " 'submillimeter': 1802,\n",
       " 'ethics': 660,\n",
       " 'philosophy': 1429,\n",
       " 'innate': 945,\n",
       " 'type': 1942,\n",
       " 'catalyst': 298,\n",
       " 'neuromuscular': 1287,\n",
       " 'assessment': 133,\n",
       " 'first': 726,\n",
       " 'amyotrophic': 76,\n",
       " 'lateral': 1033,\n",
       " 'sclerosis': 1670,\n",
       " 'events': 665,\n",
       " 'maternal': 1101,\n",
       " 'motherchild': 1212,\n",
       " 'childrens': 336,\n",
       " 'socioemotional': 1731,\n",
       " 'immunology': 898,\n",
       " 'fast': 708,\n",
       " 'techniques': 1846,\n",
       " 'developments': 511,\n",
       " 'advances': 45,\n",
       " 'minimal': 1177,\n",
       " 'archive': 115,\n",
       " 'dataintensive': 474,\n",
       " 'realtime': 1561,\n",
       " 'resources': 1621,\n",
       " 'conservation': 401,\n",
       " 'amphibian': 75,\n",
       " 'populations': 1466,\n",
       " 'factor': 700,\n",
       " 'action': 22,\n",
       " 'fibroblasts': 719,\n",
       " 'hostpathogen': 866,\n",
       " 'cytometry': 467,\n",
       " 'setting': 1700,\n",
       " 'northern': 1311,\n",
       " 'archaeological': 111,\n",
       " 'initiative': 941,\n",
       " 'metal': 1137,\n",
       " 'forming': 754,\n",
       " 'rapid': 1550,\n",
       " 'prototyping': 1524,\n",
       " 'ryerson': 1650,\n",
       " 'embodied': 612,\n",
       " 'architecture': 113,\n",
       " 'real': 1558,\n",
       " 'vision': 1997,\n",
       " 'aerospace': 49,\n",
       " 'tomography': 1888,\n",
       " 'ultrasonic': 1947,\n",
       " 'doppler': 551,\n",
       " 'velocimetry': 1983,\n",
       " 'continuous': 415,\n",
       " 'fluids': 735,\n",
       " 'sources': 1744,\n",
       " 'entanglement': 636,\n",
       " 'angle': 88,\n",
       " 'scattering': 1662,\n",
       " 'adaptive': 32,\n",
       " 'variation': 1978,\n",
       " 'geographic': 793,\n",
       " 'statistics': 1774,\n",
       " 'mixtures': 1186,\n",
       " 'fault': 711,\n",
       " 'multimedia': 1230,\n",
       " 'advancement': 44,\n",
       " 'interdisciplinary': 971,\n",
       " 'chromatin': 338,\n",
       " 'epigenetic': 647,\n",
       " 'based': 177,\n",
       " 'multidisciplinary': 1226,\n",
       " 'paleoecology': 1372,\n",
       " 'isolation': 1002,\n",
       " 'identification': 883,\n",
       " 'important': 909,\n",
       " 'receptor': 1563,\n",
       " 'plasma': 1447,\n",
       " 'membrane': 1127,\n",
       " 'density': 491,\n",
       " 'matrix': 1104,\n",
       " 'group': 820,\n",
       " 'simulations': 1715,\n",
       " 'matter': 1105,\n",
       " 'drosophila': 559,\n",
       " 'methylation': 1145,\n",
       " 'diseased': 535,\n",
       " 'states': 1771,\n",
       " 'hardware': 828,\n",
       " 'aided': 64,\n",
       " 'cold': 363,\n",
       " 'regions': 1581,\n",
       " 'biogeochemical': 212,\n",
       " 'gender': 779,\n",
       " 'migration': 1172,\n",
       " 'screening': 1671,\n",
       " 'sexual': 1702,\n",
       " 'signalling': 1708,\n",
       " 'highthroughput': 855,\n",
       " 'sequencing': 1696,\n",
       " 'marine': 1092,\n",
       " 'freshwater': 759,\n",
       " 'species': 1752,\n",
       " 'biodiversity': 206,\n",
       " 'nipissing': 1302,\n",
       " 'soil': 1734,\n",
       " 'observation': 1321,\n",
       " 'satellite': 1656,\n",
       " 'calibration': 273,\n",
       " 'auditory': 158,\n",
       " 'exploration': 686,\n",
       " 'that': 1863,\n",
       " 'memory': 1129,\n",
       " 'impairment': 904,\n",
       " 'patients': 1391,\n",
       " 'therapeutics': 1870,\n",
       " 'bioinformatics': 216,\n",
       " 'disability': 529,\n",
       " 'enhancing': 635,\n",
       " 'muscle': 1239,\n",
       " 'pedagogy': 1396,\n",
       " 'gaming': 774,\n",
       " 'motivation': 1214,\n",
       " 'international': 977,\n",
       " 'hydrology': 877,\n",
       " 'enhancement': 634,\n",
       " 'tumours': 1937,\n",
       " 'pathology': 1386,\n",
       " 'autonomic': 165,\n",
       " 'york': 2044,\n",
       " 'noble': 1306,\n",
       " 'liquid': 1055,\n",
       " 'astrophysics': 142,\n",
       " 'detectors': 501,\n",
       " 'solar': 1736,\n",
       " 'neutrino': 1293,\n",
       " 'recognition': 1566,\n",
       " 'artificial': 125,\n",
       " 'ion': 996,\n",
       " 'channels': 325,\n",
       " 'photonics': 1432,\n",
       " 'nanostructure': 1258,\n",
       " 'formation': 753,\n",
       " 'normal': 1309,\n",
       " 'virus': 1995,\n",
       " 'host': 865,\n",
       " 'immunity': 896,\n",
       " 'laboratoire': 1017,\n",
       " 'des': 496,\n",
       " 'cultures': 457,\n",
       " 'audiovisual': 157,\n",
       " 'society': 1730,\n",
       " 'creating': 437,\n",
       " 'longterm': 1071,\n",
       " 'material': 1099,\n",
       " 'observing': 1323,\n",
       " 'nano': 1247,\n",
       " 'scales': 1659,\n",
       " 'programmed': 1503,\n",
       " 'death': 477,\n",
       " 'apoptosis': 99,\n",
       " 'reward': 1633,\n",
       " 'highspeed': 854,\n",
       " 'mems': 1130,\n",
       " 'systematic': 1836,\n",
       " 'neural': 1274,\n",
       " 'affective': 51,\n",
       " 'responsiveness': 1627,\n",
       " 'throughput': 1880,\n",
       " 'organization': 1353,\n",
       " 'attention': 153,\n",
       " 'world': 2038,\n",
       " 'hormonal': 862,\n",
       " 'ovarian': 1364,\n",
       " 'craniofacial': 435,\n",
       " 'investigations': 993,\n",
       " 'mechanism': 1114,\n",
       " 'metalloproteins': 1139,\n",
       " 'atherothrombotic': 146,\n",
       " 'mediated': 1118,\n",
       " 'concepts': 395,\n",
       " 'operating': 1337,\n",
       " 'simulator': 1716,\n",
       " 'technical': 1845,\n",
       " 'automotive': 164,\n",
       " 'occupational': 1325,\n",
       " 'indigenous': 918,\n",
       " 'storytelling': 1782,\n",
       " 'identity': 886,\n",
       " 'house': 868,\n",
       " 'zebrafish': 2047,\n",
       " 'aquaculture': 108,\n",
       " 'embryonic': 613,\n",
       " 'hybrid': 874,\n",
       " 'search': 1674,\n",
       " 'retinal': 1630,\n",
       " 'acute': 28,\n",
       " 'inflammatory': 931,\n",
       " 'changes': 322,\n",
       " 'obstructive': 1324,\n",
       " 'breeding': 259,\n",
       " 'pattern': 1392,\n",
       " 'deciphering': 479,\n",
       " 'bridge': 260,\n",
       " 'educational': 584,\n",
       " 'practice': 1473,\n",
       " 'reservoir': 1612,\n",
       " 'subcellular': 1800,\n",
       " 'microvascular': 1170,\n",
       " 'characterize': 328,\n",
       " 'ions': 997,\n",
       " 'ethnography': 661,\n",
       " 'photonic': 1431,\n",
       " 'crystal': 451,\n",
       " 'paleolimnological': 1373,\n",
       " 'integrating': 961,\n",
       " 'electrophysiology': 603,\n",
       " 'epilepsy': 650,\n",
       " 'education': 583,\n",
       " 'developing': 508,\n",
       " 'plantmicrobe': 1445,\n",
       " 'smart': 1726,\n",
       " 'enhanced': 633,\n",
       " 'scientific': 1669,\n",
       " 'lightmatter': 1048,\n",
       " 'location': 1065,\n",
       " 'recording': 1571,\n",
       " 'playback': 1453,\n",
       " 'temperate': 1853,\n",
       " 'tropical': 1933,\n",
       " 'birds': 249,\n",
       " 'designing': 498,\n",
       " 'generation': 782,\n",
       " 'diverse': 546,\n",
       " 'body': 252,\n",
       " 'composition': 386,\n",
       " 'energy': 629,\n",
       " 'modulation': 1199,\n",
       " 'life': 1045,\n",
       " 'acquisition': 20,\n",
       " 'microbiology': 1152,\n",
       " 'morphogenesis': 1210,\n",
       " 'supporting': 1816,\n",
       " 'theoretical': 1867,\n",
       " 'bioimaging': 214,\n",
       " 'mining': 1179,\n",
       " 'ottawa': 1362,\n",
       " ...}"
      ]
     },
     "execution_count": 281,
     "metadata": {},
     "output_type": "execute_result"
    }
   ],
   "source": [
    "a=vectorizer.vocabulary_  # converting words to numbers\n",
    "a.get(3133)\n",
    "a"
   ]
  },
  {
   "cell_type": "code",
   "execution_count": 275,
   "metadata": {},
   "outputs": [],
   "source": [
    "keys=list(a.keys())\n",
    "values=list(a.values())"
   ]
  },
  {
   "cell_type": "code",
   "execution_count": 276,
   "metadata": {},
   "outputs": [
    {
     "data": {
      "text/plain": [
       "1818"
      ]
     },
     "execution_count": 276,
     "metadata": {},
     "output_type": "execute_result"
    }
   ],
   "source": [
    "values.index(369)"
   ]
  },
  {
   "cell_type": "code",
   "execution_count": 277,
   "metadata": {},
   "outputs": [
    {
     "data": {
      "text/plain": [
       "'college'"
      ]
     },
     "execution_count": 277,
     "metadata": {},
     "output_type": "execute_result"
    }
   ],
   "source": [
    "keys[1818]"
   ]
  },
  {
   "cell_type": "code",
   "execution_count": 246,
   "metadata": {},
   "outputs": [
    {
     "data": {
      "text/plain": [
       "2048"
      ]
     },
     "execution_count": 246,
     "metadata": {},
     "output_type": "execute_result"
    }
   ],
   "source": [
    "len(vectorizer.vocabulary_)"
   ]
  },
  {
   "cell_type": "code",
   "execution_count": 248,
   "metadata": {},
   "outputs": [
    {
     "name": "stdout",
     "output_type": "stream",
     "text": [
      "  (0, 1611)\t0.177016159658458\n",
      "  (0, 1546)\t0.4814724882641371\n",
      "  (0, 552)\t0.4814724882641371\n",
      "  (0, 1073)\t0.3840225034826804\n",
      "  (0, 746)\t0.11251244527772755\n",
      "  (0, 1149)\t0.4814724882641371\n",
      "  (0, 217)\t0.3362821357588203\n",
      "  (1, 510)\t0.28416693553372074\n",
      "  (1, 539)\t0.2630218992732134\n",
      "  (1, 1759)\t0.3503009579270666\n",
      "  (1, 160)\t0.33176844929625976\n",
      "  (1, 2032)\t0.22576917419048156\n",
      "  (1, 706)\t0.36344998205769236\n",
      "  (1, 1326)\t0.09044510328905478\n",
      "  (1, 784)\t0.2511604755059299\n",
      "  (1, 87)\t0.15651342373516153\n",
      "  (1, 189)\t0.2630218992732134\n",
      "  (1, 352)\t0.27450867512155525\n",
      "  (1, 1018)\t0.34010178244206707\n",
      "  (1, 1187)\t0.2665395414342022\n",
      "  (1, 746)\t0.08493246699284583\n",
      "  (2, 312)\t0.44493622184870013\n",
      "  (2, 509)\t0.40584328795829827\n",
      "  (2, 1046)\t0.7343013302806044\n",
      "  (2, 1611)\t0.3132483686379495\n",
      "  :\t:\n",
      "  (3129, 101)\t0.3556351579291843\n",
      "  (3129, 1635)\t0.3523655774115289\n",
      "  (3129, 871)\t0.2572096132973142\n",
      "  (3129, 1889)\t0.2950806316520439\n",
      "  (3129, 833)\t0.2307019980625796\n",
      "  (3129, 789)\t0.34927281955781975\n",
      "  (3129, 1886)\t0.18037136787362035\n",
      "  (3129, 1864)\t0.14167265215794753\n",
      "  (3129, 509)\t0.2166640139388233\n",
      "  (3129, 1326)\t0.11319212255187747\n",
      "  (3129, 87)\t0.19587668095004815\n",
      "  (3130, 858)\t0.5805310320120702\n",
      "  (3130, 409)\t0.4926331948809889\n",
      "  (3130, 127)\t0.4384669482231158\n",
      "  (3130, 81)\t0.30370960716800766\n",
      "  (3130, 640)\t0.3390177307031788\n",
      "  (3130, 1326)\t0.14446606615734725\n",
      "  (3131, 2009)\t0.8024721613322721\n",
      "  (3131, 312)\t0.5966895593914074\n",
      "  (3132, 1298)\t0.47478738524042224\n",
      "  (3132, 369)\t0.42419660782175683\n",
      "  (3132, 1300)\t0.45761035650568965\n",
      "  (3132, 815)\t0.44428681791940217\n",
      "  (3132, 673)\t0.43340069424363553\n",
      "  (3133, 369)\t1.0\n"
     ]
    }
   ],
   "source": [
    "print(tfidf) "
   ]
  },
  {
   "cell_type": "code",
   "execution_count": 288,
   "metadata": {},
   "outputs": [
    {
     "data": {
      "text/plain": [
       "array([1611, 1546,  552, ...,  815,  673,  369], dtype=int32)"
      ]
     },
     "execution_count": 288,
     "metadata": {},
     "output_type": "execute_result"
    }
   ],
   "source": [
    "tfidf.nonzero()[1]"
   ]
  },
  {
   "cell_type": "code",
   "execution_count": 302,
   "metadata": {},
   "outputs": [
    {
     "data": {
      "text/plain": [
       "0.43340069424363553"
      ]
     },
     "execution_count": 302,
     "metadata": {},
     "output_type": "execute_result"
    }
   ],
   "source": [
    "tfidf[3132,673]"
   ]
  },
  {
   "cell_type": "code",
   "execution_count": 240,
   "metadata": {},
   "outputs": [
    {
     "data": {
      "text/plain": [
       "scipy.sparse.csr.csr_matrix"
      ]
     },
     "execution_count": 240,
     "metadata": {},
     "output_type": "execute_result"
    }
   ],
   "source": [
    "#fit change and fit the model\n",
    "#transform just return the value of known model\n",
    "type(tfidf)"
   ]
  },
  {
   "cell_type": "code",
   "execution_count": 168,
   "metadata": {},
   "outputs": [
    {
     "data": {
      "text/plain": [
       "numpy.ndarray"
      ]
     },
     "execution_count": 168,
     "metadata": {},
     "output_type": "execute_result"
    }
   ],
   "source": [
    "tfidf=tfidf.toarray()\n",
    "type(tfidf)"
   ]
  },
  {
   "cell_type": "code",
   "execution_count": 242,
   "metadata": {},
   "outputs": [
    {
     "data": {
      "text/plain": [
       "(3134, 2048)"
      ]
     },
     "execution_count": 242,
     "metadata": {},
     "output_type": "execute_result"
    }
   ],
   "source": [
    "tfidf.shape"
   ]
  },
  {
   "cell_type": "code",
   "execution_count": 243,
   "metadata": {},
   "outputs": [],
   "source": [
    "words=vectorizer.get_feature_names()"
   ]
  },
  {
   "cell_type": "code",
   "execution_count": 284,
   "metadata": {},
   "outputs": [
    {
     "data": {
      "text/plain": [
       "2048"
      ]
     },
     "execution_count": 284,
     "metadata": {},
     "output_type": "execute_result"
    }
   ],
   "source": [
    "len(words)"
   ]
  },
  {
   "cell_type": "code",
   "execution_count": 293,
   "metadata": {},
   "outputs": [
    {
     "name": "stdout",
     "output_type": "stream",
     "text": [
      "radiobiology - 0.4814724882641371\n",
      "dose - 0.4814724882641371\n",
      "low - 0.3840225034826804\n",
      "microbeam - 0.4814724882641371\n",
      "biological - 0.3362821357588203\n",
      "biological - 0.3362821357588203\n",
      "biological - 0.3362821357588203\n",
      "low - 0.3840225034826804\n",
      "biological - 0.3362821357588203\n",
      "biological - 0.3362821357588203\n",
      "biological - 0.3362821357588203\n",
      "biological - 0.3362821357588203\n",
      "biological - 0.3362821357588203\n",
      "low - 0.3840225034826804\n",
      "biological - 0.3362821357588203\n",
      "biological - 0.3362821357588203\n",
      "biological - 0.3362821357588203\n",
      "biological - 0.3362821357588203\n",
      "biological - 0.3362821357588203\n",
      "biological - 0.3362821357588203\n",
      "biological - 0.3362821357588203\n",
      "biological - 0.3362821357588203\n",
      "biological - 0.3362821357588203\n",
      "biological - 0.3362821357588203\n",
      "low - 0.3840225034826804\n",
      "biological - 0.3362821357588203\n",
      "biological - 0.3362821357588203\n",
      "biological - 0.3362821357588203\n",
      "biological - 0.3362821357588203\n",
      "low - 0.3840225034826804\n",
      "biological - 0.3362821357588203\n",
      "low - 0.3840225034826804\n",
      "biological - 0.3362821357588203\n",
      "dose - 0.4814724882641371\n",
      "low - 0.3840225034826804\n",
      "biological - 0.3362821357588203\n",
      "biological - 0.3362821357588203\n",
      "low - 0.3840225034826804\n",
      "low - 0.3840225034826804\n",
      "low - 0.3840225034826804\n",
      "microbeam - 0.4814724882641371\n",
      "biological - 0.3362821357588203\n",
      "low - 0.3840225034826804\n",
      "low - 0.3840225034826804\n",
      "radiobiology - 0.4814724882641371\n",
      "low - 0.3840225034826804\n",
      "biological - 0.3362821357588203\n",
      "low - 0.3840225034826804\n",
      "biological - 0.3362821357588203\n",
      "biological - 0.3362821357588203\n",
      "biological - 0.3362821357588203\n",
      "biological - 0.3362821357588203\n"
     ]
    }
   ],
   "source": [
    "for col in tfidf.nonzero()[1]:\n",
    "    if tfidf[0,col] > 0.3:\n",
    "        print (words[col], '-', tfidf[0,col])"
   ]
  },
  {
   "cell_type": "code",
   "execution_count": 173,
   "metadata": {},
   "outputs": [],
   "source": [
    "%matplotlib inline\n",
    "import matplotlib.pyplot as plt"
   ]
  },
  {
   "cell_type": "code",
   "execution_count": 182,
   "metadata": {},
   "outputs": [
    {
     "data": {
      "image/png": "[encoded data removed]",
      "text/plain": [
       "<Figure size 1440x288 with 1 Axes>"
      ]
     },
     "metadata": {
      "needs_background": "light"
     },
     "output_type": "display_data"
    }
   ],
   "source": [
    "plt.figure(figsize=(20,4))\n",
    "_=plt.imshow(tfidf)"
   ]
  },
  {
   "cell_type": "code",
   "execution_count": 186,
   "metadata": {},
   "outputs": [
    {
     "data": {
      "text/plain": [
       "(array([   0,    0,    0, ..., 3132, 3132, 3133], dtype=int64),\n",
       " array([ 217,  552,  746, ..., 1298, 1300,  369], dtype=int64))"
      ]
     },
     "execution_count": 186,
     "metadata": {},
     "output_type": "execute_result"
    }
   ],
   "source": [
    "np.nonzero(tfidf)"
   ]
  },
  {
   "cell_type": "markdown",
   "metadata": {},
   "source": [
    "# Group project based on low or high total project costs"
   ]
  },
  {
   "cell_type": "code",
   "execution_count": 192,
   "metadata": {},
   "outputs": [
    {
     "data": {
      "text/plain": [
       "(11852, 58435136, 1473472.2000638163)"
      ]
     },
     "execution_count": 192,
     "metadata": {},
     "output_type": "execute_result"
    }
   ],
   "source": [
    "df.total_project_costs.min(),df.total_project_costs.max(),df.total_project_costs.mean()"
   ]
  },
  {
   "cell_type": "code",
   "execution_count": 195,
   "metadata": {},
   "outputs": [
    {
     "data": {
      "text/plain": [
       "312     False\n",
       "268      True\n",
       "267      True\n",
       "179      True\n",
       "180      True\n",
       "        ...  \n",
       "3102    False\n",
       "3091    False\n",
       "3132     True\n",
       "3131     True\n",
       "3133     True\n",
       "Name: total_project_costs, Length: 3134, dtype: bool"
      ]
     },
     "execution_count": 195,
     "metadata": {},
     "output_type": "execute_result"
    }
   ],
   "source": [
    "df['total_project_costs'] > df.total_project_costs.mean()"
   ]
  },
  {
   "cell_type": "code",
   "execution_count": 198,
   "metadata": {},
   "outputs": [],
   "source": [
    "df[\"y\"] = (df['total_project_costs'] > df.total_project_costs.mean()).astype(int)"
   ]
  },
  {
   "cell_type": "markdown",
   "metadata": {},
   "source": [
    "# Model"
   ]
  },
  {
   "cell_type": "code",
   "execution_count": 200,
   "metadata": {},
   "outputs": [],
   "source": [
    "from sklearn.model_selection import train_test_split"
   ]
  },
  {
   "cell_type": "code",
   "execution_count": 201,
   "metadata": {},
   "outputs": [],
   "source": [
    "x=tfidf\n",
    "y=df['y']"
   ]
  },
  {
   "cell_type": "code",
   "execution_count": 202,
   "metadata": {},
   "outputs": [],
   "source": [
    "x_train,x_test,y_train,y_test =train_test_split(x,y)"
   ]
  },
  {
   "cell_type": "code",
   "execution_count": 203,
   "metadata": {},
   "outputs": [
    {
     "data": {
      "text/plain": [
       "(2350, 784)"
      ]
     },
     "execution_count": 203,
     "metadata": {},
     "output_type": "execute_result"
    }
   ],
   "source": [
    "len(x_train),len(x_test)"
   ]
  },
  {
   "cell_type": "code",
   "execution_count": 208,
   "metadata": {},
   "outputs": [
    {
     "data": {
      "text/plain": [
       "((2350, 2048), (2350,))"
      ]
     },
     "execution_count": 208,
     "metadata": {},
     "output_type": "execute_result"
    }
   ],
   "source": [
    "x_train.shape,y_train.shape"
   ]
  },
  {
   "cell_type": "code",
   "execution_count": 209,
   "metadata": {},
   "outputs": [],
   "source": [
    "from sklearn.linear_model import LogisticRegression"
   ]
  },
  {
   "cell_type": "code",
   "execution_count": 211,
   "metadata": {},
   "outputs": [],
   "source": [
    "model = LogisticRegression()"
   ]
  },
  {
   "cell_type": "code",
   "execution_count": 212,
   "metadata": {},
   "outputs": [
    {
     "data": {
      "text/plain": [
       "LogisticRegression()"
      ]
     },
     "execution_count": 212,
     "metadata": {},
     "output_type": "execute_result"
    }
   ],
   "source": [
    "model.fit(x_train,y_train)"
   ]
  },
  {
   "cell_type": "code",
   "execution_count": 305,
   "metadata": {},
   "outputs": [
    {
     "data": {
      "text/plain": [
       "array([[0.94442529, 0.05557471],\n",
       "       [0.89318152, 0.10681848],\n",
       "       [0.79093899, 0.20906101],\n",
       "       ...,\n",
       "       [0.87854455, 0.12145545],\n",
       "       [0.89583721, 0.10416279],\n",
       "       [0.85442332, 0.14557668]])"
      ]
     },
     "execution_count": 305,
     "metadata": {},
     "output_type": "execute_result"
    }
   ],
   "source": [
    "model.predict_proba(x_test)"
   ]
  },
  {
   "cell_type": "code",
   "execution_count": 306,
   "metadata": {},
   "outputs": [
    {
     "data": {
      "text/plain": [
       "312     0\n",
       "268     1\n",
       "267     1\n",
       "179     1\n",
       "180     1\n",
       "       ..\n",
       "3102    0\n",
       "3091    0\n",
       "3132    1\n",
       "3131    1\n",
       "3133    1\n",
       "Name: y, Length: 3134, dtype: int32"
      ]
     },
     "execution_count": 306,
     "metadata": {},
     "output_type": "execute_result"
    }
   ],
   "source": [
    "y"
   ]
  },
  {
   "cell_type": "code",
   "execution_count": 215,
   "metadata": {},
   "outputs": [],
   "source": [
    "y_predict =[int(p[1] >0.5) for p in model.predict_proba(x_test)]"
   ]
  },
  {
   "cell_type": "code",
   "execution_count": 218,
   "metadata": {},
   "outputs": [
    {
     "data": {
      "text/plain": [
       "array([[-0.09669341,  0.21252943,  0.73956615, ..., -0.02728564,\n",
       "        -0.30308129,  0.7743805 ]])"
      ]
     },
     "execution_count": 218,
     "metadata": {},
     "output_type": "execute_result"
    }
   ],
   "source": [
    "model.coef_"
   ]
  },
  {
   "cell_type": "code",
   "execution_count": 219,
   "metadata": {},
   "outputs": [
    {
     "data": {
      "text/plain": [
       "(1, 2048)"
      ]
     },
     "execution_count": 219,
     "metadata": {},
     "output_type": "execute_result"
    }
   ],
   "source": [
    "model.coef_.shape"
   ]
  },
  {
   "cell_type": "code",
   "execution_count": 220,
   "metadata": {},
   "outputs": [],
   "source": [
    "coef = model.coef_.reshape(-1)"
   ]
  },
  {
   "cell_type": "code",
   "execution_count": 222,
   "metadata": {},
   "outputs": [
    {
     "data": {
      "text/plain": [
       "(2048,)"
      ]
     },
     "execution_count": 222,
     "metadata": {},
     "output_type": "execute_result"
    }
   ],
   "source": [
    "coef.shape"
   ]
  },
  {
   "cell_type": "code",
   "execution_count": 223,
   "metadata": {},
   "outputs": [
    {
     "data": {
      "text/plain": [
       "312"
      ]
     },
     "execution_count": 223,
     "metadata": {},
     "output_type": "execute_result"
    }
   ],
   "source": [
    "np.argmax(coef)"
   ]
  },
  {
   "cell_type": "code",
   "execution_count": 227,
   "metadata": {},
   "outputs": [],
   "source": [
    "idx = np.argsort(coef)[-10:]"
   ]
  },
  {
   "cell_type": "code",
   "execution_count": 231,
   "metadata": {},
   "outputs": [
    {
     "data": {
      "text/plain": [
       "array([ 648, 1264,  635, 1848, 1502,   43,  946,  278,  534,  312],\n",
       "      dtype=int64)"
      ]
     },
     "execution_count": 231,
     "metadata": {},
     "output_type": "execute_result"
    }
   ],
   "source": [
    "idx"
   ]
  },
  {
   "cell_type": "code",
   "execution_count": 229,
   "metadata": {},
   "outputs": [
    {
     "data": {
      "text/plain": [
       "'centre'"
      ]
     },
     "execution_count": 229,
     "metadata": {},
     "output_type": "execute_result"
    }
   ],
   "source": [
    "words[312]"
   ]
  },
  {
   "cell_type": "code",
   "execution_count": 232,
   "metadata": {},
   "outputs": [],
   "source": [
    "words=np.array(words)"
   ]
  },
  {
   "cell_type": "code",
   "execution_count": 233,
   "metadata": {},
   "outputs": [
    {
     "data": {
      "text/plain": [
       "array(['epigenetics', 'national', 'enhancing', 'technologies', 'program',\n",
       "       'advanced', 'innovation', 'canadian', 'disease', 'centre'],\n",
       "      dtype='<U20')"
      ]
     },
     "execution_count": 233,
     "metadata": {},
     "output_type": "execute_result"
    }
   ],
   "source": [
    "words[idx]"
   ]
  },
  {
   "cell_type": "code",
   "execution_count": null,
   "metadata": {},
   "outputs": [],
   "source": []
  }
 ],
 "metadata": {
  "kernelspec": {
   "display_name": "Python 3",
   "language": "python",
   "name": "python3"
  },
  "language_info": {
   "codemirror_mode": {
    "name": "ipython",
    "version": 3
   },
   "file_extension": ".py",
   "mimetype": "text/x-python",
   "name": "python",
   "nbconvert_exporter": "python",
   "pygments_lexer": "ipython3",
   "version": "3.8.3"
  }
 },
 "nbformat": 4,
 "nbformat_minor": 4
}

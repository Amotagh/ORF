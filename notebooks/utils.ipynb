{
 "cells": [
  {
   "cell_type": "code",
   "execution_count": 1,
   "id": "088e5383",
   "metadata": {},
   "outputs": [],
   "source": [
    "from joblib import dump,load"
   ]
  },
  {
   "cell_type": "code",
   "execution_count": 11,
   "id": "1e39c4d6",
   "metadata": {},
   "outputs": [],
   "source": [
    "def load_model(tfidf_filename,model_filename):\n",
    "    model_tfidf=load(open('../models/model_tfidf.joblib', 'rb'))\n",
    "    model_logistic=load(open('../models/model.joblib', 'rb'))\n",
    "    return model_tfidf, model_logistic"
   ]
  },
  {
   "cell_type": "code",
   "execution_count": 8,
   "id": "d172e3aa",
   "metadata": {},
   "outputs": [],
   "source": [
    "test=['Establishment of the Intelligent Visualization Laboratory']"
   ]
  },
  {
   "cell_type": "code",
   "execution_count": 10,
   "id": "fad20d9b",
   "metadata": {},
   "outputs": [
    {
     "ename": "NameError",
     "evalue": "name 'model_tfidf' is not defined",
     "output_type": "error",
     "traceback": [
      "\u001b[1;31m---------------------------------------------------------------------------\u001b[0m",
      "\u001b[1;31mNameError\u001b[0m                                 Traceback (most recent call last)",
      "Input \u001b[1;32mIn [10]\u001b[0m, in \u001b[0;36m<cell line: 1>\u001b[1;34m()\u001b[0m\n\u001b[1;32m----> 1\u001b[0m test1\u001b[38;5;241m=\u001b[39m\u001b[43mmodel_tfidf\u001b[49m\u001b[38;5;241m.\u001b[39mtransform(test)\n\u001b[0;32m      2\u001b[0m \u001b[38;5;28mprint\u001b[39m(test1)\n",
      "\u001b[1;31mNameError\u001b[0m: name 'model_tfidf' is not defined"
     ]
    }
   ],
   "source": [
    "test1=model_tfidf.transform(test)\n",
    "print(test1)"
   ]
  },
  {
   "cell_type": "code",
   "execution_count": 6,
   "id": "d4db235f",
   "metadata": {},
   "outputs": [
    {
     "ename": "TypeError",
     "evalue": "load() missing 1 required positional argument: 'model_filename'",
     "output_type": "error",
     "traceback": [
      "\u001b[1;31m---------------------------------------------------------------------------\u001b[0m",
      "\u001b[1;31mTypeError\u001b[0m                                 Traceback (most recent call last)",
      "Input \u001b[1;32mIn [6]\u001b[0m, in \u001b[0;36m<cell line: 1>\u001b[1;34m()\u001b[0m\n\u001b[1;32m----> 1\u001b[0m model_tfidf\u001b[38;5;241m=\u001b[39m\u001b[43mload\u001b[49m\u001b[43m(\u001b[49m\u001b[38;5;28;43mopen\u001b[39;49m\u001b[43m(\u001b[49m\u001b[38;5;124;43m\"\u001b[39;49m\u001b[38;5;124;43m../models/model_tfidf.joblib\u001b[39;49m\u001b[38;5;124;43m\"\u001b[39;49m\u001b[43m)\u001b[49m\u001b[43m)\u001b[49m\n",
      "\u001b[1;31mTypeError\u001b[0m: load() missing 1 required positional argument: 'model_filename'"
     ]
    }
   ],
   "source": [
    "model_input1=load(open('../models/model_tfidf2.joblib', 'rb'))\n",
    "model_tfidf=load(open(\"../models/model_tfidf.joblib\"))"
   ]
  },
  {
   "cell_type": "code",
   "execution_count": null,
   "id": "e70b0fd2",
   "metadata": {},
   "outputs": [],
   "source": [
    "open(\"../models/td_idf.pickle\", \"rb\")"
   ]
  },
  {
   "cell_type": "code",
   "execution_count": null,
   "id": "91c3f8be",
   "metadata": {},
   "outputs": [],
   "source": [
    "@app.route(\"/\",methods=['GET','POST'])\n",
    "def hello_world():\n",
    "    request_type_str=request.method\n",
    "    if request_type_str == 'GET':\n",
    "        return render_template('index.html')\n",
    "    else:\n",
    "        text=request.form['text']\n",
    "        model_tfidf=load('model_tfidf.joblib')\n",
    "        data=model_tfidf.transform(text)\n",
    "        model_logistic=load('model.joblib')\n",
    "        pred = model_logistic.predict (data)\n",
    "        if pred[0] == 0:\n",
    "             return render_template('index0.html')  \n",
    "        else:\n",
    "             return render_template('index1.html')"
   ]
  },
  {
   "cell_type": "code",
   "execution_count": null,
   "id": "f22553f3",
   "metadata": {},
   "outputs": [],
   "source": [
    "#from src.preprocess import clean_text"
   ]
  }
 ],
 "metadata": {
  "kernelspec": {
   "display_name": "Python 3 (ipykernel)",
   "language": "python",
   "name": "python3"
  },
  "language_info": {
   "codemirror_mode": {
    "name": "ipython",
    "version": 3
   },
   "file_extension": ".py",
   "mimetype": "text/x-python",
   "name": "python",
   "nbconvert_exporter": "python",
   "pygments_lexer": "ipython3",
   "version": "3.9.12"
  }
 },
 "nbformat": 4,
 "nbformat_minor": 5
}
